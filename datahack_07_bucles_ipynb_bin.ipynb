{
  "nbformat": 4,
  "nbformat_minor": 0,
  "metadata": {
    "colab": {
      "name": "datahack-07-bucles.ipynb.bin",
      "provenance": [],
      "collapsed_sections": [],
      "include_colab_link": true
    },
    "kernelspec": {
      "display_name": "Python 3",
      "language": "python",
      "name": "python3"
    },
    "language_info": {
      "codemirror_mode": {
        "name": "ipython",
        "version": 3
      },
      "file_extension": ".py",
      "mimetype": "text/x-python",
      "name": "python",
      "nbconvert_exporter": "python",
      "pygments_lexer": "ipython3",
      "version": "3.7.4"
    }
  },
  "cells": [
    {
      "cell_type": "markdown",
      "metadata": {
        "id": "view-in-github",
        "colab_type": "text"
      },
      "source": [
        "<a href=\"https://colab.research.google.com/github/Luis-Amagua/Python_para_todos_curso/blob/main/datahack_07_bucles_ipynb_bin.ipynb\" target=\"_parent\"><img src=\"https://colab.research.google.com/assets/colab-badge.svg\" alt=\"Open In Colab\"/></a>"
      ]
    },
    {
      "cell_type": "markdown",
      "metadata": {
        "id": "Z0D1aWhDIOll"
      },
      "source": [
        "# Datahack - Estructuras iterativas\n"
      ]
    },
    {
      "cell_type": "markdown",
      "metadata": {
        "id": "aCk014leoLCD"
      },
      "source": [
        "# Bucles"
      ]
    },
    {
      "cell_type": "markdown",
      "metadata": {
        "id": "sJv7k_6mtrNL"
      },
      "source": [
        "## while\n",
        "\n",
        "```\n",
        "while condicion:\n",
        "    bloque de codigo a repetir\n",
        "```"
      ]
    },
    {
      "cell_type": "markdown",
      "metadata": {
        "id": "n5kzRJEVrlvp"
      },
      "source": [
        "Imprimir los números enteros menores a 10"
      ]
    },
    {
      "cell_type": "code",
      "metadata": {
        "id": "GQ5HBLz1A9nh",
        "colab": {
          "base_uri": "https://localhost:8080/"
        },
        "outputId": "8574d770-71da-4196-86cc-74cf7871077b"
      },
      "source": [
        "numero = 1\n",
        "\n",
        "while numero < 10:\n",
        "\n",
        "    print(numero)\n",
        "    numero = numero + 1"
      ],
      "execution_count": null,
      "outputs": [
        {
          "output_type": "stream",
          "name": "stdout",
          "text": [
            "1\n",
            "2\n",
            "3\n",
            "4\n",
            "5\n",
            "6\n",
            "7\n",
            "8\n",
            "9\n"
          ]
        }
      ]
    },
    {
      "cell_type": "code",
      "metadata": {
        "id": "DgUnMIsvA9aJ",
        "colab": {
          "base_uri": "https://localhost:8080/",
          "height": 34
        },
        "outputId": "fdd806d9-5345-465b-85c1-bda2e354ecf2"
      },
      "source": [
        "numero"
      ],
      "execution_count": null,
      "outputs": [
        {
          "output_type": "execute_result",
          "data": {
            "text/plain": [
              "10"
            ]
          },
          "metadata": {
            "tags": []
          },
          "execution_count": 46
        }
      ]
    },
    {
      "cell_type": "markdown",
      "metadata": {
        "id": "oitAu0YyFmRm"
      },
      "source": [
        "## bucles infinitos"
      ]
    },
    {
      "cell_type": "code",
      "metadata": {
        "id": "GkWf7gMfFoXS"
      },
      "source": [
        "numero = 1\n",
        "\n",
        "while numero < 10:\n",
        "\n",
        "    print(numero)\n",
        "    # numero = numero + 1 "
      ],
      "execution_count": null,
      "outputs": []
    },
    {
      "cell_type": "markdown",
      "metadata": {
        "id": "GVr8TBcdnmoj"
      },
      "source": [
        "## flags de salida"
      ]
    },
    {
      "cell_type": "markdown",
      "metadata": {
        "id": "Nfoofmd4npQJ"
      },
      "source": [
        "Calcular la suma de una cantidad de números enteros ingresados por el usuario"
      ]
    },
    {
      "cell_type": "code",
      "source": [
        "suma=0\n",
        "continuar = True # flag de salida o valores centinela\n",
        "\n",
        "while continuar:\n",
        "  input_usuario=input(\"Ingrese un numero ('exit' para terminar)\")\n",
        "  if input_usuario=='exit':\n",
        "    continuar=False\n",
        "  else:\n",
        "    numero=int (input(\"ingrese el numero\"))\n",
        "    suma=suma+numero\n",
        "    print(f\"la suma es{numero}\")\n",
        "print(f\"la suma final {suma}\")"
      ],
      "metadata": {
        "colab": {
          "base_uri": "https://localhost:8080/"
        },
        "id": "1KCtJ7kZmQvF",
        "outputId": "4d4cca92-d6a1-43ac-de22-f7d5d3f262cb"
      },
      "execution_count": null,
      "outputs": [
        {
          "output_type": "stream",
          "name": "stdout",
          "text": [
            "Ingrese un numero ('exit' para terminar)1\n",
            "ingrese el numero2\n",
            "la suma es2\n",
            "la suma final 2\n",
            "Ingrese un numero ('exit' para terminar)3\n",
            "ingrese el numero4\n",
            "la suma es4\n",
            "la suma final 6\n",
            "Ingrese un numero ('exit' para terminar)exit\n",
            "la suma final 6\n"
          ]
        }
      ]
    },
    {
      "cell_type": "code",
      "metadata": {
        "id": "PmgII_A8Hz6D",
        "colab": {
          "base_uri": "https://localhost:8080/",
          "height": 153
        },
        "outputId": "d92ca1b3-6d60-4ef5-9b7b-fae526edf90b"
      },
      "source": [
        "suma = 0\n",
        "continuar = True\n",
        "\n",
        "while continuar:\n",
        "\n",
        "    input_usuario = input(\"Ingrese un número ('exit' para terminar): \")\n",
        "\n",
        "    if input_usuario == 'exit':\n",
        "        continuar = False\n",
        "\n",
        "    else:\n",
        "        numero = int(input_usuario)\n",
        "        suma = suma + numero\n",
        "        print(f\"La suma es {suma}\")\n",
        "\n",
        "print(f\"La suma final es {suma}\")"
      ],
      "execution_count": null,
      "outputs": [
        {
          "output_type": "stream",
          "text": [
            "Ingrese un número ('exit' para terminar): 12\n",
            "La suma es 12\n",
            "Ingrese un número ('exit' para terminar): 34\n",
            "La suma es 46\n",
            "Ingrese un número ('exit' para terminar): 90\n",
            "La suma es 136\n",
            "Ingrese un número ('exit' para terminar): exit\n",
            "La suma final es 136\n"
          ],
          "name": "stdout"
        }
      ]
    },
    {
      "cell_type": "markdown",
      "metadata": {
        "id": "luJasvyArqkv"
      },
      "source": [
        "## break"
      ]
    },
    {
      "cell_type": "code",
      "metadata": {
        "id": "rikH5cw3SMby",
        "colab": {
          "base_uri": "https://localhost:8080/"
        },
        "outputId": "e4921805-f009-46ba-8bee-53f26f170e0a"
      },
      "source": [
        "numero = 1\n",
        "\n",
        "while numero < 10:\n",
        "\n",
        "    if numero == 5:\n",
        "        break\n",
        "        \n",
        "    print(numero)\n",
        "    numero = numero + 1"
      ],
      "execution_count": null,
      "outputs": [
        {
          "output_type": "stream",
          "name": "stdout",
          "text": [
            "1\n",
            "2\n",
            "3\n",
            "4\n"
          ]
        }
      ]
    },
    {
      "cell_type": "markdown",
      "metadata": {
        "id": "l2bdnVezSMUn"
      },
      "source": [
        "## continue"
      ]
    },
    {
      "cell_type": "code",
      "metadata": {
        "id": "T5y_lmy0SMNc",
        "colab": {
          "base_uri": "https://localhost:8080/"
        },
        "outputId": "898bcd0b-56b3-4c01-f59e-3c14e82cf871"
      },
      "source": [
        "numero = 0\n",
        "\n",
        "while numero < 10:\n",
        "\n",
        "    numero = numero + 1\n",
        "\n",
        "    if numero % 2 == 0:\n",
        "      print(\"continue\")\n",
        "      continue # no se imprime ese valor\n",
        "\n",
        "    print(numero)"
      ],
      "execution_count": null,
      "outputs": [
        {
          "output_type": "stream",
          "name": "stdout",
          "text": [
            "1\n",
            "continue\n",
            "3\n",
            "continue\n",
            "5\n",
            "continue\n",
            "7\n",
            "continue\n",
            "9\n",
            "continue\n"
          ]
        }
      ]
    },
    {
      "cell_type": "markdown",
      "metadata": {
        "id": "ywPQVFH-oUop"
      },
      "source": [
        "**Blackjack**\n",
        "\n",
        "El jugador obtiene una carta y va sumandolas hasta obtener el número 21 o el más cercano posible"
      ]
    },
    {
      "cell_type": "code",
      "metadata": {
        "id": "cBW2kcX4c7-T",
        "colab": {
          "base_uri": "https://localhost:8080/"
        },
        "outputId": "f034bb52-c39e-456b-b8a6-232941c10970"
      },
      "source": [
        "import random\n",
        "random.randint(1, 13)"
      ],
      "execution_count": null,
      "outputs": [
        {
          "output_type": "execute_result",
          "data": {
            "text/plain": [
              "10"
            ]
          },
          "metadata": {},
          "execution_count": 18
        }
      ]
    },
    {
      "cell_type": "code",
      "metadata": {
        "id": "KZHhc1Lwc72y",
        "colab": {
          "base_uri": "https://localhost:8080/"
        },
        "outputId": "0909f598-6802-4981-cd0f-c65084e50a33"
      },
      "source": [
        "suma = 0\n",
        "\n",
        "while suma <= 21:\n",
        "\n",
        "    carta = random.randint(1, 13)\n",
        "    suma = suma + carta\n",
        "\n",
        "    print(f\"La carta obtenida es {carta}\")\n",
        "    print(f\"La suma de cartas es {suma}\")\n",
        "\n",
        "    if suma == 21:\n",
        "        print(\"BLACKJACK!\")\n",
        "        break\n",
        "\n",
        "    elif suma > 21:\n",
        "        print(\"Perdiste :( \")\n",
        "        break\n",
        "\n",
        "    else:\n",
        "        opcion = input(\"Desea obtener otra carta? (S/N): \")\n",
        "        if opcion == \"N\":\n",
        "            print(f\"La suma final de cartas es {suma}\")\n",
        "            break\n",
        "        "
      ],
      "execution_count": null,
      "outputs": [
        {
          "output_type": "stream",
          "name": "stdout",
          "text": [
            "La carta obtenida es 6\n",
            "La suma de cartas es 6\n",
            "Desea obtener otra carta? (S/N): y\n",
            "La carta obtenida es 3\n",
            "La suma de cartas es 9\n",
            "Desea obtener otra carta? (S/N): y\n",
            "La carta obtenida es 3\n",
            "La suma de cartas es 12\n",
            "Desea obtener otra carta? (S/N): s\n",
            "La carta obtenida es 9\n",
            "La suma de cartas es 21\n",
            "BLACKJACK!\n"
          ]
        }
      ]
    },
    {
      "cell_type": "markdown",
      "metadata": {
        "id": "T0_bzmVloK7N"
      },
      "source": [
        "## for\n",
        "\n",
        "```\n",
        "for valor in 'lista de valores':\n",
        "    bloque de codigo para cada valor\n",
        "```"
      ]
    },
    {
      "cell_type": "markdown",
      "metadata": {
        "id": "Z46_Ey6Dj1pD"
      },
      "source": [
        "Escribir la letra de la canción Me gusta de Manu Chao"
      ]
    },
    {
      "cell_type": "code",
      "metadata": {
        "id": "8ySbsFxajdoB",
        "colab": {
          "base_uri": "https://localhost:8080/"
        },
        "outputId": "9140500b-5cd5-4712-b7ac-1e0c712460fb"
      },
      "source": [
        "gustos_manuchao = [\"los aviones\", \"viajar\", \"la mañana\", \"el viento\", \"soñar\", \"la mar\"]\n",
        "\n",
        "for gusto in gustos_manuchao:\n",
        "  \n",
        "    print(f\"Me gusta {gusto}, me gustas tú\")"
      ],
      "execution_count": null,
      "outputs": [
        {
          "output_type": "stream",
          "name": "stdout",
          "text": [
            "Me gusta los aviones, me gustas tú\n",
            "Me gusta viajar, me gustas tú\n",
            "Me gusta la mañana, me gustas tú\n",
            "Me gusta el viento, me gustas tú\n",
            "Me gusta soñar, me gustas tú\n",
            "Me gusta la mar, me gustas tú\n"
          ]
        }
      ]
    },
    {
      "cell_type": "markdown",
      "metadata": {
        "id": "EG-awdXNzv52"
      },
      "source": [
        "## zip"
      ]
    },
    {
      "cell_type": "code",
      "metadata": {
        "id": "Wp7CwEzkygZL"
      },
      "source": [
        "nombres = [\"Mark Zuckerberg\", \"Jack Dorsey\", \"Steve Jobs\", \"Bill Gates\"] \n",
        "empresas = [\"Facebook\", \"Twitter\", \"Apple\", \"Microsoft\"]\n",
        "precio_accion = [24.7, 293.6, 499.2, 228.2]"
      ],
      "execution_count": null,
      "outputs": []
    },
    {
      "cell_type": "code",
      "metadata": {
        "id": "uEWBWFe6m06Z",
        "colab": {
          "base_uri": "https://localhost:8080/",
          "height": 85
        },
        "outputId": "291f54ac-1296-4715-ccb5-562afb6a3e6c"
      },
      "source": [
        "for nombre in nombres:\n",
        "    print(nombre)"
      ],
      "execution_count": null,
      "outputs": [
        {
          "output_type": "stream",
          "text": [
            "Mark Zuckerberg\n",
            "Jack Dorsey\n",
            "Steve Jobs\n",
            "Bill Gates\n"
          ],
          "name": "stdout"
        }
      ]
    },
    {
      "cell_type": "code",
      "metadata": {
        "id": "Gcrzjp2um0yt",
        "colab": {
          "base_uri": "https://localhost:8080/",
          "height": 85
        },
        "outputId": "709b4f67-7e78-4ad0-8cc3-bfb1326df648"
      },
      "source": [
        "for variable in zip(nombres, empresas):\n",
        "    print(variable)"
      ],
      "execution_count": null,
      "outputs": [
        {
          "output_type": "stream",
          "text": [
            "('Mark Zuckerberg', 'Facebook')\n",
            "('Jack Dorsey', 'Twitter')\n",
            "('Steve Jobs', 'Apple')\n",
            "('Bill Gates', 'Microsoft')\n"
          ],
          "name": "stdout"
        }
      ]
    },
    {
      "cell_type": "code",
      "metadata": {
        "id": "jw6FYMoim0nn",
        "colab": {
          "base_uri": "https://localhost:8080/",
          "height": 85
        },
        "outputId": "a8f22de5-5b9e-412e-dee3-ffe5a642d23c"
      },
      "source": [
        "for nombre, empresa in zip(nombres, empresas):\n",
        "    print(f\"{nombre} fundó {empresa}\")"
      ],
      "execution_count": null,
      "outputs": [
        {
          "output_type": "stream",
          "text": [
            "Mark Zuckerberg fundó Facebook\n",
            "Jack Dorsey fundó Twitter\n",
            "Steve Jobs fundó Apple\n",
            "Bill Gates fundó Microsoft\n"
          ],
          "name": "stdout"
        }
      ]
    },
    {
      "cell_type": "code",
      "metadata": {
        "id": "NjgzLKTrmkcn",
        "colab": {
          "base_uri": "https://localhost:8080/",
          "height": 85
        },
        "outputId": "cc7db05b-1a92-4eee-a5b4-388451a2b63b"
      },
      "source": [
        "for nombre, empresa, precio in zip(nombres, empresas, precio_accion):\n",
        "    print(f\"{nombre} fundó {empresa}. La accion tiene un precio de ${precio}\")"
      ],
      "execution_count": null,
      "outputs": [
        {
          "output_type": "stream",
          "text": [
            "Mark Zuckerberg fundó Facebook. La accion tiene un precio de $24.7\n",
            "Jack Dorsey fundó Twitter. La accion tiene un precio de $293.6\n",
            "Steve Jobs fundó Apple. La accion tiene un precio de $499.2\n",
            "Bill Gates fundó Microsoft. La accion tiene un precio de $228.2\n"
          ],
          "name": "stdout"
        }
      ]
    },
    {
      "cell_type": "markdown",
      "metadata": {
        "id": "krnZUFJ-zL5i"
      },
      "source": [
        "## range"
      ]
    },
    {
      "cell_type": "code",
      "metadata": {
        "id": "QCRn5jPBob1l",
        "colab": {
          "base_uri": "https://localhost:8080/",
          "height": 34
        },
        "outputId": "81f832bd-c292-495a-bb25-6d4c82beae60"
      },
      "source": [
        "list(range(1, 10, 2))"
      ],
      "execution_count": null,
      "outputs": [
        {
          "output_type": "execute_result",
          "data": {
            "text/plain": [
              "[1, 3, 5, 7, 9]"
            ]
          },
          "metadata": {
            "tags": []
          },
          "execution_count": 98
        }
      ]
    },
    {
      "cell_type": "code",
      "metadata": {
        "id": "quYdxn-7obm-",
        "colab": {
          "base_uri": "https://localhost:8080/",
          "height": 136
        },
        "outputId": "83ae0966-a47c-4662-be31-b88d2d9c1b99"
      },
      "source": [
        "for numero in range(1, 20, 3):\n",
        "    print(numero)"
      ],
      "execution_count": null,
      "outputs": [
        {
          "output_type": "stream",
          "text": [
            "1\n",
            "4\n",
            "7\n",
            "10\n",
            "13\n",
            "16\n",
            "19\n"
          ],
          "name": "stdout"
        }
      ]
    },
    {
      "cell_type": "code",
      "metadata": {
        "id": "ey4lsICsobfV",
        "colab": {
          "base_uri": "https://localhost:8080/",
          "height": 34
        },
        "outputId": "4f63deca-9c68-489a-91ad-d73316026484"
      },
      "source": [
        "cuadrados = []\n",
        "\n",
        "for numero in range(1, 20, 3):\n",
        "    cuadrados.append(numero ** 2)\n",
        "\n",
        "cuadrados"
      ],
      "execution_count": null,
      "outputs": [
        {
          "output_type": "execute_result",
          "data": {
            "text/plain": [
              "[1, 16, 49, 100, 169, 256, 361]"
            ]
          },
          "metadata": {
            "tags": []
          },
          "execution_count": 100
        }
      ]
    },
    {
      "cell_type": "code",
      "metadata": {
        "id": "jFutUb8Bobds",
        "colab": {
          "base_uri": "https://localhost:8080/",
          "height": 34
        },
        "outputId": "8e9dc489-80bb-4bfe-f90d-4bfb38f7d612"
      },
      "source": [
        "list(range(100, 50, -7))"
      ],
      "execution_count": null,
      "outputs": [
        {
          "output_type": "execute_result",
          "data": {
            "text/plain": [
              "[100, 93, 86, 79, 72, 65, 58, 51]"
            ]
          },
          "metadata": {
            "tags": []
          },
          "execution_count": 101
        }
      ]
    },
    {
      "cell_type": "markdown",
      "metadata": {
        "id": "nn4zM1SsB_75"
      },
      "source": [
        "## compresión de listas"
      ]
    },
    {
      "cell_type": "code",
      "metadata": {
        "id": "P8Zux4q3p5u-",
        "colab": {
          "base_uri": "https://localhost:8080/",
          "height": 34
        },
        "outputId": "85350973-a7b8-4ef7-9847-517fb4c2d54e"
      },
      "source": [
        "cuadrados = []\n",
        "\n",
        "for numero in range(1, 10):\n",
        "    cuadrados.append(numero ** 2)\n",
        "\n",
        "cuadrados"
      ],
      "execution_count": null,
      "outputs": [
        {
          "output_type": "execute_result",
          "data": {
            "text/plain": [
              "[1, 4, 9, 16, 25, 36, 49, 64, 81]"
            ]
          },
          "metadata": {
            "tags": []
          },
          "execution_count": 102
        }
      ]
    },
    {
      "cell_type": "code",
      "metadata": {
        "id": "p1CndNaUp985",
        "colab": {
          "base_uri": "https://localhost:8080/",
          "height": 34
        },
        "outputId": "5e633b23-e099-44eb-b6cc-80e7b88004cf"
      },
      "source": [
        "cuadrados = [numero ** 2 for numero in range(1,10)]\n",
        "cuadrados"
      ],
      "execution_count": null,
      "outputs": [
        {
          "output_type": "execute_result",
          "data": {
            "text/plain": [
              "[1, 4, 9, 16, 25, 36, 49, 64, 81]"
            ]
          },
          "metadata": {
            "tags": []
          },
          "execution_count": 103
        }
      ]
    },
    {
      "cell_type": "code",
      "metadata": {
        "id": "EEuMMCOzqALQ",
        "colab": {
          "base_uri": "https://localhost:8080/",
          "height": 34
        },
        "outputId": "e9835335-824e-41fd-eefb-d6e47d4a76d9"
      },
      "source": [
        "cuadrados = []\n",
        "\n",
        "for numero in range(1, 10):\n",
        "\n",
        "    if numero % 2 == 0:\n",
        "        cuadrados.append(numero ** 2)\n",
        "\n",
        "cuadrados"
      ],
      "execution_count": null,
      "outputs": [
        {
          "output_type": "execute_result",
          "data": {
            "text/plain": [
              "[4, 16, 36, 64]"
            ]
          },
          "metadata": {
            "tags": []
          },
          "execution_count": 104
        }
      ]
    },
    {
      "cell_type": "code",
      "metadata": {
        "id": "0lClAEvtqAAz",
        "colab": {
          "base_uri": "https://localhost:8080/",
          "height": 34
        },
        "outputId": "4c96385b-daa0-423f-d1ff-7b08b9043044"
      },
      "source": [
        "cuadrados = [numero ** 2 for numero in range(1,10) if numero % 2 == 0]\n",
        "cuadrados"
      ],
      "execution_count": null,
      "outputs": [
        {
          "output_type": "execute_result",
          "data": {
            "text/plain": [
              "[4, 16, 36, 64]"
            ]
          },
          "metadata": {
            "tags": []
          },
          "execution_count": 105
        }
      ]
    },
    {
      "cell_type": "markdown",
      "source": [
        "colecciones y bucles\n"
      ],
      "metadata": {
        "id": "bfSKipnMz8iq"
      }
    },
    {
      "cell_type": "code",
      "source": [
        "empresas=[\"facebook\",\"Twitter\",\"Apple\",\"Microsoft\"]\n",
        "precio_accion=[24.7, 293.6, 499.2, 228.2]\n",
        "\n",
        "dict_acciones={}\n",
        "\n",
        "for empresa, precio in zip (empresas,precio_accion):\n",
        "  dict_acciones[empresa]=precio\n",
        "\n",
        "dict_acciones\n",
        "\n"
      ],
      "metadata": {
        "colab": {
          "base_uri": "https://localhost:8080/"
        },
        "id": "vmR-OSAj0BW1",
        "outputId": "7a489f7b-6919-4b13-a155-e3b1a08969a7"
      },
      "execution_count": null,
      "outputs": [
        {
          "output_type": "execute_result",
          "data": {
            "text/plain": [
              "{'Apple': 499.2, 'Microsoft': 228.2, 'Twitter': 293.6, 'facebook': 24.7}"
            ]
          },
          "metadata": {},
          "execution_count": 23
        }
      ]
    },
    {
      "cell_type": "code",
      "source": [
        "dict_acciones={empresa:precio for empresa, precio in zip (empresas,precio_accion) }\n",
        "dict_acciones"
      ],
      "metadata": {
        "colab": {
          "base_uri": "https://localhost:8080/"
        },
        "id": "w0UMO9ce3Rbp",
        "outputId": "eff39304-5859-4568-8706-003478058240"
      },
      "execution_count": null,
      "outputs": [
        {
          "output_type": "execute_result",
          "data": {
            "text/plain": [
              "{'Apple': 499.2, 'Microsoft': 228.2, 'Twitter': 293.6, 'facebook': 24.7}"
            ]
          },
          "metadata": {},
          "execution_count": 24
        }
      ]
    },
    {
      "cell_type": "code",
      "source": [
        ""
      ],
      "metadata": {
        "id": "O6Ij8iui3dmB"
      },
      "execution_count": null,
      "outputs": []
    },
    {
      "cell_type": "markdown",
      "metadata": {
        "id": "-M7zVMfGoKh9"
      },
      "source": [
        "## enumerate"
      ]
    },
    {
      "cell_type": "code",
      "metadata": {
        "id": "cJ8o7EYxoKgs",
        "colab": {
          "base_uri": "https://localhost:8080/"
        },
        "outputId": "8f6ba3c5-5769-452e-c50b-7782d08c55c6"
      },
      "source": [
        "lista_compras = [\"naranjas\", \"manzanas\", \"peras\", \"uvas\"]\n",
        "\n",
        "for fruta in lista_compras:\n",
        "    print(fruta)"
      ],
      "execution_count": null,
      "outputs": [
        {
          "output_type": "stream",
          "name": "stdout",
          "text": [
            "naranjas\n",
            "manzanas\n",
            "peras\n",
            "uvas\n"
          ]
        }
      ]
    },
    {
      "cell_type": "code",
      "metadata": {
        "id": "ejNfy-wYrpLc",
        "colab": {
          "base_uri": "https://localhost:8080/"
        },
        "outputId": "63c3e1a0-51f5-4bcd-da4c-ccbb836a7973"
      },
      "source": [
        "for variable in enumerate(lista_compras):\n",
        "    print(variable)"
      ],
      "execution_count": null,
      "outputs": [
        {
          "output_type": "stream",
          "name": "stdout",
          "text": [
            "(0, 'naranjas')\n",
            "(1, 'manzanas')\n",
            "(2, 'peras')\n",
            "(3, 'uvas')\n"
          ]
        }
      ]
    },
    {
      "cell_type": "code",
      "metadata": {
        "id": "4ok9SoEvro8b",
        "colab": {
          "base_uri": "https://localhost:8080/"
        },
        "outputId": "d64d31f9-273e-48c0-a83a-3c3ef6c9412f"
      },
      "source": [
        "for numero, fruta in enumerate(lista_compras):\n",
        "    print(f\"{numero}. {fruta}\")"
      ],
      "execution_count": null,
      "outputs": [
        {
          "output_type": "stream",
          "name": "stdout",
          "text": [
            "0. naranjas\n",
            "1. manzanas\n",
            "2. peras\n",
            "3. uvas\n"
          ]
        }
      ]
    },
    {
      "cell_type": "code",
      "metadata": {
        "id": "lKBAC0DProzR",
        "colab": {
          "base_uri": "https://localhost:8080/"
        },
        "outputId": "4e9587d3-5fb7-4ac0-a92f-d57bb60821c2"
      },
      "source": [
        "for numero, fruta in enumerate(lista_compras, 10):\n",
        "    print(f\"{numero}. {fruta}\")"
      ],
      "execution_count": null,
      "outputs": [
        {
          "output_type": "stream",
          "name": "stdout",
          "text": [
            "10. naranjas\n",
            "11. manzanas\n",
            "12. peras\n",
            "13. uvas\n"
          ]
        }
      ]
    },
    {
      "cell_type": "markdown",
      "metadata": {
        "id": "5ZFVT7rvNmiw"
      },
      "source": [
        "## Ejemplo\n",
        "Escribir un programa que calcule el factorial de un número"
      ]
    },
    {
      "cell_type": "code",
      "metadata": {
        "id": "LQfyAcgPNsDm",
        "colab": {
          "base_uri": "https://localhost:8080/",
          "height": 34
        },
        "outputId": "84f3c652-a666-4411-ed64-53785857fb04"
      },
      "source": [
        "numero = 10\n",
        "producto = 1\n",
        "\n",
        "for n in range(1, numero + 1):\n",
        "    producto = producto * n\n",
        "\n",
        "print(f\"El factorial de {numero} es {producto}\")"
      ],
      "execution_count": null,
      "outputs": [
        {
          "output_type": "stream",
          "text": [
            "El factorial de 10 es 3628800\n"
          ],
          "name": "stdout"
        }
      ]
    },
    {
      "cell_type": "markdown",
      "metadata": {
        "id": "ZSJ9duuyD088"
      },
      "source": [
        "## Ejercicio propuesto 1:\n",
        "Escribir un programa que reciba un número de un usuario y imprima los cubos de los números menores"
      ]
    },
    {
      "cell_type": "code",
      "metadata": {
        "id": "mQWO0IhkEBGg",
        "colab": {
          "base_uri": "https://localhost:8080/"
        },
        "outputId": "3cece4d7-4b4e-4809-e27e-35b3e6468b2c"
      },
      "source": [
        "limite = int(input(\"Ingrese un número entero: \"))\n",
        "\n",
        "cubos = [numero ** 3 for numero in range(1, limite)]\n",
        "print(cubos)"
      ],
      "execution_count": null,
      "outputs": [
        {
          "output_type": "stream",
          "name": "stdout",
          "text": [
            "Ingrese un número entero: 10\n",
            "[1, 8, 27, 64, 125, 216, 343, 512, 729]\n"
          ]
        }
      ]
    },
    {
      "cell_type": "markdown",
      "metadata": {
        "id": "j3AduB2SYZhm"
      },
      "source": [
        "## Ejercicio propuesto 2:\n",
        " \n",
        "Escribir un programa que reciba un número de un usuario y imprima si el número es primo o no"
      ]
    },
    {
      "cell_type": "code",
      "metadata": {
        "id": "svY-T6vQwE7i",
        "colab": {
          "base_uri": "https://localhost:8080/",
          "height": 51
        },
        "outputId": "99d71e8d-7ac7-48a2-b0ee-5789b2c2f700"
      },
      "source": [
        "numero = int(input(\"Ingrese un número: \"))\n",
        "\n",
        "primo = True\n",
        "\n",
        "if numero % 2 == 0 and numero != 2:\n",
        "    primo = False\n",
        "\n",
        "else:\n",
        "    for divisor in range(3, numero, 2):\n",
        "        if numero % divisor == 0:\n",
        "            primo = False\n",
        "            break\n",
        "\n",
        "if primo:\n",
        "    print(f\"{numero} es primo\")\n",
        "else:\n",
        "    print(f\"{numero} NO es primo. Es divisible entre {divisor} y {numero//divisor}\")\n"
      ],
      "execution_count": null,
      "outputs": [
        {
          "output_type": "stream",
          "text": [
            "Ingrese un número: 2\n",
            "2 es primo\n"
          ],
          "name": "stdout"
        }
      ]
    },
    {
      "cell_type": "code",
      "metadata": {
        "id": "iOjTWCOBYZhn",
        "colab": {
          "base_uri": "https://localhost:8080/",
          "height": 51
        },
        "outputId": "5a160090-bd1a-485d-a2de-204a42f50290"
      },
      "source": [
        "# Colocar aquí la solución\n",
        "primo = True\n",
        "\n",
        "if numero % 2 == 0 and numero != 2:\n",
        "    primo = False\n",
        "\n",
        "else:\n",
        "    for divisor in range(3, numero, 2):\n",
        "        if numero % divisor == 0:\n",
        "            primo = False\n",
        "            break\n",
        "\n",
        "if primo:\n",
        "    print(f\"El numero {numero} es primo\")\n",
        "else:\n",
        "    print(f\"El numero {numero} NO es primo, es divisible entre {divisor} y {numero//divisor}\")"
      ],
      "execution_count": null,
      "outputs": [
        {
          "output_type": "stream",
          "text": [
            "Ingresar un número: 37\n",
            "El número es primo\n"
          ],
          "name": "stdout"
        }
      ]
    },
    {
      "cell_type": "markdown",
      "metadata": {
        "id": "RdDGfAi95SB5"
      },
      "source": [
        "## Colecciones y bucles"
      ]
    },
    {
      "cell_type": "markdown",
      "metadata": {
        "id": "pPZUbEI37X30"
      },
      "source": [
        "Crear un diccionario en el que las llaves sean las empresas y los valores los precios de las acciones"
      ]
    },
    {
      "cell_type": "code",
      "metadata": {
        "id": "IUs2q9315Vu7"
      },
      "source": [
        "empresas = [\"Facebook\", \"Twitter\", \"Apple\", \"Microsoft\"]\n",
        "precio_accion = [24.7, 293.6, 499.2, 228.2]"
      ],
      "execution_count": null,
      "outputs": []
    },
    {
      "cell_type": "code",
      "metadata": {
        "id": "qHnjPhYC5Vnv",
        "colab": {
          "base_uri": "https://localhost:8080/"
        },
        "outputId": "bfe375c2-6175-48c4-b812-1d87b85a6e00"
      },
      "source": [
        "dict_acciones = {}\n",
        "\n",
        "for empresa, precio in zip(empresas, precio_accion):\n",
        "    dict_acciones[empresa] = precio\n",
        "\n",
        "dict_acciones"
      ],
      "execution_count": null,
      "outputs": [
        {
          "output_type": "execute_result",
          "data": {
            "text/plain": [
              "{'Apple': 499.2, 'Facebook': 24.7, 'Microsoft': 228.2, 'Twitter': 293.6}"
            ]
          },
          "metadata": {},
          "execution_count": 2
        }
      ]
    },
    {
      "cell_type": "code",
      "metadata": {
        "id": "j_uBjgRs5VkM",
        "colab": {
          "base_uri": "https://localhost:8080/"
        },
        "outputId": "f196674e-eebc-46eb-c2d3-a008849ff7bd"
      },
      "source": [
        "dict_acciones_compacta = {empresa: precio for empresa, precio in zip(empresas, precio_accion)}\n",
        "dict_acciones_compacta"
      ],
      "execution_count": null,
      "outputs": [
        {
          "output_type": "execute_result",
          "data": {
            "text/plain": [
              "{'Apple': 499.2, 'Facebook': 24.7, 'Microsoft': 228.2, 'Twitter': 293.6}"
            ]
          },
          "metadata": {},
          "execution_count": 3
        }
      ]
    },
    {
      "cell_type": "code",
      "metadata": {
        "id": "U10JocV55Vcl",
        "colab": {
          "base_uri": "https://localhost:8080/"
        },
        "outputId": "b1e8472a-ed32-4bd8-b66c-79d667498ccc"
      },
      "source": [
        "dict_acciones "
      ],
      "execution_count": null,
      "outputs": [
        {
          "output_type": "execute_result",
          "data": {
            "text/plain": [
              "{'Apple': 499.2, 'Facebook': 24.7, 'Microsoft': 228.2, 'Twitter': 293.6}"
            ]
          },
          "metadata": {},
          "execution_count": 4
        }
      ]
    },
    {
      "cell_type": "code",
      "source": [
        "dict_acciones.items()"
      ],
      "metadata": {
        "colab": {
          "base_uri": "https://localhost:8080/"
        },
        "id": "-OhJyIAtFt1_",
        "outputId": "7688247d-fd40-4cf4-ad53-bd2116e6c704"
      },
      "execution_count": null,
      "outputs": [
        {
          "output_type": "execute_result",
          "data": {
            "text/plain": [
              "dict_items([('Facebook', 24.7), ('Twitter', 293.6), ('Apple', 499.2), ('Microsoft', 228.2)])"
            ]
          },
          "metadata": {},
          "execution_count": 5
        }
      ]
    },
    {
      "cell_type": "code",
      "metadata": {
        "id": "GInKhUep8MvP",
        "colab": {
          "base_uri": "https://localhost:8080/"
        },
        "outputId": "3f27a572-bc38-493c-84be-b82236f334ff"
      },
      "source": [
        "dict_filtrado = {}\n",
        "\n",
        "for empresa, precio in dict_acciones.items():\n",
        "    if precio > 250:\n",
        "        dict_filtrado[empresa] = precio\n",
        "\n",
        "dict_filtrado"
      ],
      "execution_count": null,
      "outputs": [
        {
          "output_type": "execute_result",
          "data": {
            "text/plain": [
              "{'Apple': 499.2, 'Twitter': 293.6}"
            ]
          },
          "metadata": {},
          "execution_count": 6
        }
      ]
    },
    {
      "cell_type": "code",
      "metadata": {
        "id": "z44lE94C8W8g",
        "colab": {
          "base_uri": "https://localhost:8080/",
          "height": 34
        },
        "outputId": "a569b560-b6b9-48d6-9c48-1d2fe6e7d9fd"
      },
      "source": [
        "dict_filtrado_compacto = {empresa: precio for empresa, precio in dict_acciones.items() if precio > 250}\n",
        "dict_filtrado_compacto"
      ],
      "execution_count": null,
      "outputs": [
        {
          "output_type": "execute_result",
          "data": {
            "text/plain": [
              "{'Apple': 499.2, 'Twitter': 293.6}"
            ]
          },
          "metadata": {
            "tags": []
          },
          "execution_count": 33
        }
      ]
    },
    {
      "cell_type": "code",
      "metadata": {
        "id": "m_d37C9E8vnu"
      },
      "source": [
        ""
      ],
      "execution_count": null,
      "outputs": []
    }
  ]
}