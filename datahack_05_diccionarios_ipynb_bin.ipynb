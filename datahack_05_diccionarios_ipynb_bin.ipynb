{
  "nbformat": 4,
  "nbformat_minor": 0,
  "metadata": {
    "colab": {
      "name": "datahack-05-diccionarios.ipynb.bin",
      "provenance": [],
      "collapsed_sections": [],
      "include_colab_link": true
    },
    "kernelspec": {
      "name": "python3",
      "display_name": "Python 3"
    }
  },
  "cells": [
    {
      "cell_type": "markdown",
      "metadata": {
        "id": "view-in-github",
        "colab_type": "text"
      },
      "source": [
        "<a href=\"https://colab.research.google.com/github/Luis-Amagua/Python_para_todos_curso/blob/main/datahack_05_diccionarios_ipynb_bin.ipynb\" target=\"_parent\"><img src=\"https://colab.research.google.com/assets/colab-badge.svg\" alt=\"Open In Colab\"/></a>"
      ]
    },
    {
      "cell_type": "markdown",
      "metadata": {
        "id": "DnIU8baJSdor"
      },
      "source": [
        "# Datahack - Diccionarios"
      ]
    },
    {
      "cell_type": "markdown",
      "metadata": {
        "id": "cpoo9ZBYYikn"
      },
      "source": [
        "# Diccionarios\n",
        "\n",
        "se define con llave y valor asociado.\n",
        "\n",
        "dict={\"llave\":valor}"
      ]
    },
    {
      "cell_type": "code",
      "metadata": {
        "id": "l9l0kEXGSrGb"
      },
      "source": [
        "facebook = {\"founder\": [\"Mark Zuckerberg\", \"Eduardo Saverin\"],\n",
        "            \"year\": 2004,\n",
        "            \"dominio\": \"www.facebook.com\"}"
      ],
      "execution_count": null,
      "outputs": []
    },
    {
      "cell_type": "code",
      "metadata": {
        "id": "xpa07gwLSrCL",
        "colab": {
          "base_uri": "https://localhost:8080/"
        },
        "outputId": "95c9aa4f-fc54-4b7e-b8df-524997a166f0"
      },
      "source": [
        "type(facebook)"
      ],
      "execution_count": null,
      "outputs": [
        {
          "output_type": "execute_result",
          "data": {
            "text/plain": [
              "dict"
            ]
          },
          "metadata": {},
          "execution_count": 2
        }
      ]
    },
    {
      "cell_type": "code",
      "metadata": {
        "id": "TAs9nBX6Sq9g",
        "colab": {
          "base_uri": "https://localhost:8080/"
        },
        "outputId": "ca8870c3-e350-4893-d7d5-044936bf6cf1"
      },
      "source": [
        "facebook[\"founder\"]"
      ],
      "execution_count": null,
      "outputs": [
        {
          "output_type": "execute_result",
          "data": {
            "text/plain": [
              "['Mark Zuckerberg', 'Eduardo Saverin']"
            ]
          },
          "metadata": {},
          "execution_count": 4
        }
      ]
    },
    {
      "cell_type": "code",
      "metadata": {
        "id": "k4LkZBc0Sq7y",
        "colab": {
          "base_uri": "https://localhost:8080/"
        },
        "outputId": "d3a2273a-17ce-48cf-9eb1-5b817a83e202"
      },
      "source": [
        "facebook[\"year\"]"
      ],
      "execution_count": null,
      "outputs": [
        {
          "output_type": "execute_result",
          "data": {
            "text/plain": [
              "2004"
            ]
          },
          "metadata": {},
          "execution_count": 5
        }
      ]
    },
    {
      "cell_type": "code",
      "metadata": {
        "id": "fx9nGACFSq5S",
        "colab": {
          "base_uri": "https://localhost:8080/",
          "height": 35
        },
        "outputId": "2bfa0206-144b-456b-8e6d-99975bdec959"
      },
      "source": [
        "facebook[\"dominio\"]"
      ],
      "execution_count": null,
      "outputs": [
        {
          "output_type": "execute_result",
          "data": {
            "text/plain": [
              "'www.facebook.com'"
            ],
            "application/vnd.google.colaboratory.intrinsic+json": {
              "type": "string"
            }
          },
          "metadata": {},
          "execution_count": 6
        }
      ]
    },
    {
      "cell_type": "markdown",
      "metadata": {
        "id": "gz7HLg0CYgQU"
      },
      "source": [
        "# Get\n",
        "es una alternativa"
      ]
    },
    {
      "cell_type": "code",
      "metadata": {
        "id": "4HMusVYSSq2z",
        "colab": {
          "base_uri": "https://localhost:8080/",
          "height": 166
        },
        "outputId": "7d5c8d9f-5848-46ab-c859-dbb4cc8480a4"
      },
      "source": [
        "facebook[\"stock price\"]"
      ],
      "execution_count": null,
      "outputs": [
        {
          "output_type": "error",
          "ename": "KeyError",
          "evalue": "ignored",
          "traceback": [
            "\u001b[0;31m---------------------------------------------------------------------------\u001b[0m",
            "\u001b[0;31mKeyError\u001b[0m                                  Traceback (most recent call last)",
            "\u001b[0;32m<ipython-input-7-e26bbbdb7680>\u001b[0m in \u001b[0;36m<module>\u001b[0;34m()\u001b[0m\n\u001b[0;32m----> 1\u001b[0;31m \u001b[0mfacebook\u001b[0m\u001b[0;34m[\u001b[0m\u001b[0;34m\"stock price\"\u001b[0m\u001b[0;34m]\u001b[0m\u001b[0;34m\u001b[0m\u001b[0;34m\u001b[0m\u001b[0m\n\u001b[0m",
            "\u001b[0;31mKeyError\u001b[0m: 'stock price'"
          ]
        }
      ]
    },
    {
      "cell_type": "code",
      "metadata": {
        "id": "JuIAIfxHSq0j",
        "colab": {
          "base_uri": "https://localhost:8080/"
        },
        "outputId": "98a63e65-a9fc-4be1-b0a9-e574f8800d4e"
      },
      "source": [
        "facebook.get(\"founder\") # se obtiene los valores de esa llave"
      ],
      "execution_count": null,
      "outputs": [
        {
          "output_type": "execute_result",
          "data": {
            "text/plain": [
              "['Mark Zuckerberg', 'Eduardo Saverin']"
            ]
          },
          "metadata": {},
          "execution_count": 8
        }
      ]
    },
    {
      "cell_type": "code",
      "metadata": {
        "id": "LcwGMQCtSqyR"
      },
      "source": [
        "facebook.get(\"stock price\") # no devuelve un valor porque no hay un key asociado, peor no da error"
      ],
      "execution_count": null,
      "outputs": []
    },
    {
      "cell_type": "markdown",
      "metadata": {
        "id": "n2CKQOj1Yk7Z"
      },
      "source": [
        "# Eliminar y actualizar elementos"
      ]
    },
    {
      "cell_type": "code",
      "metadata": {
        "id": "wbLBUHHASqlv"
      },
      "source": [
        "facebook = {\"founder\": [\"Mark Zuckerberg\", \"Eduardo Saverin\"],\n",
        "            \"year\": 2004,\n",
        "            \"dominio\": \"www.facebook.com\"}"
      ],
      "execution_count": null,
      "outputs": []
    },
    {
      "cell_type": "code",
      "metadata": {
        "id": "iAkVn-BxSqfw"
      },
      "source": [
        "facebook[\"stock price\"] = 250"
      ],
      "execution_count": null,
      "outputs": []
    },
    {
      "cell_type": "code",
      "metadata": {
        "id": "gcPzhaXlY3i_",
        "colab": {
          "base_uri": "https://localhost:8080/"
        },
        "outputId": "7c87b0f0-a1f0-4c7a-cf33-8c0f26ac78dd"
      },
      "source": [
        "facebook"
      ],
      "execution_count": null,
      "outputs": [
        {
          "output_type": "execute_result",
          "data": {
            "text/plain": [
              "{'dominio': 'www.facebook.com',\n",
              " 'founder': ['Mark Zuckerberg', 'Eduardo Saverin'],\n",
              " 'stock price': 250,\n",
              " 'year': 2004}"
            ]
          },
          "metadata": {},
          "execution_count": 19
        }
      ]
    },
    {
      "cell_type": "code",
      "metadata": {
        "id": "AgbzM2C3Y3gj",
        "colab": {
          "base_uri": "https://localhost:8080/"
        },
        "outputId": "1cbd6ddd-03f0-4606-efd8-9090134318f6"
      },
      "source": [
        "facebook.pop(\"year\") #devuelve el valor del key y lo elimina"
      ],
      "execution_count": null,
      "outputs": [
        {
          "output_type": "execute_result",
          "data": {
            "text/plain": [
              "2004"
            ]
          },
          "metadata": {},
          "execution_count": 20
        }
      ]
    },
    {
      "cell_type": "code",
      "metadata": {
        "id": "qH5Plp8UY3a2",
        "colab": {
          "base_uri": "https://localhost:8080/"
        },
        "outputId": "f9d315d8-7a24-4611-ff0d-07c213f6ed7c"
      },
      "source": [
        "facebook"
      ],
      "execution_count": null,
      "outputs": [
        {
          "output_type": "execute_result",
          "data": {
            "text/plain": [
              "{'dominio': 'www.facebook.com',\n",
              " 'founder': ['Mark Zuckerberg', 'Eduardo Saverin'],\n",
              " 'stock price': 250}"
            ]
          },
          "metadata": {},
          "execution_count": 21
        }
      ]
    },
    {
      "cell_type": "code",
      "metadata": {
        "id": "5BOhhhOKY3Rq"
      },
      "source": [
        "facebook[\"founder\"] = \"Mark Zuckerberg\" "
      ],
      "execution_count": null,
      "outputs": []
    },
    {
      "cell_type": "code",
      "metadata": {
        "id": "2RglXat7Y3Mc",
        "colab": {
          "base_uri": "https://localhost:8080/"
        },
        "outputId": "6e8b1a3f-4df7-4383-d557-373edabe330c"
      },
      "source": [
        "facebook"
      ],
      "execution_count": null,
      "outputs": [
        {
          "output_type": "execute_result",
          "data": {
            "text/plain": [
              "{'dominio': 'www.facebook.com',\n",
              " 'founder': 'Mark Zuckerberg',\n",
              " 'stock price': 250}"
            ]
          },
          "metadata": {},
          "execution_count": 23
        }
      ]
    },
    {
      "cell_type": "markdown",
      "metadata": {
        "id": "11XM-WnlZlgU"
      },
      "source": [
        "# Keys e items"
      ]
    },
    {
      "cell_type": "code",
      "metadata": {
        "id": "u6K9Rc9Pby_2",
        "colab": {
          "base_uri": "https://localhost:8080/"
        },
        "outputId": "d688997c-e0a6-418d-a62a-83ec01fb6889"
      },
      "source": [
        "facebook"
      ],
      "execution_count": null,
      "outputs": [
        {
          "output_type": "execute_result",
          "data": {
            "text/plain": [
              "{'dominio': 'www.facebook.com',\n",
              " 'founder': 'Mark Zuckerberg',\n",
              " 'stock price': 250}"
            ]
          },
          "metadata": {},
          "execution_count": 24
        }
      ]
    },
    {
      "cell_type": "code",
      "metadata": {
        "id": "Ns9nWx32by-q",
        "colab": {
          "base_uri": "https://localhost:8080/"
        },
        "outputId": "076023be-1642-49c2-8662-5c4eb2151ac5"
      },
      "source": [
        "keys = list(facebook.keys())\n",
        "keys"
      ],
      "execution_count": null,
      "outputs": [
        {
          "output_type": "execute_result",
          "data": {
            "text/plain": [
              "['founder', 'dominio', 'stock price']"
            ]
          },
          "metadata": {},
          "execution_count": 25
        }
      ]
    },
    {
      "cell_type": "code",
      "metadata": {
        "id": "AVzWj2Ckby77",
        "colab": {
          "base_uri": "https://localhost:8080/"
        },
        "outputId": "4cf03dc9-3ecb-4a4b-bef1-05ba2801b43d"
      },
      "source": [
        "values = list(facebook.values())\n",
        "values"
      ],
      "execution_count": null,
      "outputs": [
        {
          "output_type": "execute_result",
          "data": {
            "text/plain": [
              "['Mark Zuckerberg', 'www.facebook.com', 250]"
            ]
          },
          "metadata": {},
          "execution_count": 26
        }
      ]
    },
    {
      "cell_type": "code",
      "metadata": {
        "id": "QNwezKOlby2L",
        "colab": {
          "base_uri": "https://localhost:8080/",
          "height": 35
        },
        "outputId": "aca23e01-a890-4a47-998c-2abd33f2ba7d"
      },
      "source": [
        "values[0]"
      ],
      "execution_count": null,
      "outputs": [
        {
          "output_type": "execute_result",
          "data": {
            "text/plain": [
              "'Mark Zuckerberg'"
            ],
            "application/vnd.google.colaboratory.intrinsic+json": {
              "type": "string"
            }
          },
          "metadata": {},
          "execution_count": 27
        }
      ]
    },
    {
      "cell_type": "code",
      "metadata": {
        "id": "87dhoW3rcml3",
        "colab": {
          "base_uri": "https://localhost:8080/",
          "height": 35
        },
        "outputId": "c3250d6e-56fb-437b-9bbb-ef7d7fc51bfe"
      },
      "source": [
        "facebook[\"founder\"]"
      ],
      "execution_count": null,
      "outputs": [
        {
          "output_type": "execute_result",
          "data": {
            "text/plain": [
              "'Mark Zuckerberg'"
            ],
            "application/vnd.google.colaboratory.intrinsic+json": {
              "type": "string"
            }
          },
          "metadata": {},
          "execution_count": 28
        }
      ]
    },
    {
      "cell_type": "code",
      "metadata": {
        "id": "7hqZIZw_csTw",
        "colab": {
          "base_uri": "https://localhost:8080/"
        },
        "outputId": "72b1213b-71bd-4ffe-bfb7-1dddd904745e"
      },
      "source": [
        "items = list(facebook.items())\n",
        "items"
      ],
      "execution_count": null,
      "outputs": [
        {
          "output_type": "execute_result",
          "data": {
            "text/plain": [
              "[('founder', 'Mark Zuckerberg'),\n",
              " ('dominio', 'www.facebook.com'),\n",
              " ('stock price', 250)]"
            ]
          },
          "metadata": {},
          "execution_count": 29
        }
      ]
    },
    {
      "cell_type": "code",
      "metadata": {
        "id": "KVxxuzXkcyNe",
        "colab": {
          "base_uri": "https://localhost:8080/"
        },
        "outputId": "4125f338-c6b5-4713-e56f-580100911d14"
      },
      "source": [
        "items[1]"
      ],
      "execution_count": null,
      "outputs": [
        {
          "output_type": "execute_result",
          "data": {
            "text/plain": [
              "('dominio', 'www.facebook.com')"
            ]
          },
          "metadata": {},
          "execution_count": 30
        }
      ]
    },
    {
      "cell_type": "markdown",
      "metadata": {
        "id": "jjr5eeu4c5e0"
      },
      "source": [
        "# update\n",
        "uno los diccionarios"
      ]
    },
    {
      "cell_type": "code",
      "metadata": {
        "id": "cWIgx5IFdS9W",
        "colab": {
          "base_uri": "https://localhost:8080/"
        },
        "outputId": "0ca58e04-ab5e-481c-925d-d91d3e851350"
      },
      "source": [
        "facebook"
      ],
      "execution_count": null,
      "outputs": [
        {
          "output_type": "execute_result",
          "data": {
            "text/plain": [
              "{'dominio': 'www.facebook.com',\n",
              " 'founder': 'Mark Zuckerberg',\n",
              " 'stock price': 250}"
            ]
          },
          "metadata": {},
          "execution_count": 33
        }
      ]
    },
    {
      "cell_type": "code",
      "metadata": {
        "id": "IpmxweKrdS5E"
      },
      "source": [
        "facebook_extra = {'location': 'Palo Alto',\n",
        "                  'users': '2.5 billion'}"
      ],
      "execution_count": null,
      "outputs": []
    },
    {
      "cell_type": "code",
      "metadata": {
        "id": "GAtq1_xrdkbu"
      },
      "source": [
        "facebook.update(facebook_extra)"
      ],
      "execution_count": null,
      "outputs": []
    },
    {
      "cell_type": "code",
      "metadata": {
        "id": "dhgBiuYLdkUd",
        "colab": {
          "base_uri": "https://localhost:8080/"
        },
        "outputId": "5758872a-d8f3-48d1-ab79-97d8d038ae6b"
      },
      "source": [
        "facebook"
      ],
      "execution_count": null,
      "outputs": [
        {
          "output_type": "execute_result",
          "data": {
            "text/plain": [
              "{'dominio': 'www.facebook.com',\n",
              " 'founder': 'Mark Zuckerberg',\n",
              " 'location': 'Palo Alto',\n",
              " 'stock price': 250,\n",
              " 'users': '2.5 billion'}"
            ]
          },
          "metadata": {},
          "execution_count": 36
        }
      ]
    },
    {
      "cell_type": "code",
      "metadata": {
        "id": "rpOlQUP4dkNx"
      },
      "source": [
        "facebook_extra = {'founder': 'Mark Zuckerberg',\n",
        "                  'mobile': ['android', 'ios']}"
      ],
      "execution_count": null,
      "outputs": []
    },
    {
      "cell_type": "code",
      "metadata": {
        "id": "PFDzlivUdkAx"
      },
      "source": [
        "facebook.update(facebook_extra)"
      ],
      "execution_count": null,
      "outputs": []
    },
    {
      "cell_type": "code",
      "metadata": {
        "id": "UmbhEbT9dS1-",
        "colab": {
          "base_uri": "https://localhost:8080/"
        },
        "outputId": "f7c1eb2b-10e6-47ca-8718-fc1b2c4d2ca4"
      },
      "source": [
        "facebook"
      ],
      "execution_count": null,
      "outputs": [
        {
          "output_type": "execute_result",
          "data": {
            "text/plain": [
              "{'dominio': 'www.facebook.com',\n",
              " 'founder': 'Mark Zuckerberg',\n",
              " 'location': 'Palo Alto',\n",
              " 'mobile': ['android', 'ios'],\n",
              " 'stock price': 250,\n",
              " 'users': '2.5 billion'}"
            ]
          },
          "metadata": {},
          "execution_count": 39
        }
      ]
    },
    {
      "cell_type": "code",
      "metadata": {
        "id": "6kQOAA9HdftP"
      },
      "source": [
        ""
      ],
      "execution_count": null,
      "outputs": []
    }
  ]
}