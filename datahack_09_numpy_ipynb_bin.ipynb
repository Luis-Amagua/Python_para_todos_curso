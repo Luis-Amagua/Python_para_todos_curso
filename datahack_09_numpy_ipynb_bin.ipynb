{
  "nbformat": 4,
  "nbformat_minor": 0,
  "metadata": {
    "kernelspec": {
      "display_name": "Python 3",
      "language": "python",
      "name": "python3"
    },
    "language_info": {
      "codemirror_mode": {
        "name": "ipython",
        "version": 3
      },
      "file_extension": ".py",
      "mimetype": "text/x-python",
      "name": "python",
      "nbconvert_exporter": "python",
      "pygments_lexer": "ipython3",
      "version": "3.7.4"
    },
    "colab": {
      "name": "datahack-09-numpy.ipynb.bin",
      "provenance": [],
      "collapsed_sections": [],
      "include_colab_link": true
    }
  },
  "cells": [
    {
      "cell_type": "markdown",
      "metadata": {
        "id": "view-in-github",
        "colab_type": "text"
      },
      "source": [
        "<a href=\"https://colab.research.google.com/github/Luis-Amagua/Python_para_todos_curso/blob/main/datahack_09_numpy_ipynb_bin.ipynb\" target=\"_parent\"><img src=\"https://colab.research.google.com/assets/colab-badge.svg\" alt=\"Open In Colab\"/></a>"
      ]
    },
    {
      "cell_type": "markdown",
      "metadata": {
        "id": "TrKFxvoMHc4-"
      },
      "source": [
        "# Datahack - numpy"
      ]
    },
    {
      "cell_type": "markdown",
      "metadata": {
        "id": "VsQ4guHmHc5C"
      },
      "source": [
        "## documentación\n",
        "\n",
        "https://numpy.org/doc/1.19/reference/index.html"
      ]
    },
    {
      "cell_type": "markdown",
      "metadata": {
        "id": "En8tI38KHc5D"
      },
      "source": [
        "## import"
      ]
    },
    {
      "cell_type": "code",
      "metadata": {
        "id": "nqX53PTXHc5K"
      },
      "source": [
        "import numpy as numpy # con np se elige un alias, \"as np\" para o llamar a todo el paquete asi"
      ],
      "execution_count": null,
      "outputs": []
    },
    {
      "cell_type": "code",
      "metadata": {
        "id": "OksR57oW9IX9",
        "colab": {
          "base_uri": "https://localhost:8080/"
        },
        "outputId": "2ab6a51c-7f4c-4d4d-ca22-3304b58b861a"
      },
      "source": [
        "np.abs(-5)"
      ],
      "execution_count": null,
      "outputs": [
        {
          "output_type": "execute_result",
          "data": {
            "text/plain": [
              "5"
            ]
          },
          "metadata": {},
          "execution_count": 4
        }
      ]
    },
    {
      "cell_type": "code",
      "metadata": {
        "id": "HJtH6tzO9ITw"
      },
      "source": [
        "from numpy import abs # se pude utilizar directamente las funciones sin tener que referenciar como en anterior"
      ],
      "execution_count": null,
      "outputs": []
    },
    {
      "cell_type": "code",
      "metadata": {
        "id": "Lr-KDIGZ9IPp",
        "colab": {
          "base_uri": "https://localhost:8080/"
        },
        "outputId": "b45d3936-b177-4d33-aa6a-230e98b23d4b"
      },
      "source": [
        "abs(-10)"
      ],
      "execution_count": null,
      "outputs": [
        {
          "output_type": "execute_result",
          "data": {
            "text/plain": [
              "10"
            ]
          },
          "metadata": {},
          "execution_count": 6
        }
      ]
    },
    {
      "cell_type": "markdown",
      "metadata": {
        "id": "oS2rKnye9ILf"
      },
      "source": [
        "## listas y arreglos de numpy"
      ]
    },
    {
      "cell_type": "code",
      "metadata": {
        "id": "1OYK0Nm29IHH"
      },
      "source": [
        "lista = [56,  69,  88,  67, 113,  96,  73,  83, 172, 173]"
      ],
      "execution_count": null,
      "outputs": []
    },
    {
      "cell_type": "code",
      "metadata": {
        "id": "TGBgnDKMm60N"
      },
      "source": [
        "np_array = np.array(lista) # es un arreglo de numpy"
      ],
      "execution_count": null,
      "outputs": []
    },
    {
      "cell_type": "code",
      "metadata": {
        "id": "-lDhLUbCm6no",
        "colab": {
          "base_uri": "https://localhost:8080/"
        },
        "outputId": "0a5972b6-3c50-489a-87e3-6b1c39ca72d4"
      },
      "source": [
        "np_array"
      ],
      "execution_count": null,
      "outputs": [
        {
          "output_type": "execute_result",
          "data": {
            "text/plain": [
              "array([ 56,  69,  88,  67, 113,  96,  73,  83, 172, 173])"
            ]
          },
          "metadata": {},
          "execution_count": 9
        }
      ]
    },
    {
      "cell_type": "code",
      "metadata": {
        "id": "x7OqH_Zf9ICy"
      },
      "source": [
        "np_array_float = np.array(lista, dtype = 'float') # arreglo con tipo de dato float"
      ],
      "execution_count": null,
      "outputs": []
    },
    {
      "cell_type": "code",
      "metadata": {
        "id": "pfGHb3y79IAK",
        "colab": {
          "base_uri": "https://localhost:8080/"
        },
        "outputId": "4eeb0956-7d6c-45ba-abde-bd76d971b59b"
      },
      "source": [
        "np_array_float"
      ],
      "execution_count": null,
      "outputs": [
        {
          "output_type": "execute_result",
          "data": {
            "text/plain": [
              "array([ 56.,  69.,  88.,  67., 113.,  96.,  73.,  83., 172., 173.])"
            ]
          },
          "metadata": {},
          "execution_count": 11
        }
      ]
    },
    {
      "cell_type": "code",
      "metadata": {
        "id": "TMHZl46H9H59",
        "colab": {
          "base_uri": "https://localhost:8080/"
        },
        "outputId": "acfe7cf2-287f-452e-e3d8-20da6a6d1599"
      },
      "source": [
        "type(np_array)"
      ],
      "execution_count": null,
      "outputs": [
        {
          "output_type": "execute_result",
          "data": {
            "text/plain": [
              "numpy.ndarray"
            ]
          },
          "metadata": {},
          "execution_count": 12
        }
      ]
    },
    {
      "cell_type": "code",
      "metadata": {
        "id": "7p0d_hb-m3u4",
        "colab": {
          "base_uri": "https://localhost:8080/"
        },
        "outputId": "6839c302-5da5-4b8a-d714-6ae365b436f2"
      },
      "source": [
        "lista[0]"
      ],
      "execution_count": null,
      "outputs": [
        {
          "output_type": "execute_result",
          "data": {
            "text/plain": [
              "56"
            ]
          },
          "metadata": {},
          "execution_count": 13
        }
      ]
    },
    {
      "cell_type": "code",
      "metadata": {
        "id": "1nG1vkkfm3lu",
        "colab": {
          "base_uri": "https://localhost:8080/"
        },
        "outputId": "c22c7dd7-4b8f-4de6-ac04-b62d6a3992f6"
      },
      "source": [
        "np_array[0]"
      ],
      "execution_count": null,
      "outputs": [
        {
          "output_type": "execute_result",
          "data": {
            "text/plain": [
              "56"
            ]
          },
          "metadata": {},
          "execution_count": 14
        }
      ]
    },
    {
      "cell_type": "code",
      "metadata": {
        "id": "NvMf2V-im3cd",
        "colab": {
          "base_uri": "https://localhost:8080/"
        },
        "outputId": "53d50376-6937-4e61-fa30-9034d91a9240"
      },
      "source": [
        "type(lista[0]), type(np_array[0]), type(np_array_float[0])"
      ],
      "execution_count": null,
      "outputs": [
        {
          "output_type": "execute_result",
          "data": {
            "text/plain": [
              "(int, numpy.int64, numpy.float64)"
            ]
          },
          "metadata": {},
          "execution_count": 15
        }
      ]
    },
    {
      "cell_type": "code",
      "metadata": {
        "id": "dEnP_k81m3UI"
      },
      "source": [
        "np_array_float = np.array(lista, dtype = np.float32)"
      ],
      "execution_count": null,
      "outputs": []
    },
    {
      "cell_type": "code",
      "metadata": {
        "id": "KgBn5Viqm3Pz",
        "colab": {
          "base_uri": "https://localhost:8080/"
        },
        "outputId": "dff6eed8-d11a-4c25-a05b-c33e448249f3"
      },
      "source": [
        "type(np_array_float[0])"
      ],
      "execution_count": null,
      "outputs": [
        {
          "output_type": "execute_result",
          "data": {
            "text/plain": [
              "numpy.float32"
            ]
          },
          "metadata": {},
          "execution_count": 17
        }
      ]
    },
    {
      "cell_type": "markdown",
      "metadata": {
        "id": "2a6djhH1m3Ei"
      },
      "source": [
        "## suma, producto, mínimo, máximo en listas y numpy arrays"
      ]
    },
    {
      "cell_type": "code",
      "metadata": {
        "id": "1bFZi1TJ8Y5E"
      },
      "source": [
        "lista = [56,  69,  88,  67, 113,  96,  73,  83, 172, 173]\n",
        "np_array = np.array(lista)"
      ],
      "execution_count": null,
      "outputs": []
    },
    {
      "cell_type": "code",
      "metadata": {
        "id": "OaTIhYPZ8Y3F",
        "colab": {
          "base_uri": "https://localhost:8080/"
        },
        "outputId": "2d093d29-afcb-44f1-d4d4-a8de998c7a93"
      },
      "source": [
        "sum(lista)"
      ],
      "execution_count": null,
      "outputs": [
        {
          "output_type": "execute_result",
          "data": {
            "text/plain": [
              "990"
            ]
          },
          "metadata": {},
          "execution_count": 19
        }
      ]
    },
    {
      "cell_type": "code",
      "metadata": {
        "id": "0_CYCvI18YtI",
        "colab": {
          "base_uri": "https://localhost:8080/"
        },
        "outputId": "e6ff87c1-b9ba-41f9-8a66-ca3165af29ed"
      },
      "source": [
        "sum(np_array)"
      ],
      "execution_count": null,
      "outputs": [
        {
          "output_type": "execute_result",
          "data": {
            "text/plain": [
              "990"
            ]
          },
          "metadata": {},
          "execution_count": 20
        }
      ]
    },
    {
      "cell_type": "code",
      "metadata": {
        "id": "PzFIO_t38Yqd",
        "colab": {
          "base_uri": "https://localhost:8080/"
        },
        "outputId": "a4bb7ea5-7680-4361-b8fa-7ad4b7fa72d5"
      },
      "source": [
        "np.sum(np_array), np.sum(lista)"
      ],
      "execution_count": null,
      "outputs": [
        {
          "output_type": "execute_result",
          "data": {
            "text/plain": [
              "(990, 990)"
            ]
          },
          "metadata": {},
          "execution_count": 21
        }
      ]
    },
    {
      "cell_type": "code",
      "metadata": {
        "id": "GXJgkSWP8Ygi",
        "colab": {
          "base_uri": "https://localhost:8080/"
        },
        "outputId": "2a7ae95e-6643-480d-a138-0f3e723ff4af"
      },
      "source": [
        "np.prod(np_array)"
      ],
      "execution_count": null,
      "outputs": [
        {
          "output_type": "execute_result",
          "data": {
            "text/plain": [
              "7663904728873148416"
            ]
          },
          "metadata": {},
          "execution_count": 22
        }
      ]
    },
    {
      "cell_type": "code",
      "metadata": {
        "id": "nJyk_o9t8YWv",
        "colab": {
          "base_uri": "https://localhost:8080/"
        },
        "outputId": "2cc56a3d-520d-46dd-fe5c-0659691ec8ca"
      },
      "source": [
        "min(lista), np.min(np_array)"
      ],
      "execution_count": null,
      "outputs": [
        {
          "output_type": "execute_result",
          "data": {
            "text/plain": [
              "(56, 56)"
            ]
          },
          "metadata": {},
          "execution_count": 23
        }
      ]
    },
    {
      "cell_type": "code",
      "metadata": {
        "id": "50QPidV58YUV",
        "colab": {
          "base_uri": "https://localhost:8080/"
        },
        "outputId": "b2d3dc10-a9de-4f6f-ecf8-944c2251f609"
      },
      "source": [
        "max(lista), np.max(np_array)"
      ],
      "execution_count": null,
      "outputs": [
        {
          "output_type": "execute_result",
          "data": {
            "text/plain": [
              "(173, 173)"
            ]
          },
          "metadata": {},
          "execution_count": 24
        }
      ]
    },
    {
      "cell_type": "markdown",
      "metadata": {
        "id": "9SyA5y93JrKv"
      },
      "source": [
        "## operaciones vectorizadas"
      ]
    },
    {
      "cell_type": "code",
      "metadata": {
        "id": "7PP6WhdZJq_i"
      },
      "source": [
        "lista = [56,  69,  88,  67, 113]\n",
        "np_array = np.array(lista)"
      ],
      "execution_count": null,
      "outputs": []
    },
    {
      "cell_type": "code",
      "metadata": {
        "id": "jYxHdrGUJqz9",
        "colab": {
          "base_uri": "https://localhost:8080/"
        },
        "outputId": "1d69c9fb-0392-48be-9e6f-c749794ecad2"
      },
      "source": [
        "3 * lista"
      ],
      "execution_count": null,
      "outputs": [
        {
          "output_type": "execute_result",
          "data": {
            "text/plain": [
              "[56, 69, 88, 67, 113, 56, 69, 88, 67, 113, 56, 69, 88, 67, 113]"
            ]
          },
          "metadata": {},
          "execution_count": 5
        }
      ]
    },
    {
      "cell_type": "code",
      "metadata": {
        "id": "hznCF08TJ_St",
        "colab": {
          "base_uri": "https://localhost:8080/"
        },
        "outputId": "b6e08228-b4a4-46d4-c325-3613b4afc067"
      },
      "source": [
        "lista_x3 = [3*n for n in lista]\n",
        "lista_x3"
      ],
      "execution_count": null,
      "outputs": [
        {
          "output_type": "execute_result",
          "data": {
            "text/plain": [
              "[168, 207, 264, 201, 339]"
            ]
          },
          "metadata": {},
          "execution_count": 6
        }
      ]
    },
    {
      "cell_type": "code",
      "metadata": {
        "id": "v0XZ-laTJ-1C",
        "colab": {
          "base_uri": "https://localhost:8080/"
        },
        "outputId": "01e6cb9f-8e62-4bf5-844c-4820f566e761"
      },
      "source": [
        "3 * np_array # ventaja de multiplicar un np.array por un escalar"
      ],
      "execution_count": null,
      "outputs": [
        {
          "output_type": "execute_result",
          "data": {
            "text/plain": [
              "array([168, 207, 264, 201, 339])"
            ]
          },
          "metadata": {},
          "execution_count": 8
        }
      ]
    },
    {
      "cell_type": "code",
      "metadata": {
        "id": "9wIAIyhEJqwu",
        "colab": {
          "base_uri": "https://localhost:8080/"
        },
        "outputId": "38220ee7-0426-45ea-b713-11f86e3de31c"
      },
      "source": [
        "5 + np_array # suma 5 a cada elemento"
      ],
      "execution_count": null,
      "outputs": [
        {
          "output_type": "execute_result",
          "data": {
            "text/plain": [
              "array([ 61,  74,  93,  72, 118])"
            ]
          },
          "metadata": {},
          "execution_count": 10
        }
      ]
    },
    {
      "cell_type": "code",
      "metadata": {
        "id": "Jr7EEqSDJqm_",
        "colab": {
          "base_uri": "https://localhost:8080/",
          "height": 166
        },
        "outputId": "ba454887-5153-4626-d077-9bb50ba2bd6b"
      },
      "source": [
        "5 + lista"
      ],
      "execution_count": null,
      "outputs": [
        {
          "output_type": "error",
          "ename": "TypeError",
          "evalue": "ignored",
          "traceback": [
            "\u001b[0;31m---------------------------------------------------------------------------\u001b[0m",
            "\u001b[0;31mTypeError\u001b[0m                                 Traceback (most recent call last)",
            "\u001b[0;32m<ipython-input-11-772fcd69ad18>\u001b[0m in \u001b[0;36m<module>\u001b[0;34m()\u001b[0m\n\u001b[0;32m----> 1\u001b[0;31m \u001b[0;36m5\u001b[0m \u001b[0;34m+\u001b[0m \u001b[0mlista\u001b[0m\u001b[0;34m\u001b[0m\u001b[0;34m\u001b[0m\u001b[0m\n\u001b[0m",
            "\u001b[0;31mTypeError\u001b[0m: unsupported operand type(s) for +: 'int' and 'list'"
          ]
        }
      ]
    },
    {
      "cell_type": "markdown",
      "metadata": {
        "id": "4tnaHuBN8YHy"
      },
      "source": [
        "Obtener el recíproco (1/n) de cada elemento de una lista"
      ]
    },
    {
      "cell_type": "code",
      "metadata": {
        "id": "aOKLPSMB8YAm",
        "colab": {
          "base_uri": "https://localhost:8080/",
          "height": 102
        },
        "outputId": "bd2e02c9-a492-4456-90ef-081e0165d427"
      },
      "source": [
        "[1/n for n in lista]"
      ],
      "execution_count": null,
      "outputs": [
        {
          "output_type": "execute_result",
          "data": {
            "text/plain": [
              "[0.017857142857142856,\n",
              " 0.014492753623188406,\n",
              " 0.011363636363636364,\n",
              " 0.014925373134328358,\n",
              " 0.008849557522123894]"
            ]
          },
          "metadata": {
            "tags": []
          },
          "execution_count": 52
        }
      ]
    },
    {
      "cell_type": "code",
      "metadata": {
        "id": "EodjkV22HlNR",
        "colab": {
          "base_uri": "https://localhost:8080/"
        },
        "outputId": "5265971e-f766-41c8-e1e6-e147fa957060"
      },
      "source": [
        "1 / np_array"
      ],
      "execution_count": null,
      "outputs": [
        {
          "output_type": "execute_result",
          "data": {
            "text/plain": [
              "array([0.01785714, 0.01449275, 0.01136364, 0.01492537, 0.00884956])"
            ]
          },
          "metadata": {},
          "execution_count": 12
        }
      ]
    },
    {
      "cell_type": "markdown",
      "metadata": {
        "id": "wwbSfE9tJnYS"
      },
      "source": [
        "## operaciones avanzadas"
      ]
    },
    {
      "cell_type": "markdown",
      "metadata": {
        "id": "EoT9bA3wJnKJ"
      },
      "source": [
        "Función sigmoidal para cada elemento\n",
        "\\begin{equation*}\n",
        "\\frac{1}{(1+e^{-x})}\n",
        "\\end{equation*}"
      ]
    },
    {
      "cell_type": "code",
      "metadata": {
        "id": "__DQgsW9HlIE",
        "colab": {
          "base_uri": "https://localhost:8080/",
          "height": 34
        },
        "outputId": "a485ad18-a896-4b0b-8403-76fe767b163b"
      },
      "source": [
        "lista = [0.5,  0.2,  0.1, 0.3, 0.4]\n",
        "np_array = np.array(lista)\n",
        "np_array"
      ],
      "execution_count": null,
      "outputs": [
        {
          "output_type": "execute_result",
          "data": {
            "text/plain": [
              "array([0.5, 0.2, 0.1, 0.3, 0.4])"
            ]
          },
          "metadata": {
            "tags": []
          },
          "execution_count": 69
        }
      ]
    },
    {
      "cell_type": "code",
      "metadata": {
        "id": "t-AMFuMRHk5Z",
        "colab": {
          "base_uri": "https://localhost:8080/",
          "height": 34
        },
        "outputId": "c30974ba-01ea-4456-e4c1-21b78e354829"
      },
      "source": [
        "np.exp(np_array)"
      ],
      "execution_count": null,
      "outputs": [
        {
          "output_type": "execute_result",
          "data": {
            "text/plain": [
              "array([1.64872127, 1.22140276, 1.10517092, 1.34985881, 1.4918247 ])"
            ]
          },
          "metadata": {
            "tags": []
          },
          "execution_count": 72
        }
      ]
    },
    {
      "cell_type": "code",
      "metadata": {
        "id": "q3dPTDwpRZFX",
        "colab": {
          "base_uri": "https://localhost:8080/",
          "height": 34
        },
        "outputId": "66163b1b-1741-4923-8359-fdf5ab3a437e"
      },
      "source": [
        "-np_array"
      ],
      "execution_count": null,
      "outputs": [
        {
          "output_type": "execute_result",
          "data": {
            "text/plain": [
              "array([-0.5, -0.2, -0.1, -0.3, -0.4])"
            ]
          },
          "metadata": {
            "tags": []
          },
          "execution_count": 73
        }
      ]
    },
    {
      "cell_type": "code",
      "metadata": {
        "id": "_xXJXZHGHku3"
      },
      "source": [
        "np_array_exp = 1 / (1 + np.exp(-np_array))"
      ],
      "execution_count": null,
      "outputs": []
    },
    {
      "cell_type": "code",
      "metadata": {
        "id": "H6a0tQn-HkkG",
        "colab": {
          "base_uri": "https://localhost:8080/",
          "height": 34
        },
        "outputId": "c52af413-6444-466a-8120-0dbf8a913523"
      },
      "source": [
        "np_array_exp"
      ],
      "execution_count": null,
      "outputs": [
        {
          "output_type": "execute_result",
          "data": {
            "text/plain": [
              "array([0.62245933, 0.549834  , 0.52497919, 0.57444252, 0.59868766])"
            ]
          },
          "metadata": {
            "tags": []
          },
          "execution_count": 75
        }
      ]
    },
    {
      "cell_type": "markdown",
      "metadata": {
        "id": "N5s_n7Gr8Xtq"
      },
      "source": [
        "## suma y multiplicación de listas y numpy arrays"
      ]
    },
    {
      "cell_type": "code",
      "metadata": {
        "id": "ZXN-THlfOE4G"
      },
      "source": [
        "a = [2,3,4,5,6]\n",
        "b = [10,20,30,40,50]\n",
        "\n",
        "a_np = numpy.array([2,3,4,5,6])\n",
        "b_np = numpy.array([10,20,30,40,50])"
      ],
      "execution_count": null,
      "outputs": []
    },
    {
      "cell_type": "code",
      "metadata": {
        "id": "0JeF-J4fR6Sh",
        "colab": {
          "base_uri": "https://localhost:8080/",
          "height": 34
        },
        "outputId": "70a2f4a2-1bff-472c-d268-07c54610ee1e"
      },
      "source": [
        "a + b"
      ],
      "execution_count": null,
      "outputs": [
        {
          "output_type": "execute_result",
          "data": {
            "text/plain": [
              "[2, 3, 4, 5, 6, 10, 20, 30, 40, 50]"
            ]
          },
          "metadata": {
            "tags": []
          },
          "execution_count": 94
        }
      ]
    },
    {
      "cell_type": "code",
      "metadata": {
        "id": "b9VZBhBBR6PK",
        "colab": {
          "base_uri": "https://localhost:8080/",
          "height": 34
        },
        "outputId": "9fcd3022-806c-4d9f-94b0-306e66562d42"
      },
      "source": [
        "a_np + b_np"
      ],
      "execution_count": null,
      "outputs": [
        {
          "output_type": "execute_result",
          "data": {
            "text/plain": [
              "array([12, 23, 34, 45, 56])"
            ]
          },
          "metadata": {
            "tags": []
          },
          "execution_count": 95
        }
      ]
    },
    {
      "cell_type": "code",
      "metadata": {
        "id": "YS23xssKR6MP",
        "colab": {
          "base_uri": "https://localhost:8080/",
          "height": 34
        },
        "outputId": "41acbfde-c3ba-478b-9d49-9a806a953fe9"
      },
      "source": [
        "np.concatenate([a_np, b_np])"
      ],
      "execution_count": null,
      "outputs": [
        {
          "output_type": "execute_result",
          "data": {
            "text/plain": [
              "array([ 2,  3,  4,  5,  6, 10, 20, 30, 40, 50])"
            ]
          },
          "metadata": {
            "tags": []
          },
          "execution_count": 96
        }
      ]
    },
    {
      "cell_type": "code",
      "metadata": {
        "id": "G--NiyOoR525",
        "colab": {
          "base_uri": "https://localhost:8080/",
          "height": 164
        },
        "outputId": "bc694d69-5e2d-4a7e-9323-aa86d07e0419"
      },
      "source": [
        "a * b"
      ],
      "execution_count": null,
      "outputs": [
        {
          "output_type": "error",
          "ename": "TypeError",
          "evalue": "ignored",
          "traceback": [
            "\u001b[0;31m---------------------------------------------------------------------------\u001b[0m",
            "\u001b[0;31mTypeError\u001b[0m                                 Traceback (most recent call last)",
            "\u001b[0;32m<ipython-input-99-9bc1a869709f>\u001b[0m in \u001b[0;36m<module>\u001b[0;34m()\u001b[0m\n\u001b[0;32m----> 1\u001b[0;31m \u001b[0ma\u001b[0m \u001b[0;34m*\u001b[0m \u001b[0mb\u001b[0m\u001b[0;34m\u001b[0m\u001b[0;34m\u001b[0m\u001b[0m\n\u001b[0m",
            "\u001b[0;31mTypeError\u001b[0m: can't multiply sequence by non-int of type 'list'"
          ]
        }
      ]
    },
    {
      "cell_type": "code",
      "metadata": {
        "id": "1qexpdmuOE1G",
        "colab": {
          "base_uri": "https://localhost:8080/",
          "height": 34
        },
        "outputId": "91f41c82-213a-4dcf-bc4e-58c44daa6f8a"
      },
      "source": [
        "a_np * b_np"
      ],
      "execution_count": null,
      "outputs": [
        {
          "output_type": "execute_result",
          "data": {
            "text/plain": [
              "array([ 20,  60, 120, 200, 300])"
            ]
          },
          "metadata": {
            "tags": []
          },
          "execution_count": 100
        }
      ]
    },
    {
      "cell_type": "markdown",
      "metadata": {
        "id": "FA28t1ybeZWe"
      },
      "source": [
        "## comparación de tiempos de ejecución"
      ]
    },
    {
      "cell_type": "code",
      "metadata": {
        "id": "LS_237KieZCe"
      },
      "source": [
        "lista = list(range(100000000))\n",
        "numpy_array = np.array(lista)"
      ],
      "execution_count": null,
      "outputs": []
    },
    {
      "cell_type": "code",
      "metadata": {
        "id": "kxBx4T3Pesic"
      },
      "source": [
        "def suma(lista):\n",
        "    suma = 0\n",
        "    for n in lista:\n",
        "        suma = suma + n\n",
        "    return suma"
      ],
      "execution_count": null,
      "outputs": []
    },
    {
      "cell_type": "code",
      "metadata": {
        "id": "31WRnssPesfz",
        "colab": {
          "base_uri": "https://localhost:8080/"
        },
        "outputId": "b3de388d-402d-4ded-bf27-f56a29f5331e"
      },
      "source": [
        "%timeit suma(lista)"
      ],
      "execution_count": null,
      "outputs": [
        {
          "output_type": "stream",
          "name": "stdout",
          "text": [
            "1 loop, best of 5: 6.06 s per loop\n"
          ]
        }
      ]
    },
    {
      "cell_type": "code",
      "metadata": {
        "id": "1xzxncWmesUf",
        "colab": {
          "base_uri": "https://localhost:8080/"
        },
        "outputId": "c31215ea-2e27-40ea-f41d-20fe267b3691"
      },
      "source": [
        "%timeit sum(lista)"
      ],
      "execution_count": null,
      "outputs": [
        {
          "output_type": "stream",
          "name": "stdout",
          "text": [
            "1 loop, best of 5: 635 ms per loop\n"
          ]
        }
      ]
    },
    {
      "cell_type": "code",
      "metadata": {
        "id": "dDiVqte0esP_",
        "colab": {
          "base_uri": "https://localhost:8080/"
        },
        "outputId": "6347867e-d2f2-4b9c-c349-2444e7a3cf63"
      },
      "source": [
        "%timeit np.sum(numpy_array)"
      ],
      "execution_count": null,
      "outputs": [
        {
          "output_type": "stream",
          "name": "stdout",
          "text": [
            "10 loops, best of 5: 71.9 ms per loop\n"
          ]
        }
      ]
    },
    {
      "cell_type": "markdown",
      "metadata": {
        "id": "lxgaev6EVshk"
      },
      "source": [
        "## generacion de arreglos de numpy"
      ]
    },
    {
      "cell_type": "code",
      "metadata": {
        "id": "zk3AcryRVsfQ",
        "colab": {
          "base_uri": "https://localhost:8080/"
        },
        "outputId": "f4860075-701c-42c6-bb0f-633db92c0cef"
      },
      "source": [
        "np.ones(10, dtype = int)"
      ],
      "execution_count": null,
      "outputs": [
        {
          "output_type": "execute_result",
          "data": {
            "text/plain": [
              "array([1, 1, 1, 1, 1, 1, 1, 1, 1, 1])"
            ]
          },
          "metadata": {},
          "execution_count": 22
        }
      ]
    },
    {
      "cell_type": "code",
      "metadata": {
        "id": "Ku0Y7DtpVsVC",
        "colab": {
          "base_uri": "https://localhost:8080/"
        },
        "outputId": "0a76dffa-e6ab-4b4f-a55e-3426d6fa8cb8"
      },
      "source": [
        "np.zeros(10)"
      ],
      "execution_count": null,
      "outputs": [
        {
          "output_type": "execute_result",
          "data": {
            "text/plain": [
              "array([0., 0., 0., 0., 0., 0., 0., 0., 0., 0.])"
            ]
          },
          "metadata": {},
          "execution_count": 23
        }
      ]
    },
    {
      "cell_type": "code",
      "metadata": {
        "id": "Ju8ZebWOVsSl",
        "colab": {
          "base_uri": "https://localhost:8080/"
        },
        "outputId": "688768cb-3207-4961-ae89-0d644abfc26b"
      },
      "source": [
        "list(range(1, 10))"
      ],
      "execution_count": null,
      "outputs": [
        {
          "output_type": "execute_result",
          "data": {
            "text/plain": [
              "[1, 2, 3, 4, 5, 6, 7, 8, 9]"
            ]
          },
          "metadata": {},
          "execution_count": 24
        }
      ]
    },
    {
      "cell_type": "code",
      "metadata": {
        "id": "tP7t0186VsHI",
        "colab": {
          "base_uri": "https://localhost:8080/",
          "height": 166
        },
        "outputId": "a72daedf-8a25-4d29-d473-63560769599a"
      },
      "source": [
        "range(0, 1, 0.1)"
      ],
      "execution_count": null,
      "outputs": [
        {
          "output_type": "error",
          "ename": "TypeError",
          "evalue": "ignored",
          "traceback": [
            "\u001b[0;31m---------------------------------------------------------------------------\u001b[0m",
            "\u001b[0;31mTypeError\u001b[0m                                 Traceback (most recent call last)",
            "\u001b[0;32m<ipython-input-25-228cad29e8de>\u001b[0m in \u001b[0;36m<module>\u001b[0;34m()\u001b[0m\n\u001b[0;32m----> 1\u001b[0;31m \u001b[0mrange\u001b[0m\u001b[0;34m(\u001b[0m\u001b[0;36m0\u001b[0m\u001b[0;34m,\u001b[0m \u001b[0;36m1\u001b[0m\u001b[0;34m,\u001b[0m \u001b[0;36m0.1\u001b[0m\u001b[0;34m)\u001b[0m\u001b[0;34m\u001b[0m\u001b[0;34m\u001b[0m\u001b[0m\n\u001b[0m",
            "\u001b[0;31mTypeError\u001b[0m: 'float' object cannot be interpreted as an integer"
          ]
        }
      ]
    },
    {
      "cell_type": "code",
      "metadata": {
        "id": "7I2GWmySVsEt",
        "colab": {
          "base_uri": "https://localhost:8080/"
        },
        "outputId": "6ad94f84-13bd-49df-eb9d-59bd7c0d8365"
      },
      "source": [
        "np.arange(0, 1.1, 0.1)"
      ],
      "execution_count": null,
      "outputs": [
        {
          "output_type": "execute_result",
          "data": {
            "text/plain": [
              "array([0. , 0.1, 0.2, 0.3, 0.4, 0.5, 0.6, 0.7, 0.8, 0.9, 1. ])"
            ]
          },
          "metadata": {},
          "execution_count": 26
        }
      ]
    },
    {
      "cell_type": "code",
      "metadata": {
        "id": "HJuN5jv_Vr2C",
        "colab": {
          "base_uri": "https://localhost:8080/"
        },
        "outputId": "e0471f27-ee7b-4738-bcfd-0a90f1fd05fc"
      },
      "source": [
        "np.linspace(0, 1.1, 20)"
      ],
      "execution_count": null,
      "outputs": [
        {
          "output_type": "execute_result",
          "data": {
            "text/plain": [
              "array([0.        , 0.05789474, 0.11578947, 0.17368421, 0.23157895,\n",
              "       0.28947368, 0.34736842, 0.40526316, 0.46315789, 0.52105263,\n",
              "       0.57894737, 0.63684211, 0.69473684, 0.75263158, 0.81052632,\n",
              "       0.86842105, 0.92631579, 0.98421053, 1.04210526, 1.1       ])"
            ]
          },
          "metadata": {},
          "execution_count": 27
        }
      ]
    },
    {
      "cell_type": "code",
      "metadata": {
        "id": "ZNup3--rVrzX",
        "colab": {
          "base_uri": "https://localhost:8080/",
          "height": 51
        },
        "outputId": "0159a0f2-6ba2-48d3-9e9c-c762eeb518ab"
      },
      "source": [
        "np.random.normal(0, 1, 10)"
      ],
      "execution_count": null,
      "outputs": [
        {
          "output_type": "execute_result",
          "data": {
            "text/plain": [
              "array([-0.84122432, -1.27497534,  0.42657575,  1.00895686,  0.30320733,\n",
              "        2.08358474, -0.12968419, -0.66380117,  0.30255494,  1.46066733])"
            ]
          },
          "metadata": {
            "tags": []
          },
          "execution_count": 130
        }
      ]
    },
    {
      "cell_type": "code",
      "metadata": {
        "id": "DI0FMk-iVrmw"
      },
      "source": [
        "np_array_normal = np.random.normal(0, 1, 1000)"
      ],
      "execution_count": null,
      "outputs": []
    },
    {
      "cell_type": "code",
      "metadata": {
        "id": "W_RGINr9VrSt",
        "colab": {
          "base_uri": "https://localhost:8080/",
          "height": 337
        },
        "outputId": "6bfbea90-accd-4d8c-c4a8-14eb68ba8524"
      },
      "source": [
        "import seaborn\n",
        "\n",
        "seaborn.distplot(np_array_normal)"
      ],
      "execution_count": null,
      "outputs": [
        {
          "output_type": "stream",
          "name": "stderr",
          "text": [
            "/usr/local/lib/python3.7/dist-packages/seaborn/distributions.py:2619: FutureWarning: `distplot` is a deprecated function and will be removed in a future version. Please adapt your code to use either `displot` (a figure-level function with similar flexibility) or `histplot` (an axes-level function for histograms).\n",
            "  warnings.warn(msg, FutureWarning)\n"
          ]
        },
        {
          "output_type": "execute_result",
          "data": {
            "text/plain": [
              "<matplotlib.axes._subplots.AxesSubplot at 0x7f71cc3ee110>"
            ]
          },
          "metadata": {},
          "execution_count": 29
        },
        {
          "output_type": "display_data",
          "data": {
            "text/plain": [
              "<Figure size 432x288 with 1 Axes>"
            ],
            "image/png": "[encoded data removed]"
          },
          "metadata": {
            "needs_background": "light"
          }
        }
      ]
    },
    {
      "cell_type": "markdown",
      "metadata": {
        "id": "p4YTdB1XVrIr"
      },
      "source": [
        "## arreglos multidimensionales"
      ]
    },
    {
      "cell_type": "code",
      "metadata": {
        "id": "feKVahapVrGJ",
        "colab": {
          "base_uri": "https://localhost:8080/"
        },
        "outputId": "1778a7ab-3d04-402a-96b5-f7044bae4435"
      },
      "source": [
        "np_array = np.array(range(20))\n",
        "np_array"
      ],
      "execution_count": null,
      "outputs": [
        {
          "output_type": "execute_result",
          "data": {
            "text/plain": [
              "array([ 0,  1,  2,  3,  4,  5,  6,  7,  8,  9, 10, 11, 12, 13, 14, 15, 16,\n",
              "       17, 18, 19])"
            ]
          },
          "metadata": {},
          "execution_count": 30
        }
      ]
    },
    {
      "cell_type": "code",
      "metadata": {
        "id": "umYwB7_qiHEI",
        "colab": {
          "base_uri": "https://localhost:8080/"
        },
        "outputId": "20fbf835-2482-46e2-aec5-867465bdd205"
      },
      "source": [
        "np_array.reshape((4, 5))"
      ],
      "execution_count": null,
      "outputs": [
        {
          "output_type": "execute_result",
          "data": {
            "text/plain": [
              "array([[ 0,  1,  2,  3,  4],\n",
              "       [ 5,  6,  7,  8,  9],\n",
              "       [10, 11, 12, 13, 14],\n",
              "       [15, 16, 17, 18, 19]])"
            ]
          },
          "metadata": {},
          "execution_count": 31
        }
      ]
    },
    {
      "cell_type": "code",
      "metadata": {
        "id": "S37bl8C3iHBh",
        "colab": {
          "base_uri": "https://localhost:8080/",
          "height": 166
        },
        "outputId": "589e4c6d-0064-4e13-ca41-5469cce23cf3"
      },
      "source": [
        "np_array.reshape((4,4))"
      ],
      "execution_count": null,
      "outputs": [
        {
          "output_type": "error",
          "ename": "ValueError",
          "evalue": "ignored",
          "traceback": [
            "\u001b[0;31m---------------------------------------------------------------------------\u001b[0m",
            "\u001b[0;31mValueError\u001b[0m                                Traceback (most recent call last)",
            "\u001b[0;32m<ipython-input-32-54619ac60c04>\u001b[0m in \u001b[0;36m<module>\u001b[0;34m()\u001b[0m\n\u001b[0;32m----> 1\u001b[0;31m \u001b[0mnp_array\u001b[0m\u001b[0;34m.\u001b[0m\u001b[0mreshape\u001b[0m\u001b[0;34m(\u001b[0m\u001b[0;34m(\u001b[0m\u001b[0;36m4\u001b[0m\u001b[0;34m,\u001b[0m\u001b[0;36m4\u001b[0m\u001b[0;34m)\u001b[0m\u001b[0;34m)\u001b[0m\u001b[0;34m\u001b[0m\u001b[0;34m\u001b[0m\u001b[0m\n\u001b[0m",
            "\u001b[0;31mValueError\u001b[0m: cannot reshape array of size 20 into shape (4,4)"
          ]
        }
      ]
    },
    {
      "cell_type": "code",
      "metadata": {
        "id": "N9vXwqYoiG63",
        "colab": {
          "base_uri": "https://localhost:8080/"
        },
        "outputId": "2690ab67-6fd1-456c-ad78-b51a343bfad4"
      },
      "source": [
        "np_array_multi = np_array.reshape((4, 5))\n",
        "np_array_multi"
      ],
      "execution_count": null,
      "outputs": [
        {
          "output_type": "execute_result",
          "data": {
            "text/plain": [
              "array([[ 0,  1,  2,  3,  4],\n",
              "       [ 5,  6,  7,  8,  9],\n",
              "       [10, 11, 12, 13, 14],\n",
              "       [15, 16, 17, 18, 19]])"
            ]
          },
          "metadata": {},
          "execution_count": 33
        }
      ]
    },
    {
      "cell_type": "code",
      "metadata": {
        "id": "lzB0WLx_iGrS",
        "colab": {
          "base_uri": "https://localhost:8080/"
        },
        "outputId": "94a9e02d-a424-4861-c02f-80d0d7c1c536"
      },
      "source": [
        "np_array_multi[2, 3]"
      ],
      "execution_count": null,
      "outputs": [
        {
          "output_type": "execute_result",
          "data": {
            "text/plain": [
              "13"
            ]
          },
          "metadata": {},
          "execution_count": 34
        }
      ]
    },
    {
      "cell_type": "code",
      "metadata": {
        "id": "dyBH7N6byYta",
        "colab": {
          "base_uri": "https://localhost:8080/"
        },
        "outputId": "9697d746-daeb-4550-e2c4-4b5bc40b9619"
      },
      "source": [
        "np_array_multi.T # matriz transpuesta"
      ],
      "execution_count": null,
      "outputs": [
        {
          "output_type": "execute_result",
          "data": {
            "text/plain": [
              "array([[ 0,  5, 10, 15],\n",
              "       [ 1,  6, 11, 16],\n",
              "       [ 2,  7, 12, 17],\n",
              "       [ 3,  8, 13, 18],\n",
              "       [ 4,  9, 14, 19]])"
            ]
          },
          "metadata": {},
          "execution_count": 35
        }
      ]
    },
    {
      "cell_type": "code",
      "metadata": {
        "id": "6FCFlqIFyYqs"
      },
      "source": [
        ""
      ],
      "execution_count": null,
      "outputs": []
    },
    {
      "cell_type": "code",
      "metadata": {
        "id": "yMo1eFdmyYoS"
      },
      "source": [
        ""
      ],
      "execution_count": null,
      "outputs": []
    },
    {
      "cell_type": "code",
      "metadata": {
        "id": "Gar20meEyYg5"
      },
      "source": [
        ""
      ],
      "execution_count": null,
      "outputs": []
    },
    {
      "cell_type": "code",
      "metadata": {
        "id": "0cC69eKlyYUG"
      },
      "source": [
        ""
      ],
      "execution_count": null,
      "outputs": []
    },
    {
      "cell_type": "markdown",
      "metadata": {
        "id": "6D1_m6Q1VrB7"
      },
      "source": [
        "## atributos de numpy arrays"
      ]
    },
    {
      "cell_type": "code",
      "metadata": {
        "id": "EQTwEeNAVqu8"
      },
      "source": [
        "np_array = np.array(range(20))\n",
        "np_array_multi = np.array(range(20)).reshape((4,5))"
      ],
      "execution_count": null,
      "outputs": []
    },
    {
      "cell_type": "code",
      "metadata": {
        "id": "Q4PDfGKjkBA_",
        "colab": {
          "base_uri": "https://localhost:8080/"
        },
        "outputId": "d7a10601-22b6-483c-f5ec-65a8af358895"
      },
      "source": [
        "np_array"
      ],
      "execution_count": null,
      "outputs": [
        {
          "output_type": "execute_result",
          "data": {
            "text/plain": [
              "array([ 0,  1,  2,  3,  4,  5,  6,  7,  8,  9, 10, 11, 12, 13, 14, 15, 16,\n",
              "       17, 18, 19])"
            ]
          },
          "metadata": {},
          "execution_count": 37
        }
      ]
    },
    {
      "cell_type": "code",
      "metadata": {
        "id": "gksgR80wkA-c",
        "colab": {
          "base_uri": "https://localhost:8080/"
        },
        "outputId": "b3d5f282-12c1-4ec2-c6f0-6a03a6e2311b"
      },
      "source": [
        "np_array_multi"
      ],
      "execution_count": null,
      "outputs": [
        {
          "output_type": "execute_result",
          "data": {
            "text/plain": [
              "array([[ 0,  1,  2,  3,  4],\n",
              "       [ 5,  6,  7,  8,  9],\n",
              "       [10, 11, 12, 13, 14],\n",
              "       [15, 16, 17, 18, 19]])"
            ]
          },
          "metadata": {},
          "execution_count": 38
        }
      ]
    },
    {
      "cell_type": "code",
      "metadata": {
        "id": "6pQWlNyUkA3t",
        "colab": {
          "base_uri": "https://localhost:8080/"
        },
        "outputId": "5be1f80e-a680-4b0e-febd-c17c46e0cd31"
      },
      "source": [
        "np_array.shape"
      ],
      "execution_count": null,
      "outputs": [
        {
          "output_type": "execute_result",
          "data": {
            "text/plain": [
              "(20,)"
            ]
          },
          "metadata": {},
          "execution_count": 39
        }
      ]
    },
    {
      "cell_type": "code",
      "metadata": {
        "id": "FmWuorCAkAnW",
        "colab": {
          "base_uri": "https://localhost:8080/"
        },
        "outputId": "d3015118-40be-49e6-a4ce-f7e02b36e9d9"
      },
      "source": [
        "np_array_multi.shape"
      ],
      "execution_count": null,
      "outputs": [
        {
          "output_type": "execute_result",
          "data": {
            "text/plain": [
              "(4, 5)"
            ]
          },
          "metadata": {},
          "execution_count": 40
        }
      ]
    },
    {
      "cell_type": "code",
      "metadata": {
        "id": "90jaxmMKoMUl",
        "colab": {
          "base_uri": "https://localhost:8080/"
        },
        "outputId": "35db7691-f9bf-4712-cbdc-7daf8810ac1a"
      },
      "source": [
        "np_array.ndim"
      ],
      "execution_count": null,
      "outputs": [
        {
          "output_type": "execute_result",
          "data": {
            "text/plain": [
              "1"
            ]
          },
          "metadata": {},
          "execution_count": 41
        }
      ]
    },
    {
      "cell_type": "code",
      "metadata": {
        "id": "G6uQtA_yoMG7",
        "colab": {
          "base_uri": "https://localhost:8080/"
        },
        "outputId": "4dc35051-c992-47e7-cf7d-0f81e7ac43f4"
      },
      "source": [
        "np_array_multi.ndim"
      ],
      "execution_count": null,
      "outputs": [
        {
          "output_type": "execute_result",
          "data": {
            "text/plain": [
              "2"
            ]
          },
          "metadata": {},
          "execution_count": 42
        }
      ]
    },
    {
      "cell_type": "code",
      "metadata": {
        "id": "8wwBMS7goMD7",
        "colab": {
          "base_uri": "https://localhost:8080/"
        },
        "outputId": "8a4a9849-fa10-41e4-d22b-6409fd377df1"
      },
      "source": [
        "np_array.size"
      ],
      "execution_count": null,
      "outputs": [
        {
          "output_type": "execute_result",
          "data": {
            "text/plain": [
              "20"
            ]
          },
          "metadata": {},
          "execution_count": 43
        }
      ]
    },
    {
      "cell_type": "code",
      "metadata": {
        "id": "W6XnQ1SDoL2j",
        "colab": {
          "base_uri": "https://localhost:8080/"
        },
        "outputId": "84427b8f-6c85-4c59-a386-4e84f44316cc"
      },
      "source": [
        "np_array_multi.size"
      ],
      "execution_count": null,
      "outputs": [
        {
          "output_type": "execute_result",
          "data": {
            "text/plain": [
              "20"
            ]
          },
          "metadata": {},
          "execution_count": 44
        }
      ]
    },
    {
      "cell_type": "markdown",
      "metadata": {
        "id": "Bfho2uixoLo3"
      },
      "source": [
        "## atributos, métodos y funciones"
      ]
    },
    {
      "cell_type": "code",
      "metadata": {
        "id": "Pqh1N5VAoLlx",
        "colab": {
          "base_uri": "https://localhost:8080/"
        },
        "outputId": "14193e51-97f1-44ae-8670-f3a70df7ba41"
      },
      "source": [
        "np_array = np.array(range(20))\n",
        "np_array"
      ],
      "execution_count": null,
      "outputs": [
        {
          "output_type": "execute_result",
          "data": {
            "text/plain": [
              "array([ 0,  1,  2,  3,  4,  5,  6,  7,  8,  9, 10, 11, 12, 13, 14, 15, 16,\n",
              "       17, 18, 19])"
            ]
          },
          "metadata": {},
          "execution_count": 45
        }
      ]
    },
    {
      "cell_type": "code",
      "metadata": {
        "id": "-lntyaepoLdu",
        "colab": {
          "base_uri": "https://localhost:8080/"
        },
        "outputId": "e2e535cd-4389-4339-9ce2-629fd8aba22f"
      },
      "source": [
        "np_array.shape"
      ],
      "execution_count": null,
      "outputs": [
        {
          "output_type": "execute_result",
          "data": {
            "text/plain": [
              "(20,)"
            ]
          },
          "metadata": {},
          "execution_count": 46
        }
      ]
    },
    {
      "cell_type": "code",
      "metadata": {
        "id": "bwIpiISloLOn",
        "colab": {
          "base_uri": "https://localhost:8080/"
        },
        "outputId": "088882e7-35f9-41dd-e4f3-b64d16921dd1"
      },
      "source": [
        "np.sum(np_array)"
      ],
      "execution_count": null,
      "outputs": [
        {
          "output_type": "execute_result",
          "data": {
            "text/plain": [
              "190"
            ]
          },
          "metadata": {},
          "execution_count": 47
        }
      ]
    },
    {
      "cell_type": "code",
      "metadata": {
        "id": "Zer-exL-oLAU",
        "colab": {
          "base_uri": "https://localhost:8080/"
        },
        "outputId": "637a4bd4-5f36-4ac5-813a-c41b1e8f5e6d"
      },
      "source": [
        "np_array.sum()"
      ],
      "execution_count": null,
      "outputs": [
        {
          "output_type": "execute_result",
          "data": {
            "text/plain": [
              "190"
            ]
          },
          "metadata": {},
          "execution_count": 48
        }
      ]
    },
    {
      "cell_type": "code",
      "metadata": {
        "id": "1UrQTorKqtXo",
        "colab": {
          "base_uri": "https://localhost:8080/",
          "height": 166
        },
        "outputId": "78a12df6-057f-4c8e-e322-5c9e4503ad13"
      },
      "source": [
        "np_array.shape()"
      ],
      "execution_count": null,
      "outputs": [
        {
          "output_type": "error",
          "ename": "TypeError",
          "evalue": "ignored",
          "traceback": [
            "\u001b[0;31m---------------------------------------------------------------------------\u001b[0m",
            "\u001b[0;31mTypeError\u001b[0m                                 Traceback (most recent call last)",
            "\u001b[0;32m<ipython-input-49-ceed52c4d811>\u001b[0m in \u001b[0;36m<module>\u001b[0;34m()\u001b[0m\n\u001b[0;32m----> 1\u001b[0;31m \u001b[0mnp_array\u001b[0m\u001b[0;34m.\u001b[0m\u001b[0mshape\u001b[0m\u001b[0;34m(\u001b[0m\u001b[0;34m)\u001b[0m\u001b[0;34m\u001b[0m\u001b[0;34m\u001b[0m\u001b[0m\n\u001b[0m",
            "\u001b[0;31mTypeError\u001b[0m: 'tuple' object is not callable"
          ]
        }
      ]
    },
    {
      "cell_type": "markdown",
      "metadata": {
        "id": "HYmKcZ6MqtKL"
      },
      "source": [
        "## indexado de elementos"
      ]
    },
    {
      "cell_type": "code",
      "metadata": {
        "id": "SBDIYFR2wHMO",
        "colab": {
          "base_uri": "https://localhost:8080/"
        },
        "outputId": "28162554-1e8d-469a-9cf7-13b5907c0e9a"
      },
      "source": [
        "np_array = np.array(range(20)).reshape(4,5)\n",
        "np_array"
      ],
      "execution_count": null,
      "outputs": [
        {
          "output_type": "execute_result",
          "data": {
            "text/plain": [
              "array([[ 0,  1,  2,  3,  4],\n",
              "       [ 5,  6,  7,  8,  9],\n",
              "       [10, 11, 12, 13, 14],\n",
              "       [15, 16, 17, 18, 19]])"
            ]
          },
          "metadata": {},
          "execution_count": 50
        }
      ]
    },
    {
      "cell_type": "code",
      "metadata": {
        "id": "fhX4nGpbwHJd",
        "colab": {
          "base_uri": "https://localhost:8080/"
        },
        "outputId": "1bebc04a-2d64-4729-d5ed-a78c35bd0cc8"
      },
      "source": [
        "np_array[2,3]"
      ],
      "execution_count": null,
      "outputs": [
        {
          "output_type": "execute_result",
          "data": {
            "text/plain": [
              "13"
            ]
          },
          "metadata": {},
          "execution_count": 51
        }
      ]
    },
    {
      "cell_type": "code",
      "metadata": {
        "id": "kmWlOWbPwG6Z",
        "colab": {
          "base_uri": "https://localhost:8080/"
        },
        "outputId": "75ea9d1b-0018-4ec0-b24b-9d5fe3c78663"
      },
      "source": [
        "np_array > 10"
      ],
      "execution_count": null,
      "outputs": [
        {
          "output_type": "execute_result",
          "data": {
            "text/plain": [
              "array([[False, False, False, False, False],\n",
              "       [False, False, False, False, False],\n",
              "       [False,  True,  True,  True,  True],\n",
              "       [ True,  True,  True,  True,  True]])"
            ]
          },
          "metadata": {},
          "execution_count": 52
        }
      ]
    },
    {
      "cell_type": "code",
      "metadata": {
        "id": "sOqlYqdHwG3p",
        "colab": {
          "base_uri": "https://localhost:8080/"
        },
        "outputId": "6f4360d1-50e7-4e3d-8960-3d7dd32ccd5b"
      },
      "source": [
        "np_array % 2 == 0"
      ],
      "execution_count": null,
      "outputs": [
        {
          "output_type": "execute_result",
          "data": {
            "text/plain": [
              "array([[ True, False,  True, False,  True],\n",
              "       [False,  True, False,  True, False],\n",
              "       [ True, False,  True, False,  True],\n",
              "       [False,  True, False,  True, False]])"
            ]
          },
          "metadata": {},
          "execution_count": 53
        }
      ]
    },
    {
      "cell_type": "code",
      "metadata": {
        "id": "eJDRzbZBwGqU",
        "colab": {
          "base_uri": "https://localhost:8080/"
        },
        "outputId": "20957613-116c-4185-da69-81f8d65055cb"
      },
      "source": [
        "np_array[np_array % 2 == 0] #filtrando el arreglo"
      ],
      "execution_count": null,
      "outputs": [
        {
          "output_type": "execute_result",
          "data": {
            "text/plain": [
              "array([ 0,  2,  4,  6,  8, 10, 12, 14, 16, 18])"
            ]
          },
          "metadata": {},
          "execution_count": 56
        }
      ]
    },
    {
      "cell_type": "code",
      "metadata": {
        "id": "SplpAQKwwGnk",
        "colab": {
          "base_uri": "https://localhost:8080/"
        },
        "outputId": "2f776092-03f5-46d7-f13b-37686ce6f713"
      },
      "source": [
        "np_array[np_array > 10]"
      ],
      "execution_count": null,
      "outputs": [
        {
          "output_type": "execute_result",
          "data": {
            "text/plain": [
              "array([11, 12, 13, 14, 15, 16, 17, 18, 19])"
            ]
          },
          "metadata": {},
          "execution_count": 55
        }
      ]
    },
    {
      "cell_type": "markdown",
      "metadata": {
        "id": "AjQo0qP1qscE"
      },
      "source": [
        "## slicing de numpy arrays"
      ]
    },
    {
      "cell_type": "code",
      "metadata": {
        "id": "IAcC0kG33PLi"
      },
      "source": [
        "lista = [10, 20, 30, 40 ,50, 60, 70, 80, 90, 100]"
      ],
      "execution_count": null,
      "outputs": []
    },
    {
      "cell_type": "code",
      "metadata": {
        "id": "7ux0xt4-4Y2h",
        "colab": {
          "base_uri": "https://localhost:8080/"
        },
        "outputId": "11528c37-7494-4c17-9585-e57910c13857"
      },
      "source": [
        "lista[2:8:2]"
      ],
      "execution_count": null,
      "outputs": [
        {
          "output_type": "execute_result",
          "data": {
            "text/plain": [
              "[30, 50, 70]"
            ]
          },
          "metadata": {},
          "execution_count": 58
        }
      ]
    },
    {
      "cell_type": "code",
      "metadata": {
        "id": "VvNOtiFS3PWK",
        "colab": {
          "base_uri": "https://localhost:8080/"
        },
        "outputId": "d890014d-fb4c-465b-f364-17c919fe2779"
      },
      "source": [
        "np_array = np.array(range(100)).reshape(10,10)\n",
        "np_array"
      ],
      "execution_count": null,
      "outputs": [
        {
          "output_type": "execute_result",
          "data": {
            "text/plain": [
              "array([[ 0,  1,  2,  3,  4,  5,  6,  7,  8,  9],\n",
              "       [10, 11, 12, 13, 14, 15, 16, 17, 18, 19],\n",
              "       [20, 21, 22, 23, 24, 25, 26, 27, 28, 29],\n",
              "       [30, 31, 32, 33, 34, 35, 36, 37, 38, 39],\n",
              "       [40, 41, 42, 43, 44, 45, 46, 47, 48, 49],\n",
              "       [50, 51, 52, 53, 54, 55, 56, 57, 58, 59],\n",
              "       [60, 61, 62, 63, 64, 65, 66, 67, 68, 69],\n",
              "       [70, 71, 72, 73, 74, 75, 76, 77, 78, 79],\n",
              "       [80, 81, 82, 83, 84, 85, 86, 87, 88, 89],\n",
              "       [90, 91, 92, 93, 94, 95, 96, 97, 98, 99]])"
            ]
          },
          "metadata": {},
          "execution_count": 59
        }
      ]
    },
    {
      "cell_type": "code",
      "metadata": {
        "id": "N0JSto9e3PI7",
        "colab": {
          "base_uri": "https://localhost:8080/"
        },
        "outputId": "8cf4850e-235e-41f1-f9f0-45856e5087d4"
      },
      "source": [
        "np_array[2:5,]"
      ],
      "execution_count": null,
      "outputs": [
        {
          "output_type": "execute_result",
          "data": {
            "text/plain": [
              "array([[20, 21, 22, 23, 24, 25, 26, 27, 28, 29],\n",
              "       [30, 31, 32, 33, 34, 35, 36, 37, 38, 39],\n",
              "       [40, 41, 42, 43, 44, 45, 46, 47, 48, 49]])"
            ]
          },
          "metadata": {},
          "execution_count": 62
        }
      ]
    },
    {
      "cell_type": "code",
      "metadata": {
        "id": "5I1QpVhm3PBV",
        "colab": {
          "base_uri": "https://localhost:8080/"
        },
        "outputId": "714f558e-e0bb-4301-cfca-40dbb6816a92"
      },
      "source": [
        "np_array[2:5,2:4]"
      ],
      "execution_count": null,
      "outputs": [
        {
          "output_type": "execute_result",
          "data": {
            "text/plain": [
              "array([[22, 23],\n",
              "       [32, 33],\n",
              "       [42, 43]])"
            ]
          },
          "metadata": {},
          "execution_count": 63
        }
      ]
    },
    {
      "cell_type": "code",
      "metadata": {
        "id": "ZjJo90J83Ozp",
        "colab": {
          "base_uri": "https://localhost:8080/"
        },
        "outputId": "70637e1f-c7aa-49f3-c139-9dfa19c3548a"
      },
      "source": [
        "np_array[::2]"
      ],
      "execution_count": null,
      "outputs": [
        {
          "output_type": "execute_result",
          "data": {
            "text/plain": [
              "array([[ 0,  1,  2,  3,  4,  5,  6,  7,  8,  9],\n",
              "       [20, 21, 22, 23, 24, 25, 26, 27, 28, 29],\n",
              "       [40, 41, 42, 43, 44, 45, 46, 47, 48, 49],\n",
              "       [60, 61, 62, 63, 64, 65, 66, 67, 68, 69],\n",
              "       [80, 81, 82, 83, 84, 85, 86, 87, 88, 89]])"
            ]
          },
          "metadata": {},
          "execution_count": 64
        }
      ]
    },
    {
      "cell_type": "markdown",
      "metadata": {
        "id": "O7GFfYpd3-AF"
      },
      "source": [
        "## axis"
      ]
    },
    {
      "cell_type": "code",
      "metadata": {
        "id": "mQcXS8fM39ts",
        "colab": {
          "base_uri": "https://localhost:8080/"
        },
        "outputId": "681fe13c-d991-4696-bd1b-3e26539692f3"
      },
      "source": [
        "np_array_multi = np.random.randint(10, 50, 20).reshape((4,5))\n",
        "np_array_multi"
      ],
      "execution_count": null,
      "outputs": [
        {
          "output_type": "execute_result",
          "data": {
            "text/plain": [
              "array([[19, 24, 16, 25, 46],\n",
              "       [17, 48, 26, 37, 13],\n",
              "       [42, 39, 20, 27, 39],\n",
              "       [49, 46, 44, 26, 10]])"
            ]
          },
          "metadata": {},
          "execution_count": 65
        }
      ]
    },
    {
      "cell_type": "code",
      "metadata": {
        "id": "jYuFW73H4VUC",
        "colab": {
          "base_uri": "https://localhost:8080/"
        },
        "outputId": "7b8e71a5-fa95-44cc-ba12-67ce9697224f"
      },
      "source": [
        "np.sum(np_array_multi)"
      ],
      "execution_count": null,
      "outputs": [
        {
          "output_type": "execute_result",
          "data": {
            "text/plain": [
              "613"
            ]
          },
          "metadata": {},
          "execution_count": 66
        }
      ]
    },
    {
      "cell_type": "code",
      "metadata": {
        "id": "sx7P0GNu_xG8",
        "colab": {
          "base_uri": "https://localhost:8080/"
        },
        "outputId": "901b5fea-5b60-4c19-f8fe-c684011afde0"
      },
      "source": [
        "np.sum(np_array_multi, axis = 0) # como se tiene 2 dimenciones puede tomar 2 valores del eje,\n",
        "# con axis =0, coincide con el numero de la suma de todas las filas, para la columa i "
      ],
      "execution_count": null,
      "outputs": [
        {
          "output_type": "execute_result",
          "data": {
            "text/plain": [
              "array([127, 157, 106, 115, 108])"
            ]
          },
          "metadata": {},
          "execution_count": 68
        }
      ]
    },
    {
      "cell_type": "code",
      "metadata": {
        "id": "tbm_paoQAL63",
        "colab": {
          "base_uri": "https://localhost:8080/"
        },
        "outputId": "bd6df24f-6cdf-46c5-d264-0e208955b1e2"
      },
      "source": [
        "np.sum(np_array_multi, axis = 1)"
      ],
      "execution_count": null,
      "outputs": [
        {
          "output_type": "execute_result",
          "data": {
            "text/plain": [
              "array([130, 141, 167, 175])"
            ]
          },
          "metadata": {},
          "execution_count": 69
        }
      ]
    },
    {
      "cell_type": "code",
      "metadata": {
        "id": "M9XP4LH6AWGo",
        "colab": {
          "base_uri": "https://localhost:8080/"
        },
        "outputId": "a2696bfd-0586-4924-964c-7379ba232f19"
      },
      "source": [
        "np.sort(np_array_multi, axis = 0)"
      ],
      "execution_count": null,
      "outputs": [
        {
          "output_type": "execute_result",
          "data": {
            "text/plain": [
              "array([[17, 24, 16, 25, 10],\n",
              "       [19, 39, 20, 26, 13],\n",
              "       [42, 46, 26, 27, 39],\n",
              "       [49, 48, 44, 37, 46]])"
            ]
          },
          "metadata": {},
          "execution_count": 70
        }
      ]
    },
    {
      "cell_type": "code",
      "metadata": {
        "id": "xTWudYn3BljC",
        "colab": {
          "base_uri": "https://localhost:8080/"
        },
        "outputId": "49703ad9-b3dd-4581-87ee-2146899f317e"
      },
      "source": [
        "np.sort(np_array_multi, axis = 1)"
      ],
      "execution_count": null,
      "outputs": [
        {
          "output_type": "execute_result",
          "data": {
            "text/plain": [
              "array([[16, 19, 24, 25, 46],\n",
              "       [13, 17, 26, 37, 48],\n",
              "       [20, 27, 39, 39, 42],\n",
              "       [10, 26, 44, 46, 49]])"
            ]
          },
          "metadata": {},
          "execution_count": 71
        }
      ]
    },
    {
      "cell_type": "code",
      "metadata": {
        "id": "TYWLOmflBqk_",
        "colab": {
          "base_uri": "https://localhost:8080/"
        },
        "outputId": "53930e84-06c8-4989-a367-3df89639afd3"
      },
      "source": [
        "np.sort(np_array_multi)"
      ],
      "execution_count": null,
      "outputs": [
        {
          "output_type": "execute_result",
          "data": {
            "text/plain": [
              "array([[16, 19, 24, 25, 46],\n",
              "       [13, 17, 26, 37, 48],\n",
              "       [20, 27, 39, 39, 42],\n",
              "       [10, 26, 44, 46, 49]])"
            ]
          },
          "metadata": {},
          "execution_count": 72
        }
      ]
    },
    {
      "cell_type": "code",
      "source": [
        "def funcion(valor): return [numero for numero in range(1,valor) if valor % numero == 0]"
      ],
      "metadata": {
        "id": "syWfNa5Hv-EH"
      },
      "execution_count": null,
      "outputs": []
    },
    {
      "cell_type": "code",
      "source": [
        " A = numpy.array([1,2,3,4,5]) \n",
        " B = numpy.array([2,1,3,4,5]) \n",
        " (A == B).min()\n"
      ],
      "metadata": {
        "colab": {
          "base_uri": "https://localhost:8080/"
        },
        "id": "bCoPov8EwuQj",
        "outputId": "5136c41f-b18a-401e-d48b-d72dd8b69e2f"
      },
      "execution_count": null,
      "outputs": [
        {
          "output_type": "execute_result",
          "data": {
            "text/plain": [
              "False"
            ]
          },
          "metadata": {},
          "execution_count": 77
        }
      ]
    },
    {
      "cell_type": "code",
      "source": [
        "a = numpy.array([10,20,30,40,50]) \n",
        "a[a % 4 == 0]"
      ],
      "metadata": {
        "colab": {
          "base_uri": "https://localhost:8080/"
        },
        "id": "zUaKGCGUxVVm",
        "outputId": "d297c94d-724d-42e9-f05b-7aae8a55beaa"
      },
      "execution_count": null,
      "outputs": [
        {
          "output_type": "execute_result",
          "data": {
            "text/plain": [
              "array([20, 40])"
            ]
          },
          "metadata": {},
          "execution_count": 78
        }
      ]
    },
    {
      "cell_type": "code",
      "source": [
        "def suma(a, b): \n",
        "  s = a + b \n",
        "  return s \n",
        "suma = suma(5, 6) \n",
        "suma"
      ],
      "metadata": {
        "colab": {
          "base_uri": "https://localhost:8080/"
        },
        "id": "Y-7CstezxqqD",
        "outputId": "49df5c00-7562-4042-e23f-2e23062a2d56"
      },
      "execution_count": null,
      "outputs": [
        {
          "output_type": "execute_result",
          "data": {
            "text/plain": [
              "11"
            ]
          },
          "metadata": {},
          "execution_count": 83
        }
      ]
    },
    {
      "cell_type": "code",
      "source": [
        "a = numpy.random.randint(1, 10, 10).reshape(2, 5)"
      ],
      "metadata": {
        "id": "kRFmOGGqx16k"
      },
      "execution_count": null,
      "outputs": []
    },
    {
      "cell_type": "code",
      "source": [
        "np.shape(a)"
      ],
      "metadata": {
        "id": "zmEjys42yC4b",
        "outputId": "ce0682ca-305b-43f9-a7c3-b15443ed59c5",
        "colab": {
          "base_uri": "https://localhost:8080/"
        }
      },
      "execution_count": null,
      "outputs": [
        {
          "output_type": "execute_result",
          "data": {
            "text/plain": [
              "(2, 5)"
            ]
          },
          "metadata": {},
          "execution_count": 86
        }
      ]
    },
    {
      "cell_type": "code",
      "source": [
        ""
      ],
      "metadata": {
        "id": "aWQlMusWyEyw"
      },
      "execution_count": null,
      "outputs": []
    }
  ]
}