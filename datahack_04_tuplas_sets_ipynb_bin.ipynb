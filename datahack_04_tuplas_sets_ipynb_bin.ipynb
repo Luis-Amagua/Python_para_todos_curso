{
  "nbformat": 4,
  "nbformat_minor": 0,
  "metadata": {
    "colab": {
      "name": "datahack-04-tuplas-sets.ipynb.bin",
      "provenance": [],
      "collapsed_sections": [],
      "include_colab_link": true
    },
    "kernelspec": {
      "name": "python3",
      "display_name": "Python 3"
    }
  },
  "cells": [
    {
      "cell_type": "markdown",
      "metadata": {
        "id": "view-in-github",
        "colab_type": "text"
      },
      "source": [
        "<a href=\"https://colab.research.google.com/github/Luis-Amagua/Python_para_todos_curso/blob/main/datahack_04_tuplas_sets_ipynb_bin.ipynb\" target=\"_parent\"><img src=\"https://colab.research.google.com/assets/colab-badge.svg\" alt=\"Open In Colab\"/></a>"
      ]
    },
    {
      "cell_type": "markdown",
      "metadata": {
        "id": "2dwXf6vctexH"
      },
      "source": [
        "# Datahack - Tuplas y Sets"
      ]
    },
    {
      "cell_type": "markdown",
      "metadata": {
        "id": "z26ubRpQtlVB"
      },
      "source": [
        "# Tuplas"
      ]
    },
    {
      "cell_type": "markdown",
      "source": [
        "\n",
        "tuplas tambien representan colecciones de datos, similar a las listas\n",
        "las tuplas NO son MUTABLES\n",
        "\n"
      ],
      "metadata": {
        "id": "A77AbsIeXREQ"
      }
    },
    {
      "cell_type": "code",
      "metadata": {
        "id": "IEugn_0xtlTJ"
      },
      "source": [
        "lista = [1,2,3,4]"
      ],
      "execution_count": null,
      "outputs": []
    },
    {
      "cell_type": "code",
      "metadata": {
        "id": "6g0JNKsXtlMq"
      },
      "source": [
        "tupla = (10, 20, 30, 40)"
      ],
      "execution_count": null,
      "outputs": []
    },
    {
      "cell_type": "code",
      "metadata": {
        "id": "B33Bfy2ZtlIJ",
        "colab": {
          "base_uri": "https://localhost:8080/"
        },
        "outputId": "ac910dc7-a3df-4bd2-e062-c76ef34b75b6"
      },
      "source": [
        "tupla[2]"
      ],
      "execution_count": null,
      "outputs": [
        {
          "output_type": "execute_result",
          "data": {
            "text/plain": [
              "30"
            ]
          },
          "metadata": {},
          "execution_count": 3
        }
      ]
    },
    {
      "cell_type": "code",
      "metadata": {
        "id": "YxXj1n4otlCl",
        "colab": {
          "base_uri": "https://localhost:8080/"
        },
        "outputId": "2e64862b-15fc-41d7-b7e8-2a44569dc985"
      },
      "source": [
        "tupla[-1]"
      ],
      "execution_count": null,
      "outputs": [
        {
          "output_type": "execute_result",
          "data": {
            "text/plain": [
              "40"
            ]
          },
          "metadata": {},
          "execution_count": 4
        }
      ]
    },
    {
      "cell_type": "code",
      "metadata": {
        "id": "mHoJXLShtk5E"
      },
      "source": [
        "lista[2] = 12345"
      ],
      "execution_count": null,
      "outputs": []
    },
    {
      "cell_type": "code",
      "metadata": {
        "id": "PHimjDaJtkzn",
        "colab": {
          "base_uri": "https://localhost:8080/"
        },
        "outputId": "2f45970f-de18-4bd8-e4cc-87e35e24ca14"
      },
      "source": [
        "lista"
      ],
      "execution_count": null,
      "outputs": [
        {
          "output_type": "execute_result",
          "data": {
            "text/plain": [
              "[1, 2, 12345, 4]"
            ]
          },
          "metadata": {},
          "execution_count": 6
        }
      ]
    },
    {
      "cell_type": "code",
      "metadata": {
        "id": "YlEyjEcetks2",
        "colab": {
          "base_uri": "https://localhost:8080/"
        },
        "outputId": "7e9a8f25-aba2-40b1-8f2d-56d87ec327ff"
      },
      "source": [
        "tupla"
      ],
      "execution_count": null,
      "outputs": [
        {
          "output_type": "execute_result",
          "data": {
            "text/plain": [
              "(10, 20, 30, 40)"
            ]
          },
          "metadata": {},
          "execution_count": 7
        }
      ]
    },
    {
      "cell_type": "code",
      "metadata": {
        "id": "Id8L0AL6xbya",
        "colab": {
          "base_uri": "https://localhost:8080/",
          "height": 166
        },
        "outputId": "66819105-d313-4a49-a64e-1ab81e6ebde1"
      },
      "source": [
        "tupla[2] = 12345 # la tpla NO ES MUTABLE (INMUTABLE)"
      ],
      "execution_count": null,
      "outputs": [
        {
          "output_type": "error",
          "ename": "TypeError",
          "evalue": "ignored",
          "traceback": [
            "\u001b[0;31m---------------------------------------------------------------------------\u001b[0m",
            "\u001b[0;31mTypeError\u001b[0m                                 Traceback (most recent call last)",
            "\u001b[0;32m<ipython-input-9-de9e34dcf2c8>\u001b[0m in \u001b[0;36m<module>\u001b[0;34m()\u001b[0m\n\u001b[0;32m----> 1\u001b[0;31m \u001b[0mtupla\u001b[0m\u001b[0;34m[\u001b[0m\u001b[0;36m2\u001b[0m\u001b[0;34m]\u001b[0m \u001b[0;34m=\u001b[0m \u001b[0;36m12345\u001b[0m \u001b[0;31m# la tpla NO ES MUTABLE (INMUTABLE)\u001b[0m\u001b[0;34m\u001b[0m\u001b[0;34m\u001b[0m\u001b[0m\n\u001b[0m",
            "\u001b[0;31mTypeError\u001b[0m: 'tuple' object does not support item assignment"
          ]
        }
      ]
    },
    {
      "cell_type": "markdown",
      "metadata": {
        "id": "cbSq422-xdVO"
      },
      "source": [
        "# Tuplas: generación"
      ]
    },
    {
      "cell_type": "code",
      "metadata": {
        "id": "Ejx2Ccfuxmjd"
      },
      "source": [
        "a = 5\n",
        "b = 6"
      ],
      "execution_count": null,
      "outputs": []
    },
    {
      "cell_type": "code",
      "metadata": {
        "id": "OKVjk5X7xn6r"
      },
      "source": [
        "tupla = a, b"
      ],
      "execution_count": null,
      "outputs": []
    },
    {
      "cell_type": "code",
      "metadata": {
        "id": "P64rEZrkxnvR",
        "colab": {
          "base_uri": "https://localhost:8080/"
        },
        "outputId": "59aafa2b-f101-4a5c-f2b9-b5e00ff560da"
      },
      "source": [
        "tupla"
      ],
      "execution_count": null,
      "outputs": [
        {
          "output_type": "execute_result",
          "data": {
            "text/plain": [
              "(5, 6)"
            ]
          },
          "metadata": {},
          "execution_count": 12
        }
      ]
    },
    {
      "cell_type": "code",
      "metadata": {
        "id": "u5xgOlJ-xmcP",
        "colab": {
          "base_uri": "https://localhost:8080/"
        },
        "outputId": "d7d6cbf7-0fac-4e90-c485-aabadbce30ec"
      },
      "source": [
        "type(tupla)"
      ],
      "execution_count": null,
      "outputs": [
        {
          "output_type": "execute_result",
          "data": {
            "text/plain": [
              "tuple"
            ]
          },
          "metadata": {},
          "execution_count": 13
        }
      ]
    },
    {
      "cell_type": "code",
      "metadata": {
        "id": "s7Kq9uCgxmZC",
        "colab": {
          "base_uri": "https://localhost:8080/"
        },
        "outputId": "ac926fcc-0670-4173-cd48-2d7fc989b761"
      },
      "source": [
        "tupla[0]"
      ],
      "execution_count": null,
      "outputs": [
        {
          "output_type": "execute_result",
          "data": {
            "text/plain": [
              "5"
            ]
          },
          "metadata": {},
          "execution_count": 14
        }
      ]
    },
    {
      "cell_type": "code",
      "metadata": {
        "id": "KpL-BYgBxmVz",
        "colab": {
          "base_uri": "https://localhost:8080/"
        },
        "outputId": "8a1aeabd-0327-4efb-c201-3b430e47bdf1"
      },
      "source": [
        "tupla[1]"
      ],
      "execution_count": null,
      "outputs": [
        {
          "output_type": "execute_result",
          "data": {
            "text/plain": [
              "6"
            ]
          },
          "metadata": {},
          "execution_count": 15
        }
      ]
    },
    {
      "cell_type": "markdown",
      "metadata": {
        "id": "CZUPnLhixmUw"
      },
      "source": [
        "# Casteo"
      ]
    },
    {
      "cell_type": "code",
      "metadata": {
        "id": "WCEXKwoaxmLI"
      },
      "source": [
        "tupla = 40, 50, 60"
      ],
      "execution_count": null,
      "outputs": []
    },
    {
      "cell_type": "code",
      "metadata": {
        "id": "gMEnSsCzyMA_",
        "colab": {
          "base_uri": "https://localhost:8080/"
        },
        "outputId": "af16e502-4f18-45dc-9ec5-b98de167773e"
      },
      "source": [
        "tupla"
      ],
      "execution_count": null,
      "outputs": [
        {
          "output_type": "execute_result",
          "data": {
            "text/plain": [
              "(40, 50, 60)"
            ]
          },
          "metadata": {},
          "execution_count": 24
        }
      ]
    },
    {
      "cell_type": "code",
      "metadata": {
        "id": "LAFT5jOUyL8Y"
      },
      "source": [
        "lista = list(tupla)"
      ],
      "execution_count": null,
      "outputs": []
    },
    {
      "cell_type": "code",
      "metadata": {
        "id": "kwbyz6BZyL7L",
        "colab": {
          "base_uri": "https://localhost:8080/"
        },
        "outputId": "b97c7260-48ef-4971-a3b7-10ec7cb891e8"
      },
      "source": [
        "lista"
      ],
      "execution_count": null,
      "outputs": [
        {
          "output_type": "execute_result",
          "data": {
            "text/plain": [
              "[40, 50, 60]"
            ]
          },
          "metadata": {},
          "execution_count": 26
        }
      ]
    },
    {
      "cell_type": "code",
      "metadata": {
        "id": "pnJDM1Z0yL1W"
      },
      "source": [
        "lista[1] = 12345"
      ],
      "execution_count": null,
      "outputs": []
    },
    {
      "cell_type": "code",
      "metadata": {
        "id": "16ijLR9ryLup",
        "colab": {
          "base_uri": "https://localhost:8080/"
        },
        "outputId": "d114c88e-d431-4566-b135-748d2bfbcf2e"
      },
      "source": [
        "lista"
      ],
      "execution_count": null,
      "outputs": [
        {
          "output_type": "execute_result",
          "data": {
            "text/plain": [
              "[40, 12345, 60]"
            ]
          },
          "metadata": {},
          "execution_count": 28
        }
      ]
    },
    {
      "cell_type": "code",
      "metadata": {
        "id": "SEx8-ZZrycVb",
        "colab": {
          "base_uri": "https://localhost:8080/"
        },
        "outputId": "8f7f9dd0-55f3-4fba-ef24-9a607318b771"
      },
      "source": [
        "tuple(lista)"
      ],
      "execution_count": null,
      "outputs": [
        {
          "output_type": "execute_result",
          "data": {
            "text/plain": [
              "(40, 12345, 60)"
            ]
          },
          "metadata": {},
          "execution_count": 29
        }
      ]
    },
    {
      "cell_type": "markdown",
      "metadata": {
        "id": "yGwFzdZOyf_T"
      },
      "source": [
        "# Asignacion de elementos"
      ]
    },
    {
      "cell_type": "code",
      "metadata": {
        "id": "L0HLNJPkyp9-"
      },
      "source": [
        "a = 5 "
      ],
      "execution_count": null,
      "outputs": []
    },
    {
      "cell_type": "code",
      "metadata": {
        "id": "kqTEy2rCyp5o"
      },
      "source": [
        "a, b , c = 4, 5, 6"
      ],
      "execution_count": null,
      "outputs": []
    },
    {
      "cell_type": "code",
      "metadata": {
        "id": "S6_lEWePyp4V",
        "colab": {
          "base_uri": "https://localhost:8080/"
        },
        "outputId": "7abe33cb-ed10-4ff3-986b-9978088ebe1f"
      },
      "source": [
        "a"
      ],
      "execution_count": null,
      "outputs": [
        {
          "output_type": "execute_result",
          "data": {
            "text/plain": [
              "4"
            ]
          },
          "metadata": {},
          "execution_count": 41
        }
      ]
    },
    {
      "cell_type": "code",
      "metadata": {
        "id": "3hlWWnJSypyR",
        "colab": {
          "base_uri": "https://localhost:8080/"
        },
        "outputId": "cb134de6-bac5-4590-ea4f-0c5ce4ff74c6"
      },
      "source": [
        "b"
      ],
      "execution_count": null,
      "outputs": [
        {
          "output_type": "execute_result",
          "data": {
            "text/plain": [
              "5"
            ]
          },
          "metadata": {},
          "execution_count": 42
        }
      ]
    },
    {
      "cell_type": "code",
      "metadata": {
        "id": "Lx2E7LA8yprk",
        "colab": {
          "base_uri": "https://localhost:8080/"
        },
        "outputId": "5b40939a-3a9a-4ee8-def3-0aa3f2c97ee7"
      },
      "source": [
        "c"
      ],
      "execution_count": null,
      "outputs": [
        {
          "output_type": "execute_result",
          "data": {
            "text/plain": [
              "6"
            ]
          },
          "metadata": {},
          "execution_count": 43
        }
      ]
    },
    {
      "cell_type": "code",
      "metadata": {
        "id": "TKHQJCa6y9R0"
      },
      "source": [
        "a, b = [1,2,3,5], True"
      ],
      "execution_count": null,
      "outputs": []
    },
    {
      "cell_type": "code",
      "metadata": {
        "id": "L8kODj6XzEVb",
        "colab": {
          "base_uri": "https://localhost:8080/"
        },
        "outputId": "432f1556-44f4-44cc-8c10-4c4abc48b651"
      },
      "source": [
        "a"
      ],
      "execution_count": null,
      "outputs": [
        {
          "output_type": "execute_result",
          "data": {
            "text/plain": [
              "[1, 2, 3, 5]"
            ]
          },
          "metadata": {},
          "execution_count": 45
        }
      ]
    },
    {
      "cell_type": "code",
      "metadata": {
        "id": "XFHBJcEPzFJ4",
        "colab": {
          "base_uri": "https://localhost:8080/"
        },
        "outputId": "d9d3343d-2624-40ce-d438-4d1d6602d233"
      },
      "source": [
        "b"
      ],
      "execution_count": null,
      "outputs": [
        {
          "output_type": "execute_result",
          "data": {
            "text/plain": [
              "True"
            ]
          },
          "metadata": {},
          "execution_count": 46
        }
      ]
    },
    {
      "cell_type": "markdown",
      "metadata": {
        "id": "bU6pkesTzFfr"
      },
      "source": [
        "# Ejercicio"
      ]
    },
    {
      "cell_type": "code",
      "metadata": {
        "id": "cQH1aiu_zKK8"
      },
      "source": [
        "a = 5\n",
        "b = 10"
      ],
      "execution_count": null,
      "outputs": []
    },
    {
      "cell_type": "code",
      "metadata": {
        "id": "0sj6-VnazKJa",
        "colab": {
          "base_uri": "https://localhost:8080/"
        },
        "outputId": "f78b76e7-8b9a-416b-d055-92ed07f207ba"
      },
      "source": [
        "temp = a\n",
        "a = b\n",
        "b = temp\n",
        "\n",
        "a, b"
      ],
      "execution_count": null,
      "outputs": [
        {
          "output_type": "execute_result",
          "data": {
            "text/plain": [
              "(10, 5)"
            ]
          },
          "metadata": {},
          "execution_count": 49
        }
      ]
    },
    {
      "cell_type": "code",
      "metadata": {
        "id": "9bF9HRaezKDZ"
      },
      "source": [
        "a = 5\n",
        "b = 10"
      ],
      "execution_count": null,
      "outputs": []
    },
    {
      "cell_type": "code",
      "metadata": {
        "id": "gWWklfZhzJ-N"
      },
      "source": [
        "a, b = b, a"
      ],
      "execution_count": null,
      "outputs": []
    },
    {
      "cell_type": "code",
      "metadata": {
        "id": "Wpyit06azj-a",
        "colab": {
          "base_uri": "https://localhost:8080/"
        },
        "outputId": "78e64eb0-998b-4bc9-cbaf-967347ebc292"
      },
      "source": [
        "a, b"
      ],
      "execution_count": null,
      "outputs": [
        {
          "output_type": "execute_result",
          "data": {
            "text/plain": [
              "(10, 5)"
            ]
          },
          "metadata": {},
          "execution_count": 52
        }
      ]
    },
    {
      "cell_type": "markdown",
      "metadata": {
        "id": "JVITBliOzl4N"
      },
      "source": [
        "# Sets"
      ]
    },
    {
      "cell_type": "code",
      "metadata": {
        "id": "LpOheU0o1SPH"
      },
      "source": [
        "campeones_del_mundo = ['Uruguay', 'Italy', 'Italy', 'Uruguay', \n",
        "                        'Germany FR', 'Brazil', 'Brazil', 'England',\n",
        "                        'Brazil', 'Germany FR', 'Argentina', 'Italy',\n",
        "                        'Argentina', 'Germany FR', 'Brazil', 'France',\n",
        "                        'Brazil', 'Italy', 'Spain', 'Germany', 'France']"
      ],
      "execution_count": null,
      "outputs": []
    },
    {
      "cell_type": "code",
      "metadata": {
        "id": "d0AysZTU1SBe",
        "colab": {
          "base_uri": "https://localhost:8080/"
        },
        "outputId": "fc120f4c-175a-4079-b18a-9b526388f8f9"
      },
      "source": [
        "campeones_unicos = set(campeones_del_mundo)\n",
        "campeones_unicos"
      ],
      "execution_count": null,
      "outputs": [
        {
          "output_type": "execute_result",
          "data": {
            "text/plain": [
              "{'Argentina',\n",
              " 'Brazil',\n",
              " 'England',\n",
              " 'France',\n",
              " 'Germany',\n",
              " 'Germany FR',\n",
              " 'Italy',\n",
              " 'Spain',\n",
              " 'Uruguay'}"
            ]
          },
          "metadata": {},
          "execution_count": 54
        }
      ]
    },
    {
      "cell_type": "code",
      "metadata": {
        "id": "7N8zeT851R_v",
        "colab": {
          "base_uri": "https://localhost:8080/",
          "height": 35
        },
        "outputId": "56919046-151d-4b5f-92d4-5474d124b152"
      },
      "source": [
        "campeones_del_mundo[0]"
      ],
      "execution_count": null,
      "outputs": [
        {
          "output_type": "execute_result",
          "data": {
            "text/plain": [
              "'Uruguay'"
            ],
            "application/vnd.google.colaboratory.intrinsic+json": {
              "type": "string"
            }
          },
          "metadata": {},
          "execution_count": 55
        }
      ]
    },
    {
      "cell_type": "code",
      "metadata": {
        "id": "mVDPRyB11R5m",
        "colab": {
          "base_uri": "https://localhost:8080/",
          "height": 166
        },
        "outputId": "d997d66a-cee8-47cd-d232-d6fd4af7f7b5"
      },
      "source": [
        "campeones_unicos[0]"
      ],
      "execution_count": null,
      "outputs": [
        {
          "output_type": "error",
          "ename": "TypeError",
          "evalue": "ignored",
          "traceback": [
            "\u001b[0;31m---------------------------------------------------------------------------\u001b[0m",
            "\u001b[0;31mTypeError\u001b[0m                                 Traceback (most recent call last)",
            "\u001b[0;32m<ipython-input-56-b734bf8c5180>\u001b[0m in \u001b[0;36m<module>\u001b[0;34m()\u001b[0m\n\u001b[0;32m----> 1\u001b[0;31m \u001b[0mcampeones_unicos\u001b[0m\u001b[0;34m[\u001b[0m\u001b[0;36m0\u001b[0m\u001b[0;34m]\u001b[0m\u001b[0;34m\u001b[0m\u001b[0;34m\u001b[0m\u001b[0m\n\u001b[0m",
            "\u001b[0;31mTypeError\u001b[0m: 'set' object is not subscriptable"
          ]
        }
      ]
    },
    {
      "cell_type": "markdown",
      "metadata": {
        "id": "FhoI9goj1RwL"
      },
      "source": [
        "# Operaciones con conjuntos"
      ]
    },
    {
      "cell_type": "code",
      "metadata": {
        "id": "BHCwNyF51RqI"
      },
      "source": [
        "herramientas_ds = {\"Python\", \"R\", \"SQL\", \"Spark\", \"Tableau\", \"Python\"}"
      ],
      "execution_count": null,
      "outputs": []
    },
    {
      "cell_type": "code",
      "metadata": {
        "id": "H3bMOgJD1Rop",
        "colab": {
          "base_uri": "https://localhost:8080/"
        },
        "outputId": "a24f8b39-91cc-4ed7-ec95-30c994b256d3"
      },
      "source": [
        "herramientas_ds"
      ],
      "execution_count": null,
      "outputs": [
        {
          "output_type": "execute_result",
          "data": {
            "text/plain": [
              "{'Python', 'R', 'SQL', 'Spark', 'Tableau'}"
            ]
          },
          "metadata": {},
          "execution_count": 58
        }
      ]
    },
    {
      "cell_type": "code",
      "metadata": {
        "id": "wapRG1_U1RiW"
      },
      "source": [
        "herramientas_ds.add(\"Excel\") # \".add\" permite agregar valores en el conjunto"
      ],
      "execution_count": null,
      "outputs": []
    },
    {
      "cell_type": "code",
      "metadata": {
        "id": "G55pacrk1RWR",
        "colab": {
          "base_uri": "https://localhost:8080/"
        },
        "outputId": "98ba860b-29dd-4847-8db5-84b83f0236eb"
      },
      "source": [
        "herramientas_ds"
      ],
      "execution_count": null,
      "outputs": [
        {
          "output_type": "execute_result",
          "data": {
            "text/plain": [
              "{'Excel', 'Python', 'R', 'SQL', 'Spark', 'Tableau'}"
            ]
          },
          "metadata": {},
          "execution_count": 61
        }
      ]
    },
    {
      "cell_type": "code",
      "metadata": {
        "id": "L3Xa9JzY4IEY"
      },
      "source": [
        "herramientas_de = {\"Python\", \"SQL\", \"Spark\", \"Sqoop\", \"Kafka\"}"
      ],
      "execution_count": null,
      "outputs": []
    },
    {
      "cell_type": "code",
      "metadata": {
        "id": "NxK_30yU4ICn",
        "colab": {
          "base_uri": "https://localhost:8080/"
        },
        "outputId": "c30d684c-3182-44ca-b987-74c1b51792db"
      },
      "source": [
        "herramientas_ds.intersection(herramientas_de)"
      ],
      "execution_count": null,
      "outputs": [
        {
          "output_type": "execute_result",
          "data": {
            "text/plain": [
              "{'Python', 'SQL', 'Spark'}"
            ]
          },
          "metadata": {},
          "execution_count": 63
        }
      ]
    },
    {
      "cell_type": "code",
      "metadata": {
        "id": "nkDe8wPF4H6B",
        "colab": {
          "base_uri": "https://localhost:8080/"
        },
        "outputId": "a707a173-d0e4-47c3-f7ae-5d1dc07db38d"
      },
      "source": [
        "herramientas_ds.difference(herramientas_de)"
      ],
      "execution_count": null,
      "outputs": [
        {
          "output_type": "execute_result",
          "data": {
            "text/plain": [
              "{'Excel', 'R', 'Tableau'}"
            ]
          },
          "metadata": {},
          "execution_count": 64
        }
      ]
    },
    {
      "cell_type": "code",
      "metadata": {
        "id": "GRgz0smT4Hv3",
        "colab": {
          "base_uri": "https://localhost:8080/"
        },
        "outputId": "ac523a2c-a678-43b4-fb63-24bf731f8e02"
      },
      "source": [
        "herramientas_ds.union(herramientas_de)"
      ],
      "execution_count": null,
      "outputs": [
        {
          "output_type": "execute_result",
          "data": {
            "text/plain": [
              "{'Excel', 'Kafka', 'Python', 'R', 'SQL', 'Spark', 'Sqoop', 'Tableau'}"
            ]
          },
          "metadata": {},
          "execution_count": 65
        }
      ]
    },
    {
      "cell_type": "markdown",
      "metadata": {
        "id": "9V0P-79iK0v8"
      },
      "source": [
        "# Ejercicio"
      ]
    },
    {
      "cell_type": "markdown",
      "metadata": {
        "id": "Sf4vRX0fOp2h"
      },
      "source": [
        "Obtener la lista de pokemones que Ash usó en las ligas pokemon ordenados en orden alfabético"
      ]
    },
    {
      "cell_type": "code",
      "metadata": {
        "id": "KB35E_4FNS4w"
      },
      "source": [
        "kanto = [\"Squirtle\", \"Pikachu\", \"Charizard\"]\n",
        "johto = [\"Pikachu\", \"Totodile\", \"Snorlax\", \"Noctowl\", \"Bayleef\", \"Charizard\"]\n",
        "hoenn = [\"Glalie\", \"Torkoal\", \"Corphish\", \"Swellow\", \"Grovyle\", \"Pikachu\"]\n",
        "sinnoh = [\"Heracross\", \"Torkoal\", \"Gible\", \"Sceptile\", \"Swellow\", \"Pikachu\"]\n",
        "unova = [\"Boldore\", \"Oshawott\", \"Pignite\", \"Pikachu\", \"Unfezant\", \"Snivy\"]\n",
        "kalos = [\"Pikachu\", \"Noivern\", \"Hawlucha\", \"Talonflame\", \"Goodra\", \"Greninja\"]"
      ],
      "execution_count": null,
      "outputs": []
    },
    {
      "cell_type": "code",
      "metadata": {
        "id": "mxRLgs9TNSyS"
      },
      "source": [
        "pokemon_total = kanto + johto + hoenn + sinnoh + unova + kalos"
      ],
      "execution_count": null,
      "outputs": []
    },
    {
      "cell_type": "code",
      "metadata": {
        "id": "bVhNOTvDNSug",
        "colab": {
          "base_uri": "https://localhost:8080/"
        },
        "outputId": "16b39b2f-b69e-4929-add7-d54c01a0de41"
      },
      "source": [
        "pokemon_total\n",
        "len(pokemon_total)"
      ],
      "execution_count": null,
      "outputs": [
        {
          "output_type": "execute_result",
          "data": {
            "text/plain": [
              "33"
            ]
          },
          "metadata": {},
          "execution_count": 69
        }
      ]
    },
    {
      "cell_type": "code",
      "metadata": {
        "id": "37hGAupRNSk_",
        "colab": {
          "base_uri": "https://localhost:8080/"
        },
        "outputId": "30d6f8af-59af-48fa-9dc8-3cff6967fc4e"
      },
      "source": [
        "pokemon_set = set(pokemon_total)\n",
        "pokemon_set"
      ],
      "execution_count": null,
      "outputs": [
        {
          "output_type": "execute_result",
          "data": {
            "text/plain": [
              "{'Bayleef',\n",
              " 'Boldore',\n",
              " 'Charizard',\n",
              " 'Corphish',\n",
              " 'Gible',\n",
              " 'Glalie',\n",
              " 'Goodra',\n",
              " 'Greninja',\n",
              " 'Grovyle',\n",
              " 'Hawlucha',\n",
              " 'Heracross',\n",
              " 'Noctowl',\n",
              " 'Noivern',\n",
              " 'Oshawott',\n",
              " 'Pignite',\n",
              " 'Pikachu',\n",
              " 'Sceptile',\n",
              " 'Snivy',\n",
              " 'Snorlax',\n",
              " 'Squirtle',\n",
              " 'Swellow',\n",
              " 'Talonflame',\n",
              " 'Torkoal',\n",
              " 'Totodile',\n",
              " 'Unfezant'}"
            ]
          },
          "metadata": {},
          "execution_count": 70
        }
      ]
    },
    {
      "cell_type": "code",
      "metadata": {
        "id": "hwCcVVe2Ptul",
        "colab": {
          "base_uri": "https://localhost:8080/"
        },
        "outputId": "8c9ecdc1-c7b4-4d2c-e3db-1302400109d2"
      },
      "source": [
        "pokemon_list = list(pokemon_set)\n",
        "pokemon_list"
      ],
      "execution_count": null,
      "outputs": [
        {
          "output_type": "execute_result",
          "data": {
            "text/plain": [
              "['Swellow',\n",
              " 'Heracross',\n",
              " 'Grovyle',\n",
              " 'Talonflame',\n",
              " 'Hawlucha',\n",
              " 'Gible',\n",
              " 'Pikachu',\n",
              " 'Unfezant',\n",
              " 'Greninja',\n",
              " 'Noivern',\n",
              " 'Torkoal',\n",
              " 'Corphish',\n",
              " 'Bayleef',\n",
              " 'Pignite',\n",
              " 'Charizard',\n",
              " 'Oshawott',\n",
              " 'Sceptile',\n",
              " 'Totodile',\n",
              " 'Glalie',\n",
              " 'Squirtle',\n",
              " 'Noctowl',\n",
              " 'Goodra',\n",
              " 'Snorlax',\n",
              " 'Boldore',\n",
              " 'Snivy']"
            ]
          },
          "metadata": {},
          "execution_count": 71
        }
      ]
    },
    {
      "cell_type": "code",
      "metadata": {
        "id": "w7G4rEcUPyky"
      },
      "source": [
        "pokemon_list.sort()"
      ],
      "execution_count": null,
      "outputs": []
    },
    {
      "cell_type": "code",
      "metadata": {
        "id": "uuYtqThNQqP2",
        "colab": {
          "base_uri": "https://localhost:8080/"
        },
        "outputId": "d835660c-e9e8-44cc-f74e-75539acc4843"
      },
      "source": [
        "pokemon_list"
      ],
      "execution_count": null,
      "outputs": [
        {
          "output_type": "execute_result",
          "data": {
            "text/plain": [
              "['Bayleef',\n",
              " 'Boldore',\n",
              " 'Charizard',\n",
              " 'Corphish',\n",
              " 'Gible',\n",
              " 'Glalie',\n",
              " 'Goodra',\n",
              " 'Greninja',\n",
              " 'Grovyle',\n",
              " 'Hawlucha',\n",
              " 'Heracross',\n",
              " 'Noctowl',\n",
              " 'Noivern',\n",
              " 'Oshawott',\n",
              " 'Pignite',\n",
              " 'Pikachu',\n",
              " 'Sceptile',\n",
              " 'Snivy',\n",
              " 'Snorlax',\n",
              " 'Squirtle',\n",
              " 'Swellow',\n",
              " 'Talonflame',\n",
              " 'Torkoal',\n",
              " 'Totodile',\n",
              " 'Unfezant']"
            ]
          },
          "metadata": {},
          "execution_count": 73
        }
      ]
    },
    {
      "cell_type": "code",
      "metadata": {
        "id": "RTSsD0ObQriV",
        "colab": {
          "base_uri": "https://localhost:8080/",
          "height": 35
        },
        "outputId": "2673b7d4-ce53-4457-83e1-91624bd132b2"
      },
      "source": [
        "pokemon_list[0]"
      ],
      "execution_count": null,
      "outputs": [
        {
          "output_type": "execute_result",
          "data": {
            "text/plain": [
              "'Bayleef'"
            ],
            "application/vnd.google.colaboratory.intrinsic+json": {
              "type": "string"
            }
          },
          "metadata": {},
          "execution_count": 74
        }
      ]
    },
    {
      "cell_type": "code",
      "metadata": {
        "id": "Z0L_TRsxQuiG",
        "colab": {
          "base_uri": "https://localhost:8080/",
          "height": 35
        },
        "outputId": "20cf94b8-f798-48d7-b89e-1b78dfd95a5d"
      },
      "source": [
        "pokemon_list[-1]"
      ],
      "execution_count": null,
      "outputs": [
        {
          "output_type": "execute_result",
          "data": {
            "text/plain": [
              "'Unfezant'"
            ],
            "application/vnd.google.colaboratory.intrinsic+json": {
              "type": "string"
            }
          },
          "metadata": {},
          "execution_count": 75
        }
      ]
    },
    {
      "cell_type": "code",
      "metadata": {
        "id": "r0p8mUpoQxJY",
        "colab": {
          "base_uri": "https://localhost:8080/"
        },
        "outputId": "0fb40617-d61c-4bb3-d2c4-01b1f2416014"
      },
      "source": [
        "len(pokemon_list)"
      ],
      "execution_count": null,
      "outputs": [
        {
          "output_type": "execute_result",
          "data": {
            "text/plain": [
              "25"
            ]
          },
          "metadata": {},
          "execution_count": 76
        }
      ]
    },
    {
      "cell_type": "code",
      "source": [
        ""
      ],
      "metadata": {
        "id": "kuFpTTjxZ-O0"
      },
      "execution_count": null,
      "outputs": []
    }
  ]
}