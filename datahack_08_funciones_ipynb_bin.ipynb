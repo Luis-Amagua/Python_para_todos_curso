{
  "nbformat": 4,
  "nbformat_minor": 0,
  "metadata": {
    "colab": {
      "name": "datahack-08-funciones.ipynb.bin",
      "provenance": [],
      "collapsed_sections": [],
      "include_colab_link": true
    },
    "kernelspec": {
      "name": "python3",
      "display_name": "Python 3"
    }
  },
  "cells": [
    {
      "cell_type": "markdown",
      "metadata": {
        "id": "view-in-github",
        "colab_type": "text"
      },
      "source": [
        "<a href=\"https://colab.research.google.com/github/Luis-Amagua/Python_para_todos_curso/blob/main/datahack_08_funciones_ipynb_bin.ipynb\" target=\"_parent\"><img src=\"https://colab.research.google.com/assets/colab-badge.svg\" alt=\"Open In Colab\"/></a>"
      ]
    },
    {
      "cell_type": "markdown",
      "metadata": {
        "id": "zs9b13zr-9WV"
      },
      "source": [
        "# Datahack - Funciones"
      ]
    },
    {
      "cell_type": "markdown",
      "metadata": {
        "id": "UfBuGire_MtF"
      },
      "source": [
        "```\n",
        "def funcion (parametros):\n",
        "    bloque de codigo\n",
        "```"
      ]
    },
    {
      "cell_type": "code",
      "metadata": {
        "id": "T1YnX5cvPrUH",
        "colab": {
          "base_uri": "https://localhost:8080/",
          "height": 34
        },
        "outputId": "8ddef130-1e93-45a6-dadd-651c68194a81"
      },
      "source": [
        "list(range(1, 10, 2))"
      ],
      "execution_count": null,
      "outputs": [
        {
          "output_type": "execute_result",
          "data": {
            "text/plain": [
              "[1, 3, 5, 7, 9]"
            ]
          },
          "metadata": {
            "tags": []
          },
          "execution_count": 1
        }
      ]
    },
    {
      "cell_type": "code",
      "metadata": {
        "id": "cjBC-h17PrDm",
        "colab": {
          "base_uri": "https://localhost:8080/",
          "height": 34
        },
        "outputId": "22baf4ab-3029-479c-a584-3ec76e71034e"
      },
      "source": [
        "sum([1,2,23,4,5,6,6])"
      ],
      "execution_count": null,
      "outputs": [
        {
          "output_type": "execute_result",
          "data": {
            "text/plain": [
              "47"
            ]
          },
          "metadata": {
            "tags": []
          },
          "execution_count": 2
        }
      ]
    },
    {
      "cell_type": "markdown",
      "metadata": {
        "id": "2fadvyXkA6VS"
      },
      "source": [
        "## creación de funciones"
      ]
    },
    {
      "cell_type": "markdown",
      "metadata": {
        "id": "8_nLyt08_Nv_"
      },
      "source": [
        "Definir una función que calcule el factorial de un número"
      ]
    },
    {
      "cell_type": "code",
      "metadata": {
        "id": "qBK1g3lyHzPd"
      },
      "source": [
        "def factorial(numero):\n",
        " \n",
        "    producto = 1\n",
        "\n",
        "    for n in range(1, numero + 1):\n",
        "        producto = producto * n\n",
        "\n",
        "    print(f\"El factorial de {numero} es {producto}\")"
      ],
      "execution_count": null,
      "outputs": []
    },
    {
      "cell_type": "code",
      "metadata": {
        "id": "oYbj2PcUJOkt",
        "colab": {
          "base_uri": "https://localhost:8080/",
          "height": 34
        },
        "outputId": "3b91e8e9-4d2e-459e-8708-59d21fd0a19a"
      },
      "source": [
        "factorial(5)"
      ],
      "execution_count": null,
      "outputs": [
        {
          "output_type": "stream",
          "text": [
            "El factorial de 5 es 120\n"
          ],
          "name": "stdout"
        }
      ]
    },
    {
      "cell_type": "code",
      "metadata": {
        "id": "5jF-e7nJJOfC",
        "colab": {
          "base_uri": "https://localhost:8080/",
          "height": 34
        },
        "outputId": "76b1e180-7e80-48d1-e6d3-b887e3976dc1"
      },
      "source": [
        "factorial(6)"
      ],
      "execution_count": null,
      "outputs": [
        {
          "output_type": "stream",
          "text": [
            "El factorial de 6 es 720\n"
          ],
          "name": "stdout"
        }
      ]
    },
    {
      "cell_type": "markdown",
      "metadata": {
        "id": "leKXVthP_Nq0"
      },
      "source": [
        "## Variables locales y globales"
      ]
    },
    {
      "cell_type": "code",
      "metadata": {
        "id": "-7zmNvqu_NoG"
      },
      "source": [
        "a = 5"
      ],
      "execution_count": null,
      "outputs": []
    },
    {
      "cell_type": "code",
      "metadata": {
        "id": "WcPwCAsZLzVY",
        "colab": {
          "base_uri": "https://localhost:8080/",
          "height": 34
        },
        "outputId": "2400cde0-5fd6-4613-b979-46c49e929135"
      },
      "source": [
        "a"
      ],
      "execution_count": null,
      "outputs": [
        {
          "output_type": "execute_result",
          "data": {
            "text/plain": [
              "5"
            ]
          },
          "metadata": {
            "tags": []
          },
          "execution_count": 8
        }
      ]
    },
    {
      "cell_type": "code",
      "metadata": {
        "id": "7FbHINoLLzLq",
        "colab": {
          "base_uri": "https://localhost:8080/",
          "height": 164
        },
        "outputId": "fbeec519-6422-4d92-8d8b-cb8056f5f957"
      },
      "source": [
        "producto"
      ],
      "execution_count": null,
      "outputs": [
        {
          "output_type": "error",
          "ename": "NameError",
          "evalue": "ignored",
          "traceback": [
            "\u001b[0;31m---------------------------------------------------------------------------\u001b[0m",
            "\u001b[0;31mNameError\u001b[0m                                 Traceback (most recent call last)",
            "\u001b[0;32m<ipython-input-9-84c7fcd4dd2e>\u001b[0m in \u001b[0;36m<module>\u001b[0;34m()\u001b[0m\n\u001b[0;32m----> 1\u001b[0;31m \u001b[0mproducto\u001b[0m\u001b[0;34m\u001b[0m\u001b[0;34m\u001b[0m\u001b[0m\n\u001b[0m",
            "\u001b[0;31mNameError\u001b[0m: name 'producto' is not defined"
          ]
        }
      ]
    },
    {
      "cell_type": "code",
      "metadata": {
        "id": "S4IrL1G3LzIk",
        "colab": {
          "base_uri": "https://localhost:8080/",
          "height": 164
        },
        "outputId": "fe895eea-d198-4402-8b1c-72b8a4a705b3"
      },
      "source": [
        "n"
      ],
      "execution_count": null,
      "outputs": [
        {
          "output_type": "error",
          "ename": "NameError",
          "evalue": "ignored",
          "traceback": [
            "\u001b[0;31m---------------------------------------------------------------------------\u001b[0m",
            "\u001b[0;31mNameError\u001b[0m                                 Traceback (most recent call last)",
            "\u001b[0;32m<ipython-input-10-ab0680a89434>\u001b[0m in \u001b[0;36m<module>\u001b[0;34m()\u001b[0m\n\u001b[0;32m----> 1\u001b[0;31m \u001b[0mn\u001b[0m\u001b[0;34m\u001b[0m\u001b[0;34m\u001b[0m\u001b[0m\n\u001b[0m",
            "\u001b[0;31mNameError\u001b[0m: name 'n' is not defined"
          ]
        }
      ]
    },
    {
      "cell_type": "markdown",
      "metadata": {
        "id": "Gdxhu-1L_Nmd"
      },
      "source": [
        "## Valores de retorno"
      ]
    },
    {
      "cell_type": "code",
      "metadata": {
        "id": "6BZ1lsHY_Njk"
      },
      "source": [
        "def factorial(numero):\n",
        " \n",
        "    producto = 1\n",
        "\n",
        "    for n in range(1, numero + 1):\n",
        "        producto = producto * n\n",
        "\n",
        "    return producto"
      ],
      "execution_count": null,
      "outputs": []
    },
    {
      "cell_type": "code",
      "metadata": {
        "id": "BussWKunVPp3",
        "colab": {
          "base_uri": "https://localhost:8080/",
          "height": 34
        },
        "outputId": "2ebcfcda-a2a9-4b0b-a8a8-1c9adf20142a"
      },
      "source": [
        "factorial(5)"
      ],
      "execution_count": null,
      "outputs": [
        {
          "output_type": "execute_result",
          "data": {
            "text/plain": [
              "120"
            ]
          },
          "metadata": {
            "tags": []
          },
          "execution_count": 28
        }
      ]
    },
    {
      "cell_type": "code",
      "metadata": {
        "id": "gxjV40ZXVPiR"
      },
      "source": [
        "fact_5 = factorial(5)"
      ],
      "execution_count": null,
      "outputs": []
    },
    {
      "cell_type": "code",
      "metadata": {
        "id": "V5PV-JynVPb4",
        "colab": {
          "base_uri": "https://localhost:8080/",
          "height": 34
        },
        "outputId": "0488723c-405e-439b-ce53-111341edfaf4"
      },
      "source": [
        "fact_5"
      ],
      "execution_count": null,
      "outputs": [
        {
          "output_type": "execute_result",
          "data": {
            "text/plain": [
              "120"
            ]
          },
          "metadata": {
            "tags": []
          },
          "execution_count": 30
        }
      ]
    },
    {
      "cell_type": "code",
      "metadata": {
        "id": "ZptWFQYUVPWR",
        "colab": {
          "base_uri": "https://localhost:8080/",
          "height": 34
        },
        "outputId": "66d82ab8-818a-4c58-f06e-5f5d15dabe73"
      },
      "source": [
        "type(fact_5)"
      ],
      "execution_count": null,
      "outputs": [
        {
          "output_type": "execute_result",
          "data": {
            "text/plain": [
              "int"
            ]
          },
          "metadata": {
            "tags": []
          },
          "execution_count": 31
        }
      ]
    },
    {
      "cell_type": "markdown",
      "metadata": {
        "id": "8_t6Uwe_VPOu"
      },
      "source": [
        "## Valores de retorno: varios"
      ]
    },
    {
      "cell_type": "code",
      "metadata": {
        "id": "Bn_IwetxXpDg"
      },
      "source": [
        "def ratios(numero1, numero2):\n",
        "\n",
        "    ratio1 = numero1 / numero2\n",
        "    ratio2 = numero2 / numero1\n",
        "\n",
        "    return ratio1, ratio2"
      ],
      "execution_count": null,
      "outputs": []
    },
    {
      "cell_type": "code",
      "metadata": {
        "id": "_st7BZV2Xo8P",
        "colab": {
          "base_uri": "https://localhost:8080/",
          "height": 34
        },
        "outputId": "9f3a1b58-8969-4941-fa86-31fd365567a7"
      },
      "source": [
        "ratios(4, 5)"
      ],
      "execution_count": null,
      "outputs": [
        {
          "output_type": "execute_result",
          "data": {
            "text/plain": [
              "(0.8, 1.25)"
            ]
          },
          "metadata": {
            "tags": []
          },
          "execution_count": 33
        }
      ]
    },
    {
      "cell_type": "code",
      "metadata": {
        "id": "fsQIvcelXuQ0"
      },
      "source": [
        "ratio1, ratio2 = ratios(4, 5)"
      ],
      "execution_count": null,
      "outputs": []
    },
    {
      "cell_type": "code",
      "metadata": {
        "id": "fbawAFJZXuMd",
        "colab": {
          "base_uri": "https://localhost:8080/",
          "height": 34
        },
        "outputId": "37372e13-bd00-43ec-9500-aebb96cb4f1e"
      },
      "source": [
        "ratio1"
      ],
      "execution_count": null,
      "outputs": [
        {
          "output_type": "execute_result",
          "data": {
            "text/plain": [
              "0.8"
            ]
          },
          "metadata": {
            "tags": []
          },
          "execution_count": 35
        }
      ]
    },
    {
      "cell_type": "code",
      "metadata": {
        "id": "6ApZFloiXuFP",
        "colab": {
          "base_uri": "https://localhost:8080/",
          "height": 34
        },
        "outputId": "cca3f1e7-20d2-45b3-9b71-fde3a5d9dbad"
      },
      "source": [
        "ratio2"
      ],
      "execution_count": null,
      "outputs": [
        {
          "output_type": "execute_result",
          "data": {
            "text/plain": [
              "1.25"
            ]
          },
          "metadata": {
            "tags": []
          },
          "execution_count": 36
        }
      ]
    },
    {
      "cell_type": "code",
      "metadata": {
        "id": "K97N9vS8XuDy",
        "colab": {
          "base_uri": "https://localhost:8080/",
          "height": 164
        },
        "outputId": "928a59dc-d066-4161-a226-5a23afbed817"
      },
      "source": [
        "ratio1, ratio2, ratio3  = ratios(4, 5)"
      ],
      "execution_count": null,
      "outputs": [
        {
          "output_type": "error",
          "ename": "ValueError",
          "evalue": "ignored",
          "traceback": [
            "\u001b[0;31m---------------------------------------------------------------------------\u001b[0m",
            "\u001b[0;31mValueError\u001b[0m                                Traceback (most recent call last)",
            "\u001b[0;32m<ipython-input-37-d06398c43f93>\u001b[0m in \u001b[0;36m<module>\u001b[0;34m()\u001b[0m\n\u001b[0;32m----> 1\u001b[0;31m \u001b[0mratio1\u001b[0m\u001b[0;34m,\u001b[0m \u001b[0mratio2\u001b[0m\u001b[0;34m,\u001b[0m \u001b[0mratio3\u001b[0m  \u001b[0;34m=\u001b[0m \u001b[0mratios\u001b[0m\u001b[0;34m(\u001b[0m\u001b[0;36m4\u001b[0m\u001b[0;34m,\u001b[0m \u001b[0;36m5\u001b[0m\u001b[0;34m)\u001b[0m\u001b[0;34m\u001b[0m\u001b[0;34m\u001b[0m\u001b[0m\n\u001b[0m",
            "\u001b[0;31mValueError\u001b[0m: not enough values to unpack (expected 3, got 2)"
          ]
        }
      ]
    },
    {
      "cell_type": "markdown",
      "metadata": {
        "id": "7EVoF_5SXt-d"
      },
      "source": [
        "## Valores de retorno: None"
      ]
    },
    {
      "cell_type": "code",
      "metadata": {
        "id": "Um0PD4jeXt32"
      },
      "source": [
        "def sumar(numero1, numero2):\n",
        "  \n",
        "    resultado = numero1 + numero2\n",
        "    return None"
      ],
      "execution_count": null,
      "outputs": []
    },
    {
      "cell_type": "code",
      "metadata": {
        "id": "exyC-B4HSPpM"
      },
      "source": [
        "a = sumar(4, 6)"
      ],
      "execution_count": null,
      "outputs": []
    },
    {
      "cell_type": "code",
      "metadata": {
        "id": "oZIYce1WSPn0"
      },
      "source": [
        "a"
      ],
      "execution_count": null,
      "outputs": []
    },
    {
      "cell_type": "code",
      "metadata": {
        "id": "O_gqNrBNSPV1",
        "colab": {
          "base_uri": "https://localhost:8080/",
          "height": 34
        },
        "outputId": "a5990a0a-eb0d-4147-c725-d599bb8f3e84"
      },
      "source": [
        "type(a)"
      ],
      "execution_count": null,
      "outputs": [
        {
          "output_type": "execute_result",
          "data": {
            "text/plain": [
              "NoneType"
            ]
          },
          "metadata": {
            "tags": []
          },
          "execution_count": 112
        }
      ]
    },
    {
      "cell_type": "markdown",
      "metadata": {
        "id": "QSTbomPoSOhu"
      },
      "source": [
        "## Ejemplo:\n",
        "\n",
        "Escribir una función que indique si un número es primo o no"
      ]
    },
    {
      "cell_type": "code",
      "metadata": {
        "id": "ZEPjaNtjUG63"
      },
      "source": [
        "def es_primo(numero):\n",
        "\n",
        "    if numero == 2:\n",
        "        return True\n",
        "\n",
        "    elif numero % 2 == 0:\n",
        "        return False\n",
        "\n",
        "    else:\n",
        "        for divisor in range(3, numero, 2):\n",
        "            if numero % divisor == 0:\n",
        "                return False\n",
        "        \n",
        "        return True"
      ],
      "execution_count": null,
      "outputs": []
    },
    {
      "cell_type": "code",
      "metadata": {
        "id": "6skUYucie5_R",
        "colab": {
          "base_uri": "https://localhost:8080/"
        },
        "outputId": "7afa7d80-7689-4ec0-8e73-b4ab02b529f0"
      },
      "source": [
        "es_primo(6)"
      ],
      "execution_count": null,
      "outputs": [
        {
          "output_type": "execute_result",
          "data": {
            "text/plain": [
              "False"
            ]
          },
          "metadata": {},
          "execution_count": 4
        }
      ]
    },
    {
      "cell_type": "code",
      "metadata": {
        "id": "FyZMvZmUe54w",
        "colab": {
          "base_uri": "https://localhost:8080/"
        },
        "outputId": "2e26d642-8064-44ce-d092-0638ff796f1d"
      },
      "source": [
        "es_primo(6)"
      ],
      "execution_count": null,
      "outputs": [
        {
          "output_type": "execute_result",
          "data": {
            "text/plain": [
              "False"
            ]
          },
          "metadata": {},
          "execution_count": 5
        }
      ]
    },
    {
      "cell_type": "code",
      "metadata": {
        "id": "liW6tgHUe5yV",
        "colab": {
          "base_uri": "https://localhost:8080/",
          "height": 34
        },
        "outputId": "bad3b3c3-6cef-480a-c662-dc6246f1021f"
      },
      "source": [
        "es_primo(15)"
      ],
      "execution_count": null,
      "outputs": [
        {
          "output_type": "execute_result",
          "data": {
            "text/plain": [
              "False"
            ]
          },
          "metadata": {
            "tags": []
          },
          "execution_count": 21
        }
      ]
    },
    {
      "cell_type": "code",
      "metadata": {
        "id": "89KrlkQ66DmJ",
        "colab": {
          "base_uri": "https://localhost:8080/",
          "height": 34
        },
        "outputId": "dea70173-1dd1-4e21-a8eb-611b9e32e91e"
      },
      "source": [
        "es_primo(17)"
      ],
      "execution_count": null,
      "outputs": [
        {
          "output_type": "execute_result",
          "data": {
            "text/plain": [
              "True"
            ]
          },
          "metadata": {
            "tags": []
          },
          "execution_count": 22
        }
      ]
    },
    {
      "cell_type": "markdown",
      "metadata": {
        "id": "g5OeQSJPgE9F"
      },
      "source": [
        "## Ejercicio propuesto\n",
        "\n",
        "Crear un programa que reciba una lista de números y identifique si sus elementos son números primos. "
      ]
    },
    {
      "cell_type": "code",
      "metadata": {
        "id": "XOfzzdvcgE6M"
      },
      "source": [
        "def son_primos(lista_numeros):\n",
        "\n",
        "    lista_primos = []\n",
        "\n",
        "    for numero in lista_numeros:\n",
        "        lista_primos.append(es_primo(numero))\n",
        "\n",
        "    return lista_primos"
      ],
      "execution_count": null,
      "outputs": []
    },
    {
      "cell_type": "code",
      "metadata": {
        "id": "VVF3i4hbgYv_",
        "colab": {
          "base_uri": "https://localhost:8080/"
        },
        "outputId": "9289b2f8-6b68-45e1-aa36-6265b148b32f"
      },
      "source": [
        "son_primos([2, 6, 15, 17]) "
      ],
      "execution_count": null,
      "outputs": [
        {
          "output_type": "execute_result",
          "data": {
            "text/plain": [
              "[True, False, False, True]"
            ]
          },
          "metadata": {},
          "execution_count": 7
        }
      ]
    },
    {
      "cell_type": "markdown",
      "metadata": {
        "id": "vptAaTUopv_a"
      },
      "source": [
        "## parámetros de una función"
      ]
    },
    {
      "cell_type": "code",
      "metadata": {
        "id": "Me877ul-pydd"
      },
      "source": [
        "def potenciacion(base, exponente):\n",
        "    return base ** exponente"
      ],
      "execution_count": null,
      "outputs": []
    },
    {
      "cell_type": "code",
      "metadata": {
        "id": "_QQoGQ5kM20F",
        "colab": {
          "base_uri": "https://localhost:8080/"
        },
        "outputId": "46fd4e59-98f5-4782-cefe-f7090018405b"
      },
      "source": [
        "potenciacion(2, 5)"
      ],
      "execution_count": null,
      "outputs": [
        {
          "output_type": "execute_result",
          "data": {
            "text/plain": [
              "32"
            ]
          },
          "metadata": {},
          "execution_count": 9
        }
      ]
    },
    {
      "cell_type": "code",
      "metadata": {
        "id": "JcEQeVdQM2xN",
        "colab": {
          "base_uri": "https://localhost:8080/"
        },
        "outputId": "e1025ac1-36c9-46c9-c3e2-db49acc482c4"
      },
      "source": [
        "potenciacion(5, 2)"
      ],
      "execution_count": null,
      "outputs": [
        {
          "output_type": "execute_result",
          "data": {
            "text/plain": [
              "25"
            ]
          },
          "metadata": {},
          "execution_count": 10
        }
      ]
    },
    {
      "cell_type": "code",
      "metadata": {
        "id": "tR57KsoLM2nj",
        "colab": {
          "base_uri": "https://localhost:8080/"
        },
        "outputId": "af7d0387-467e-48a8-e5ce-d523f59a0217"
      },
      "source": [
        "potenciacion(base = 3, exponente = 5)"
      ],
      "execution_count": null,
      "outputs": [
        {
          "output_type": "execute_result",
          "data": {
            "text/plain": [
              "243"
            ]
          },
          "metadata": {},
          "execution_count": 11
        }
      ]
    },
    {
      "cell_type": "code",
      "metadata": {
        "id": "aJG_OJ6QM2Zl",
        "colab": {
          "base_uri": "https://localhost:8080/"
        },
        "outputId": "f131cb9e-9693-4108-8aed-f949ba0727d7"
      },
      "source": [
        "potenciacion(exponente = 5, base = 3)"
      ],
      "execution_count": null,
      "outputs": [
        {
          "output_type": "execute_result",
          "data": {
            "text/plain": [
              "243"
            ]
          },
          "metadata": {},
          "execution_count": 12
        }
      ]
    },
    {
      "cell_type": "markdown",
      "metadata": {
        "id": "PPLAmdB0c2tB"
      },
      "source": [
        "## parámetros con valores por defecto"
      ]
    },
    {
      "cell_type": "code",
      "metadata": {
        "id": "GN5R2dsBc2js"
      },
      "source": [
        "def potenciacion(base, exponente = 2):\n",
        "    return base ** exponente"
      ],
      "execution_count": null,
      "outputs": []
    },
    {
      "cell_type": "code",
      "metadata": {
        "id": "WrI6GMibpN9n",
        "colab": {
          "base_uri": "https://localhost:8080/"
        },
        "outputId": "6958e0a0-b131-431c-e86a-2c616a39a508"
      },
      "source": [
        "potenciacion(5, 3)"
      ],
      "execution_count": null,
      "outputs": [
        {
          "output_type": "execute_result",
          "data": {
            "text/plain": [
              "125"
            ]
          },
          "metadata": {},
          "execution_count": 14
        }
      ]
    },
    {
      "cell_type": "code",
      "metadata": {
        "id": "NQ-qxKEzpNxZ",
        "colab": {
          "base_uri": "https://localhost:8080/"
        },
        "outputId": "b28d9b71-665b-45c1-dc7e-768f6a66938d"
      },
      "source": [
        "potenciacion(5)"
      ],
      "execution_count": null,
      "outputs": [
        {
          "output_type": "execute_result",
          "data": {
            "text/plain": [
              "25"
            ]
          },
          "metadata": {},
          "execution_count": 15
        }
      ]
    },
    {
      "cell_type": "code",
      "metadata": {
        "id": "MMPiTc4vPoJx",
        "colab": {
          "base_uri": "https://localhost:8080/",
          "height": 132
        },
        "outputId": "fb192146-e618-413e-d8e3-54bebacbbfae"
      },
      "source": [
        "def potenciacion(base = 10, exponente):\n",
        "    return base ** exponente"
      ],
      "execution_count": null,
      "outputs": [
        {
          "output_type": "error",
          "ename": "SyntaxError",
          "evalue": "ignored",
          "traceback": [
            "\u001b[0;36m  File \u001b[0;32m\"<ipython-input-16-b6fb46817404>\"\u001b[0;36m, line \u001b[0;32m1\u001b[0m\n\u001b[0;31m    def potenciacion(base = 10, exponente):\u001b[0m\n\u001b[0m                    ^\u001b[0m\n\u001b[0;31mSyntaxError\u001b[0m\u001b[0;31m:\u001b[0m non-default argument follows default argument\n"
          ]
        }
      ]
    },
    {
      "cell_type": "code",
      "metadata": {
        "id": "9SQL2e9dPoFX"
      },
      "source": [
        "def potenciacion(exponente, base = 10):\n",
        "    return base ** exponente"
      ],
      "execution_count": null,
      "outputs": []
    },
    {
      "cell_type": "code",
      "metadata": {
        "id": "4EBPuVP_Pn6C",
        "colab": {
          "base_uri": "https://localhost:8080/"
        },
        "outputId": "327eb16b-b669-42ec-e26a-ebd330dfd082"
      },
      "source": [
        "potenciacion(2, 5)"
      ],
      "execution_count": null,
      "outputs": [
        {
          "output_type": "execute_result",
          "data": {
            "text/plain": [
              "25"
            ]
          },
          "metadata": {},
          "execution_count": 18
        }
      ]
    },
    {
      "cell_type": "code",
      "metadata": {
        "id": "2ZU3VwX-Ppxm",
        "colab": {
          "base_uri": "https://localhost:8080/"
        },
        "outputId": "a72afb85-0024-437d-e621-e2fc0ecadd9d"
      },
      "source": [
        "potenciacion(5)"
      ],
      "execution_count": null,
      "outputs": [
        {
          "output_type": "execute_result",
          "data": {
            "text/plain": [
              "100000"
            ]
          },
          "metadata": {},
          "execution_count": 19
        }
      ]
    },
    {
      "cell_type": "markdown",
      "metadata": {
        "id": "SsynTPNL_Ng4"
      },
      "source": [
        "## *args"
      ]
    },
    {
      "cell_type": "code",
      "metadata": {
        "id": "icotCCwgp3hK"
      },
      "source": [
        "def suma_varios(num1, num2, num3):\n",
        "\n",
        "    suma_total = num1 + num2 + num3\n",
        "    return suma_total"
      ],
      "execution_count": null,
      "outputs": []
    },
    {
      "cell_type": "code",
      "metadata": {
        "id": "HK1WDZvrRzkb",
        "colab": {
          "base_uri": "https://localhost:8080/",
          "height": 34
        },
        "outputId": "9acac10d-7351-4dbb-91c9-42b337b10ee0"
      },
      "source": [
        "suma_varios(3, 4, 5)"
      ],
      "execution_count": null,
      "outputs": [
        {
          "output_type": "execute_result",
          "data": {
            "text/plain": [
              "12"
            ]
          },
          "metadata": {
            "tags": []
          },
          "execution_count": 50
        }
      ]
    },
    {
      "cell_type": "code",
      "metadata": {
        "id": "m4wrFEo1RzU0",
        "colab": {
          "base_uri": "https://localhost:8080/",
          "height": 164
        },
        "outputId": "4dba84c3-5795-4204-fe12-a885ae29177f"
      },
      "source": [
        "suma_varios(2, 5)"
      ],
      "execution_count": null,
      "outputs": [
        {
          "output_type": "error",
          "ename": "TypeError",
          "evalue": "ignored",
          "traceback": [
            "\u001b[0;31m---------------------------------------------------------------------------\u001b[0m",
            "\u001b[0;31mTypeError\u001b[0m                                 Traceback (most recent call last)",
            "\u001b[0;32m<ipython-input-51-18ade97dbc41>\u001b[0m in \u001b[0;36m<module>\u001b[0;34m()\u001b[0m\n\u001b[0;32m----> 1\u001b[0;31m \u001b[0msuma_varios\u001b[0m\u001b[0;34m(\u001b[0m\u001b[0;36m2\u001b[0m\u001b[0;34m,\u001b[0m \u001b[0;36m5\u001b[0m\u001b[0;34m)\u001b[0m\u001b[0;34m\u001b[0m\u001b[0;34m\u001b[0m\u001b[0m\n\u001b[0m",
            "\u001b[0;31mTypeError\u001b[0m: suma_varios() missing 1 required positional argument: 'num3'"
          ]
        }
      ]
    },
    {
      "cell_type": "code",
      "metadata": {
        "id": "6NJxdgUgRy9q",
        "colab": {
          "base_uri": "https://localhost:8080/",
          "height": 164
        },
        "outputId": "7c6a5e88-f96f-4bab-b761-8244e4139d19"
      },
      "source": [
        "suma_varios(2,3,4,5)"
      ],
      "execution_count": null,
      "outputs": [
        {
          "output_type": "error",
          "ename": "TypeError",
          "evalue": "ignored",
          "traceback": [
            "\u001b[0;31m---------------------------------------------------------------------------\u001b[0m",
            "\u001b[0;31mTypeError\u001b[0m                                 Traceback (most recent call last)",
            "\u001b[0;32m<ipython-input-52-33b068e6e505>\u001b[0m in \u001b[0;36m<module>\u001b[0;34m()\u001b[0m\n\u001b[0;32m----> 1\u001b[0;31m \u001b[0msuma_varios\u001b[0m\u001b[0;34m(\u001b[0m\u001b[0;36m2\u001b[0m\u001b[0;34m,\u001b[0m\u001b[0;36m3\u001b[0m\u001b[0;34m,\u001b[0m\u001b[0;36m4\u001b[0m\u001b[0;34m,\u001b[0m\u001b[0;36m5\u001b[0m\u001b[0;34m)\u001b[0m\u001b[0;34m\u001b[0m\u001b[0;34m\u001b[0m\u001b[0m\n\u001b[0m",
            "\u001b[0;31mTypeError\u001b[0m: suma_varios() takes 3 positional arguments but 4 were given"
          ]
        }
      ]
    },
    {
      "cell_type": "code",
      "metadata": {
        "id": "wBF-3yBBRy7R"
      },
      "source": [
        "def suma_varios(*numeros): #no limita los argumentos\n",
        "\n",
        "    suma_total = 0\n",
        "\n",
        "    for numero in numeros:\n",
        "        suma_total = suma_total + numero\n",
        "\n",
        "    return suma_total"
      ],
      "execution_count": null,
      "outputs": []
    },
    {
      "cell_type": "code",
      "metadata": {
        "id": "IPzjkoqFSvtP",
        "colab": {
          "base_uri": "https://localhost:8080/"
        },
        "outputId": "d3bd126f-3341-4f7a-85ef-b2b03e83cc9c"
      },
      "source": [
        "suma_varios(2)"
      ],
      "execution_count": null,
      "outputs": [
        {
          "output_type": "execute_result",
          "data": {
            "text/plain": [
              "2"
            ]
          },
          "metadata": {},
          "execution_count": 22
        }
      ]
    },
    {
      "cell_type": "code",
      "metadata": {
        "id": "Gtmoz3h3SveF",
        "colab": {
          "base_uri": "https://localhost:8080/"
        },
        "outputId": "80d0a19b-7ca4-4427-d7f1-97262d261fbe"
      },
      "source": [
        "suma_varios(3,4)"
      ],
      "execution_count": null,
      "outputs": [
        {
          "output_type": "execute_result",
          "data": {
            "text/plain": [
              "7"
            ]
          },
          "metadata": {},
          "execution_count": 23
        }
      ]
    },
    {
      "cell_type": "code",
      "metadata": {
        "id": "dMQCk_x_SvQ_",
        "colab": {
          "base_uri": "https://localhost:8080/"
        },
        "outputId": "c225b95f-2e4c-4cf9-b073-497972908022"
      },
      "source": [
        "suma_varios(1,2,3,4,5,6,7,8)"
      ],
      "execution_count": null,
      "outputs": [
        {
          "output_type": "execute_result",
          "data": {
            "text/plain": [
              "36"
            ]
          },
          "metadata": {},
          "execution_count": 24
        }
      ]
    },
    {
      "cell_type": "markdown",
      "metadata": {
        "id": "x-0REsDTl3WQ"
      },
      "source": [
        "## **kwargs"
      ]
    },
    {
      "cell_type": "code",
      "metadata": {
        "id": "6f60KMkhUvOa"
      },
      "source": [
        "def variables_parametros(**variables):\n",
        "    print(variables)\n",
        "    print(type(variables))"
      ],
      "execution_count": null,
      "outputs": []
    },
    {
      "cell_type": "code",
      "metadata": {
        "id": "aBRoEeuyUvMk",
        "colab": {
          "base_uri": "https://localhost:8080/"
        },
        "outputId": "dbf6940f-e153-4439-9ba8-c007464104e2"
      },
      "source": [
        "variables_parametros(nombre = \"Manuel\", puesto = \"Data Scientist\")"
      ],
      "execution_count": null,
      "outputs": [
        {
          "output_type": "stream",
          "name": "stdout",
          "text": [
            "{'nombre': 'Manuel', 'puesto': 'Data Scientist'}\n",
            "<class 'dict'>\n"
          ]
        }
      ]
    },
    {
      "cell_type": "code",
      "metadata": {
        "id": "XllnhH2XUvDs"
      },
      "source": [
        "def caracteristicas(**variables):\n",
        "    \n",
        "    for key, value in variables.items():\n",
        "        print(f\"{key}: {value}\")"
      ],
      "execution_count": null,
      "outputs": []
    },
    {
      "cell_type": "code",
      "metadata": {
        "id": "SGnUGl4eUu66",
        "colab": {
          "base_uri": "https://localhost:8080/"
        },
        "outputId": "fdc0a806-55b4-4ad4-9d98-1ec5e2e819ff"
      },
      "source": [
        "caracteristicas(nombre = \"Manuel\", puesto = \"Data Scientist\", residencia=\"QUITO\")"
      ],
      "execution_count": null,
      "outputs": [
        {
          "output_type": "stream",
          "name": "stdout",
          "text": [
            "nombre: Manuel\n",
            "puesto: Data Scientist\n",
            "residencia: QUITO\n"
          ]
        }
      ]
    },
    {
      "cell_type": "markdown",
      "metadata": {
        "id": "2ImNi9Mz_NRQ"
      },
      "source": [
        "## funciones lambda"
      ]
    },
    {
      "cell_type": "code",
      "metadata": {
        "id": "vXTrO7vWYkEd"
      },
      "source": [
        "def potenciacion(base, exponente):\n",
        "    return base ** exponente"
      ],
      "execution_count": null,
      "outputs": []
    },
    {
      "cell_type": "code",
      "metadata": {
        "id": "EJcUgmeTYj7y"
      },
      "source": [
        "potenciacion_lambda = lambda base, exponente: base ** exponente"
      ],
      "execution_count": null,
      "outputs": []
    },
    {
      "cell_type": "code",
      "metadata": {
        "id": "5TRlIZ4IYj5t",
        "colab": {
          "base_uri": "https://localhost:8080/"
        },
        "outputId": "5640cec8-b515-462d-d2f5-425e0596cbd6"
      },
      "source": [
        "potenciacion_lambda(3, 4)"
      ],
      "execution_count": null,
      "outputs": [
        {
          "output_type": "execute_result",
          "data": {
            "text/plain": [
              "81"
            ]
          },
          "metadata": {},
          "execution_count": 32
        }
      ]
    },
    {
      "cell_type": "code",
      "metadata": {
        "id": "-7JyModfYjwf"
      },
      "source": [
        "potenciacion_lambda = lambda base, exponente = 2: base ** exponente"
      ],
      "execution_count": null,
      "outputs": []
    },
    {
      "cell_type": "code",
      "metadata": {
        "id": "5rOkdD81YjnT",
        "colab": {
          "base_uri": "https://localhost:8080/"
        },
        "outputId": "e253b908-36ad-4f64-b97f-a31018129ea5"
      },
      "source": [
        "potenciacion_lambda(3, 4)"
      ],
      "execution_count": null,
      "outputs": [
        {
          "output_type": "execute_result",
          "data": {
            "text/plain": [
              "81"
            ]
          },
          "metadata": {},
          "execution_count": 34
        }
      ]
    },
    {
      "cell_type": "code",
      "metadata": {
        "id": "g0wPt1UEYjhJ",
        "colab": {
          "base_uri": "https://localhost:8080/"
        },
        "outputId": "0103f583-f9ba-4ef5-9f24-ffec43768e89"
      },
      "source": [
        "potenciacion_lambda(3)"
      ],
      "execution_count": null,
      "outputs": [
        {
          "output_type": "execute_result",
          "data": {
            "text/plain": [
              "9"
            ]
          },
          "metadata": {},
          "execution_count": 35
        }
      ]
    },
    {
      "cell_type": "markdown",
      "metadata": {
        "id": "ofuwaMP3eOZk"
      },
      "source": [
        "## comentarios en funciones"
      ]
    },
    {
      "cell_type": "code",
      "metadata": {
        "id": "sbCCOw8beOVz"
      },
      "source": [
        "def potenciacion(base, exponente):\n",
        "    \"\"\"\n",
        "    funcion que calcula la potenciacion de una base a un exponente\n",
        "\n",
        "    params:\n",
        "\n",
        "    base: int\n",
        "    exponente: int\n",
        "    \"\"\"\n",
        "\n",
        "    return base ** exponente"
      ],
      "execution_count": null,
      "outputs": []
    },
    {
      "cell_type": "code",
      "metadata": {
        "id": "8xSwYrn3eOLN",
        "colab": {
          "base_uri": "https://localhost:8080/",
          "height": 34
        },
        "outputId": "3b074e3d-0827-4ed1-fc28-d6b0fb3d6d91"
      },
      "source": [
        "potenciacion(3, 5)"
      ],
      "execution_count": null,
      "outputs": [
        {
          "output_type": "execute_result",
          "data": {
            "text/plain": [
              "243"
            ]
          },
          "metadata": {
            "tags": []
          },
          "execution_count": 84
        }
      ]
    },
    {
      "cell_type": "markdown",
      "metadata": {
        "id": "vI6xnArrr-DW"
      },
      "source": [
        "## map, filter, reduce"
      ]
    },
    {
      "cell_type": "code",
      "metadata": {
        "id": "qoruc3ZBLSwy",
        "colab": {
          "base_uri": "https://localhost:8080/"
        },
        "outputId": "7f1dc7fc-f8de-4517-d929-a372bfedffde"
      },
      "source": [
        "lista = [1,2,3,4,5]\n",
        "\n",
        "[numero ** 2 for numero in lista]"
      ],
      "execution_count": null,
      "outputs": [
        {
          "output_type": "execute_result",
          "data": {
            "text/plain": [
              "[1, 4, 9, 16, 25]"
            ]
          },
          "metadata": {},
          "execution_count": 39
        }
      ]
    },
    {
      "cell_type": "code",
      "metadata": {
        "id": "ZzKl01BfLSmX"
      },
      "source": [
        "elevar_cuadrado = lambda numero: numero ** 2"
      ],
      "execution_count": null,
      "outputs": []
    },
    {
      "cell_type": "code",
      "metadata": {
        "id": "wmlRWViQLSkB",
        "colab": {
          "base_uri": "https://localhost:8080/"
        },
        "outputId": "309e4b35-6e3a-42e6-a798-5cbd4ba5e16f"
      },
      "source": [
        "list(map(elevar_cuadrado, lista))"
      ],
      "execution_count": null,
      "outputs": [
        {
          "output_type": "execute_result",
          "data": {
            "text/plain": [
              "[1, 4, 9, 16, 25]"
            ]
          },
          "metadata": {},
          "execution_count": 41
        }
      ]
    },
    {
      "cell_type": "code",
      "metadata": {
        "id": "H50IbGq6LSfs"
      },
      "source": [
        "lista = list(range(1,101))"
      ],
      "execution_count": null,
      "outputs": []
    },
    {
      "cell_type": "code",
      "metadata": {
        "id": "Y7qbomyjLSLd",
        "colab": {
          "base_uri": "https://localhost:8080/"
        },
        "outputId": "8fc7173b-455b-4405-dbf3-923eb35e3701"
      },
      "source": [
        "[numero for numero in lista if numero % 20 == 0]"
      ],
      "execution_count": null,
      "outputs": [
        {
          "output_type": "execute_result",
          "data": {
            "text/plain": [
              "[20, 40, 60, 80, 100]"
            ]
          },
          "metadata": {},
          "execution_count": 43
        }
      ]
    },
    {
      "cell_type": "code",
      "metadata": {
        "id": "5E-DFaL5LSJQ"
      },
      "source": [
        "filtro = lambda numero: numero % 20 == 0 # selecciono solo multiplos de 20"
      ],
      "execution_count": null,
      "outputs": []
    },
    {
      "cell_type": "code",
      "metadata": {
        "id": "6pdo2ulNLR-B",
        "colab": {
          "base_uri": "https://localhost:8080/"
        },
        "outputId": "3b9b1c76-e48f-4adf-a25c-f832b28d49a4"
      },
      "source": [
        "list(filter(filtro, lista))"
      ],
      "execution_count": null,
      "outputs": [
        {
          "output_type": "execute_result",
          "data": {
            "text/plain": [
              "[20, 40, 60, 80, 100]"
            ]
          },
          "metadata": {},
          "execution_count": 45
        }
      ]
    },
    {
      "cell_type": "code",
      "metadata": {
        "id": "PobIZA10LRwK"
      },
      "source": [
        "from functools import reduce #se importa \"reduce\" del paquete \"functools\"\n",
        "\n",
        "lista = [1,2,3,4,5]"
      ],
      "execution_count": null,
      "outputs": []
    },
    {
      "cell_type": "code",
      "metadata": {
        "id": "gBtQoPFHSdxi"
      },
      "source": [
        "reductor = lambda a, b: a * b"
      ],
      "execution_count": null,
      "outputs": []
    },
    {
      "cell_type": "code",
      "metadata": {
        "id": "M9bkqsYtSdva",
        "colab": {
          "base_uri": "https://localhost:8080/"
        },
        "outputId": "61845b2d-6cc6-4695-d3cf-48d0eabe9260"
      },
      "source": [
        "reduce(reductor, lista) #reduce aplica a todos los pares y los junta"
      ],
      "execution_count": null,
      "outputs": [
        {
          "output_type": "execute_result",
          "data": {
            "text/plain": [
              "120"
            ]
          },
          "metadata": {},
          "execution_count": 50
        }
      ]
    },
    {
      "cell_type": "markdown",
      "metadata": {
        "id": "xrova7x7BXDJ"
      },
      "source": [
        "## importar funciones de python"
      ]
    },
    {
      "cell_type": "markdown",
      "metadata": {
        "id": "jBIVFnhDeGro"
      },
      "source": [
        "paquete random: https://docs.python.org/es/3/library/random.html"
      ]
    },
    {
      "cell_type": "code",
      "metadata": {
        "id": "c63vRszheGaE"
      },
      "source": [
        "from random import shuffle"
      ],
      "execution_count": null,
      "outputs": []
    },
    {
      "cell_type": "code",
      "metadata": {
        "id": "aMZb4sxNeM1m"
      },
      "source": [
        "lista = [1,2,3,4,5,6]\n",
        "\n",
        "shuffle(lista)"
      ],
      "execution_count": null,
      "outputs": []
    },
    {
      "cell_type": "code",
      "metadata": {
        "id": "3xqo5Tl3eMzP",
        "colab": {
          "base_uri": "https://localhost:8080/"
        },
        "outputId": "817e4b87-f2ad-4369-cccc-2a034f8d073b"
      },
      "source": [
        "lista"
      ],
      "execution_count": null,
      "outputs": [
        {
          "output_type": "execute_result",
          "data": {
            "text/plain": [
              "[1, 4, 2, 6, 5, 3]"
            ]
          },
          "metadata": {},
          "execution_count": 55
        }
      ]
    },
    {
      "cell_type": "code",
      "metadata": {
        "id": "Fk_oeRjQeMsh"
      },
      "source": [
        "from random import randint"
      ],
      "execution_count": null,
      "outputs": []
    },
    {
      "cell_type": "code",
      "metadata": {
        "id": "a9N-cjPXeMfb",
        "colab": {
          "base_uri": "https://localhost:8080/"
        },
        "outputId": "5d07939c-bf9d-475c-cd07-2a3c45f2ea2a"
      },
      "source": [
        "randint(10, 20)"
      ],
      "execution_count": null,
      "outputs": [
        {
          "output_type": "execute_result",
          "data": {
            "text/plain": [
              "20"
            ]
          },
          "metadata": {},
          "execution_count": 58
        }
      ]
    },
    {
      "cell_type": "markdown",
      "metadata": {
        "id": "cc7m5mpEtMkk"
      },
      "source": [
        "## Ejercicio: Pangrams \n",
        "contiene en una cadena de caracteres, todas las letras del alfabeto d eun idioma\n"
      ]
    },
    {
      "cell_type": "markdown",
      "metadata": {
        "id": "Y4Yrzqkt0hci"
      },
      "source": [
        "paquete string: https://docs.python.org/es/3/library/string.html"
      ]
    },
    {
      "cell_type": "markdown",
      "metadata": {
        "id": "ZRyS0EcN0_Qm"
      },
      "source": [
        "\"Farmer jack realized that big yellow quilts were expensive\"\n",
        "\n",
        "\"The quick brown fox jumps over the lazy dog\" "
      ]
    },
    {
      "cell_type": "code",
      "metadata": {
        "id": "XXTb62ZQ18Rc",
        "colab": {
          "base_uri": "https://localhost:8080/",
          "height": 35
        },
        "outputId": "4430f6f3-6f60-4dfc-ffad-df82530476db"
      },
      "source": [
        "import string\n",
        "\n",
        "string.ascii_lowercase"
      ],
      "execution_count": null,
      "outputs": [
        {
          "output_type": "execute_result",
          "data": {
            "text/plain": [
              "'abcdefghijklmnopqrstuvwxyz'"
            ],
            "application/vnd.google.colaboratory.intrinsic+json": {
              "type": "string"
            }
          },
          "metadata": {},
          "execution_count": 59
        }
      ]
    },
    {
      "cell_type": "code",
      "metadata": {
        "id": "ZZ4YLIxTh_VB"
      },
      "source": [
        "def es_pangram(frase):\n",
        "    \"\"\"devuelve True si la frase es un pangram \n",
        "    y False en caso no lo sea\n",
        "    \n",
        "    params:\n",
        "    frase: str\n",
        "    \"\"\"\n",
        "\n",
        "    alfabeto = string.ascii_lowercase\n",
        "\n",
        "    frase = frase.lower()\n",
        "    caracteres = list(set(frase)) \n",
        "# con un conjunto se toman elementos unicos\n",
        "    for caracter in alfabeto:\n",
        "        if caracter not in caracteres:\n",
        "            return False\n",
        "\n",
        "    return True"
      ],
      "execution_count": null,
      "outputs": []
    },
    {
      "cell_type": "code",
      "metadata": {
        "id": "utmlb8nx2aKT",
        "colab": {
          "base_uri": "https://localhost:8080/"
        },
        "outputId": "ec29732d-4c80-4966-e0e7-8a1b864fd2c0"
      },
      "source": [
        "es_pangram(\"Hola me llamo Manuel\")"
      ],
      "execution_count": null,
      "outputs": [
        {
          "output_type": "execute_result",
          "data": {
            "text/plain": [
              "False"
            ]
          },
          "metadata": {},
          "execution_count": 61
        }
      ]
    },
    {
      "cell_type": "code",
      "metadata": {
        "id": "yWCgsBcd2bzJ",
        "colab": {
          "base_uri": "https://localhost:8080/"
        },
        "outputId": "57b680f4-795c-4b14-e97b-8c70c3447a21"
      },
      "source": [
        "es_pangram(\"The quick brown fox jumps over the lazy dog\")"
      ],
      "execution_count": null,
      "outputs": [
        {
          "output_type": "execute_result",
          "data": {
            "text/plain": [
              "True"
            ]
          },
          "metadata": {},
          "execution_count": 62
        }
      ]
    },
    {
      "cell_type": "markdown",
      "metadata": {
        "id": "52LRKSh22fhO"
      },
      "source": [
        "## Ejercicio: Números perfectos\n",
        "\n",
        "Definición de números perfectos https://es.wikipedia.org/wiki/Número_perfecto"
      ]
    },
    {
      "cell_type": "code",
      "metadata": {
        "id": "JIzLMATI2jhM"
      },
      "source": [
        "def divisores_propios(numero):\n",
        "\n",
        "    return [divisor for divisor in range(1, numero) if numero % divisor == 0]"
      ],
      "execution_count": null,
      "outputs": []
    },
    {
      "cell_type": "code",
      "metadata": {
        "id": "RX4fucPC7KZI",
        "colab": {
          "base_uri": "https://localhost:8080/"
        },
        "outputId": "1e0cc1f7-4c52-444d-ae29-d563a233ce02"
      },
      "source": [
        "divisores_propios(28)"
      ],
      "execution_count": null,
      "outputs": [
        {
          "output_type": "execute_result",
          "data": {
            "text/plain": [
              "[1, 2, 4, 7, 14]"
            ]
          },
          "metadata": {},
          "execution_count": 64
        }
      ]
    },
    {
      "cell_type": "code",
      "metadata": {
        "id": "szzWjR1e6pQU"
      },
      "source": [
        "def es_perfecto(numero):\n",
        "\n",
        "    if numero == sum(divisores_propios(numero)):\n",
        "        return True\n",
        "    else:\n",
        "        return False"
      ],
      "execution_count": null,
      "outputs": []
    },
    {
      "cell_type": "code",
      "metadata": {
        "id": "1BQU8Mbw7atW",
        "colab": {
          "base_uri": "https://localhost:8080/"
        },
        "outputId": "b5452647-4e0b-467e-dbdf-88b60f7c1c39"
      },
      "source": [
        "es_perfecto(15)"
      ],
      "execution_count": null,
      "outputs": [
        {
          "output_type": "execute_result",
          "data": {
            "text/plain": [
              "False"
            ]
          },
          "metadata": {},
          "execution_count": 66
        }
      ]
    },
    {
      "cell_type": "code",
      "metadata": {
        "id": "QSspNKyt7cRW",
        "colab": {
          "base_uri": "https://localhost:8080/"
        },
        "outputId": "f21cd13c-a9b1-4b7c-9a34-0eccfec679f5"
      },
      "source": [
        "es_perfecto(6)"
      ],
      "execution_count": null,
      "outputs": [
        {
          "output_type": "execute_result",
          "data": {
            "text/plain": [
              "True"
            ]
          },
          "metadata": {},
          "execution_count": 67
        }
      ]
    },
    {
      "cell_type": "code",
      "metadata": {
        "id": "fM7sgku_7eU9",
        "colab": {
          "base_uri": "https://localhost:8080/"
        },
        "outputId": "a288e070-7d19-4bc2-d7bd-7e16f44411e0"
      },
      "source": [
        "es_perfecto(8128)"
      ],
      "execution_count": null,
      "outputs": [
        {
          "output_type": "execute_result",
          "data": {
            "text/plain": [
              "True"
            ]
          },
          "metadata": {},
          "execution_count": 68
        }
      ]
    },
    {
      "cell_type": "code",
      "metadata": {
        "id": "iVb9VkD27iAk"
      },
      "source": [
        ""
      ],
      "execution_count": null,
      "outputs": []
    }
  ]
}