{
  "nbformat": 4,
  "nbformat_minor": 0,
  "metadata": {
    "colab": {
      "name": "datahack-02-tipos-variables-operadores.ipynb",
      "provenance": [],
      "collapsed_sections": [],
      "include_colab_link": true
    },
    "kernelspec": {
      "display_name": "Python 3",
      "language": "python",
      "name": "python3"
    },
    "language_info": {
      "codemirror_mode": {
        "name": "ipython",
        "version": 3
      },
      "file_extension": ".py",
      "mimetype": "text/x-python",
      "name": "python",
      "nbconvert_exporter": "python",
      "pygments_lexer": "ipython3",
      "version": "3.7.4"
    }
  },
  "cells": [
    {
      "cell_type": "markdown",
      "metadata": {
        "id": "view-in-github",
        "colab_type": "text"
      },
      "source": [
        "<a href=\"https://colab.research.google.com/github/Luis-Amagua/Python_para_todos_curso/blob/main/datahack_02_tipos_variables_operadores.ipynb\" target=\"_parent\"><img src=\"https://colab.research.google.com/assets/colab-badge.svg\" alt=\"Open In Colab\"/></a>"
      ]
    },
    {
      "cell_type": "markdown",
      "metadata": {
        "id": "Z0D1aWhDIOll"
      },
      "source": [
        "# Datahack - Tipos de variables\n"
      ]
    },
    {
      "cell_type": "markdown",
      "metadata": {
        "id": "Djst0v9qZ5ck"
      },
      "source": [
        "# Variables Numéricas"
      ]
    },
    {
      "cell_type": "code",
      "metadata": {
        "id": "QBqT4JbtZ5c2"
      },
      "source": [
        "x = 12"
      ],
      "execution_count": null,
      "outputs": []
    },
    {
      "cell_type": "code",
      "metadata": {
        "id": "hZOxqnjCWwLT"
      },
      "source": [
        "x"
      ],
      "execution_count": null,
      "outputs": []
    },
    {
      "cell_type": "code",
      "metadata": {
        "id": "qjyITqUqWwFV"
      },
      "source": [
        "y = 13.5"
      ],
      "execution_count": null,
      "outputs": []
    },
    {
      "cell_type": "code",
      "metadata": {
        "id": "dYdwlGivWv7h"
      },
      "source": [
        "y"
      ],
      "execution_count": null,
      "outputs": []
    },
    {
      "cell_type": "code",
      "metadata": {
        "id": "wUELwShVeWm1"
      },
      "source": [
        "type(x) "
      ],
      "execution_count": null,
      "outputs": []
    },
    {
      "cell_type": "code",
      "metadata": {
        "id": "3Xc8hjm_eWho"
      },
      "source": [
        "type(y)"
      ],
      "execution_count": null,
      "outputs": []
    },
    {
      "cell_type": "markdown",
      "metadata": {
        "id": "Zf_2pxLdpwqP"
      },
      "source": [
        "## Casteo de variables numéricas"
      ]
    },
    {
      "cell_type": "code",
      "metadata": {
        "id": "SZ90wKBGoXax"
      },
      "source": [
        "x = 4.6\n",
        "y = 5.4"
      ],
      "execution_count": null,
      "outputs": []
    },
    {
      "cell_type": "code",
      "metadata": {
        "id": "pz7E6znopvCt"
      },
      "source": [
        "z = int(x)\n",
        "z"
      ],
      "execution_count": null,
      "outputs": []
    },
    {
      "cell_type": "code",
      "metadata": {
        "id": "O0438vQMpu_g"
      },
      "source": [
        "z = round(x)\n",
        "z"
      ],
      "execution_count": null,
      "outputs": []
    },
    {
      "cell_type": "code",
      "metadata": {
        "id": "kCFcrnXupuyJ"
      },
      "source": [
        "x = 4\n",
        "type(x)"
      ],
      "execution_count": null,
      "outputs": []
    },
    {
      "cell_type": "code",
      "metadata": {
        "id": "9obD8peRoc_Z"
      },
      "source": [
        "z = float(x)\n",
        "z"
      ],
      "execution_count": null,
      "outputs": []
    },
    {
      "cell_type": "code",
      "metadata": {
        "id": "zkgi3q6Xoc8p"
      },
      "source": [
        "type(z)"
      ],
      "execution_count": null,
      "outputs": []
    },
    {
      "cell_type": "markdown",
      "metadata": {
        "id": "G2y4oId3Z_Ke"
      },
      "source": [
        "## Operadores de variables numéricas"
      ]
    },
    {
      "cell_type": "code",
      "metadata": {
        "id": "KkeIk2p_Z_Fc"
      },
      "source": [
        "x = 17\n",
        "y = 3"
      ],
      "execution_count": null,
      "outputs": []
    },
    {
      "cell_type": "code",
      "metadata": {
        "id": "-YxwB9uaZ-5-",
        "colab": {
          "base_uri": "https://localhost:8080/"
        },
        "outputId": "9bd6dab6-00cd-4d13-9bfa-d8069c11e8a4"
      },
      "source": [
        "x + y "
      ],
      "execution_count": null,
      "outputs": [
        {
          "output_type": "execute_result",
          "data": {
            "text/plain": [
              "20"
            ]
          },
          "metadata": {},
          "execution_count": 2
        }
      ]
    },
    {
      "cell_type": "code",
      "metadata": {
        "id": "xcSNdEXGQVKm",
        "colab": {
          "base_uri": "https://localhost:8080/"
        },
        "outputId": "3ae2e5e2-1f41-42a7-8b0c-c1fbbcc00534"
      },
      "source": [
        "x - y"
      ],
      "execution_count": null,
      "outputs": [
        {
          "output_type": "execute_result",
          "data": {
            "text/plain": [
              "14"
            ]
          },
          "metadata": {},
          "execution_count": 3
        }
      ]
    },
    {
      "cell_type": "code",
      "metadata": {
        "id": "4H9BFfqUQVH_",
        "colab": {
          "base_uri": "https://localhost:8080/"
        },
        "outputId": "2acefe83-49e0-4ddc-d68b-5d1f7f6de5ba"
      },
      "source": [
        "x * y "
      ],
      "execution_count": null,
      "outputs": [
        {
          "output_type": "execute_result",
          "data": {
            "text/plain": [
              "51"
            ]
          },
          "metadata": {},
          "execution_count": 4
        }
      ]
    },
    {
      "cell_type": "code",
      "metadata": {
        "id": "QtECRy3rQU95",
        "colab": {
          "base_uri": "https://localhost:8080/"
        },
        "outputId": "738d962c-3591-4ce0-fc74-f9facf6262ce"
      },
      "source": [
        "x / y"
      ],
      "execution_count": null,
      "outputs": [
        {
          "output_type": "execute_result",
          "data": {
            "text/plain": [
              "5.666666666666667"
            ]
          },
          "metadata": {},
          "execution_count": 5
        }
      ]
    },
    {
      "cell_type": "markdown",
      "metadata": {
        "id": "X0c5qcOa5NdF"
      },
      "source": [
        "División entera"
      ]
    },
    {
      "cell_type": "code",
      "metadata": {
        "id": "7JzMb8crQU7C",
        "colab": {
          "base_uri": "https://localhost:8080/"
        },
        "outputId": "53748018-25e7-4b25-8f1b-65c407a45db0"
      },
      "source": [
        "x // y  #division entera"
      ],
      "execution_count": null,
      "outputs": [
        {
          "output_type": "execute_result",
          "data": {
            "text/plain": [
              "5"
            ]
          },
          "metadata": {},
          "execution_count": 6
        }
      ]
    },
    {
      "cell_type": "code",
      "metadata": {
        "id": "EpXPiOssQU4e",
        "colab": {
          "base_uri": "https://localhost:8080/"
        },
        "outputId": "bb85f871-db41-4c79-dba1-f6cdba47c3d4"
      },
      "source": [
        "x % y # residuo"
      ],
      "execution_count": null,
      "outputs": [
        {
          "output_type": "execute_result",
          "data": {
            "text/plain": [
              "2"
            ]
          },
          "metadata": {},
          "execution_count": 8
        }
      ]
    },
    {
      "cell_type": "markdown",
      "metadata": {
        "id": "yO1qRmCw5QC8"
      },
      "source": [
        "Potenciación"
      ]
    },
    {
      "cell_type": "code",
      "metadata": {
        "id": "sFNGr2qaQUxF",
        "colab": {
          "base_uri": "https://localhost:8080/"
        },
        "outputId": "ba659074-b01e-474f-c643-1849d918c69d"
      },
      "source": [
        "x ** y "
      ],
      "execution_count": null,
      "outputs": [
        {
          "output_type": "execute_result",
          "data": {
            "text/plain": [
              "4913"
            ]
          },
          "metadata": {},
          "execution_count": 9
        }
      ]
    },
    {
      "cell_type": "code",
      "metadata": {
        "id": "TF-8jZQTQUml",
        "colab": {
          "base_uri": "https://localhost:8080/"
        },
        "outputId": "85e285a5-0116-4296-9249-1b74aca8a057"
      },
      "source": [
        "16 ** (1/2)"
      ],
      "execution_count": null,
      "outputs": [
        {
          "output_type": "execute_result",
          "data": {
            "text/plain": [
              "4.0"
            ]
          },
          "metadata": {},
          "execution_count": 10
        }
      ]
    },
    {
      "cell_type": "markdown",
      "metadata": {
        "id": "QB2s5WVWQar3"
      },
      "source": [
        "## Orden de operaciones"
      ]
    },
    {
      "cell_type": "markdown",
      "metadata": {
        "id": "fxJYgKvg5B_b"
      },
      "source": [
        "La prioridad de las operaciones es la siguiente\n",
        "\n",
        "1) Paréntesis\n",
        "\n",
        "2) Exponenciación\n",
        "\n",
        "3) Producto y División\n",
        "\n",
        "4) Suma y Resta"
      ]
    },
    {
      "cell_type": "code",
      "metadata": {
        "id": "95MZb1iRQafs",
        "colab": {
          "base_uri": "https://localhost:8080/"
        },
        "outputId": "35621b92-514a-4c48-8fba-d9c21f4e9f4b"
      },
      "source": [
        "5 + 16 / 2 ** 4"
      ],
      "execution_count": null,
      "outputs": [
        {
          "output_type": "execute_result",
          "data": {
            "text/plain": [
              "6.0"
            ]
          },
          "metadata": {},
          "execution_count": 11
        }
      ]
    },
    {
      "cell_type": "code",
      "metadata": {
        "id": "N4Hlr_t1vcDv",
        "colab": {
          "base_uri": "https://localhost:8080/"
        },
        "outputId": "4674a06d-2870-4290-8265-4d780387200a"
      },
      "source": [
        "5 + (16 / 2) ** 4"
      ],
      "execution_count": null,
      "outputs": [
        {
          "output_type": "execute_result",
          "data": {
            "text/plain": [
              "4101.0"
            ]
          },
          "metadata": {},
          "execution_count": 12
        }
      ]
    },
    {
      "cell_type": "code",
      "metadata": {
        "id": "gsfDKJPjvb3y",
        "colab": {
          "base_uri": "https://localhost:8080/"
        },
        "outputId": "5d266998-9bc1-454c-e274-7ae598b19b98"
      },
      "source": [
        "5 + (16 / (2 ** 4))"
      ],
      "execution_count": null,
      "outputs": [
        {
          "output_type": "execute_result",
          "data": {
            "text/plain": [
              "6.0"
            ]
          },
          "metadata": {},
          "execution_count": 13
        }
      ]
    },
    {
      "cell_type": "markdown",
      "metadata": {
        "id": "F1SFucWpZ5c6"
      },
      "source": [
        "# Variables Booleanas"
      ]
    },
    {
      "cell_type": "code",
      "metadata": {
        "id": "sDvXR1Q-Z5c7",
        "colab": {
          "base_uri": "https://localhost:8080/"
        },
        "outputId": "f69a6e0b-f19b-4e1c-809d-85f56543c88b"
      },
      "source": [
        "4 < 5"
      ],
      "execution_count": null,
      "outputs": [
        {
          "output_type": "execute_result",
          "data": {
            "text/plain": [
              "True"
            ]
          },
          "metadata": {},
          "execution_count": 14
        }
      ]
    },
    {
      "cell_type": "code",
      "metadata": {
        "id": "qXr1BSIQ6tBo",
        "colab": {
          "base_uri": "https://localhost:8080/"
        },
        "outputId": "55e4f917-29b5-4333-e29b-323d191bad78"
      },
      "source": [
        "4 > 5"
      ],
      "execution_count": null,
      "outputs": [
        {
          "output_type": "execute_result",
          "data": {
            "text/plain": [
              "False"
            ]
          },
          "metadata": {},
          "execution_count": 15
        }
      ]
    },
    {
      "cell_type": "code",
      "metadata": {
        "id": "FzNigyok6SuP",
        "colab": {
          "base_uri": "https://localhost:8080/"
        },
        "outputId": "3a0b7334-1443-4155-d75d-7463e3c5d488"
      },
      "source": [
        "4 == 6"
      ],
      "execution_count": null,
      "outputs": [
        {
          "output_type": "execute_result",
          "data": {
            "text/plain": [
              "False"
            ]
          },
          "metadata": {},
          "execution_count": 16
        }
      ]
    },
    {
      "cell_type": "code",
      "metadata": {
        "id": "rC1O9tVoZ5c8"
      },
      "source": [
        "x = 5"
      ],
      "execution_count": null,
      "outputs": []
    },
    {
      "cell_type": "code",
      "metadata": {
        "id": "dWUm7oIImqf5"
      },
      "source": [
        "x = True\n",
        "y = False"
      ],
      "execution_count": null,
      "outputs": []
    },
    {
      "cell_type": "code",
      "metadata": {
        "id": "VAQ6N4UvZ5c9",
        "colab": {
          "base_uri": "https://localhost:8080/"
        },
        "outputId": "13158578-94f4-4cfa-bbd6-cf64a4daeb3a"
      },
      "source": [
        "x"
      ],
      "execution_count": null,
      "outputs": [
        {
          "output_type": "execute_result",
          "data": {
            "text/plain": [
              "True"
            ]
          },
          "metadata": {},
          "execution_count": 19
        }
      ]
    },
    {
      "cell_type": "code",
      "metadata": {
        "id": "WnN0KxWFZ5c-",
        "colab": {
          "base_uri": "https://localhost:8080/"
        },
        "outputId": "4fa2cb9e-8555-49b0-f0e2-47d68f7c158e"
      },
      "source": [
        "type(x)"
      ],
      "execution_count": null,
      "outputs": [
        {
          "output_type": "execute_result",
          "data": {
            "text/plain": [
              "bool"
            ]
          },
          "metadata": {},
          "execution_count": 20
        }
      ]
    },
    {
      "cell_type": "markdown",
      "metadata": {
        "id": "eq8TL6iZZ5c_"
      },
      "source": [
        "## Operadores de combinación de variables booleanas"
      ]
    },
    {
      "cell_type": "code",
      "metadata": {
        "id": "p96gZEq33Ijb"
      },
      "source": [
        "a = True\n",
        "b = False"
      ],
      "execution_count": null,
      "outputs": []
    },
    {
      "cell_type": "code",
      "metadata": {
        "id": "_iDR2zQr3Ifw",
        "colab": {
          "base_uri": "https://localhost:8080/"
        },
        "outputId": "d0d3f397-9411-49e2-f006-1c77e02ec1f1"
      },
      "source": [
        "a and a"
      ],
      "execution_count": null,
      "outputs": [
        {
          "output_type": "execute_result",
          "data": {
            "text/plain": [
              "True"
            ]
          },
          "metadata": {},
          "execution_count": 22
        }
      ]
    },
    {
      "cell_type": "code",
      "metadata": {
        "id": "10RNUMbB3Ic-",
        "colab": {
          "base_uri": "https://localhost:8080/"
        },
        "outputId": "af927766-e935-4b80-ebd6-25d0b8e73865"
      },
      "source": [
        "a and b"
      ],
      "execution_count": null,
      "outputs": [
        {
          "output_type": "execute_result",
          "data": {
            "text/plain": [
              "False"
            ]
          },
          "metadata": {},
          "execution_count": 23
        }
      ]
    },
    {
      "cell_type": "code",
      "metadata": {
        "id": "spTaGkxi3IJ7",
        "colab": {
          "base_uri": "https://localhost:8080/"
        },
        "outputId": "0aa862e0-65f4-49df-b258-148e18f277ed"
      },
      "source": [
        "a or b"
      ],
      "execution_count": null,
      "outputs": [
        {
          "output_type": "execute_result",
          "data": {
            "text/plain": [
              "True"
            ]
          },
          "metadata": {},
          "execution_count": 24
        }
      ]
    },
    {
      "cell_type": "code",
      "metadata": {
        "id": "RDfJeBn39MM1",
        "colab": {
          "base_uri": "https://localhost:8080/"
        },
        "outputId": "43eeff4b-0866-4e0f-83a4-3b6cac1ac2aa"
      },
      "source": [
        "b or b"
      ],
      "execution_count": null,
      "outputs": [
        {
          "output_type": "execute_result",
          "data": {
            "text/plain": [
              "False"
            ]
          },
          "metadata": {},
          "execution_count": 25
        }
      ]
    },
    {
      "cell_type": "code",
      "metadata": {
        "id": "x0dF20aQ9MFG",
        "colab": {
          "base_uri": "https://localhost:8080/"
        },
        "outputId": "fa8de2fa-ef77-4831-b808-bd85f07bee95"
      },
      "source": [
        "(3 < 4) and (4 < 5)"
      ],
      "execution_count": null,
      "outputs": [
        {
          "output_type": "execute_result",
          "data": {
            "text/plain": [
              "True"
            ]
          },
          "metadata": {},
          "execution_count": 26
        }
      ]
    },
    {
      "cell_type": "markdown",
      "metadata": {
        "id": "7D9w2keoZ5dB"
      },
      "source": [
        "# Strings"
      ]
    },
    {
      "cell_type": "code",
      "metadata": {
        "id": "LCMkTrzw-s9H",
        "colab": {
          "base_uri": "https://localhost:8080/",
          "height": 37
        },
        "outputId": "00120cbe-89e9-49f7-aa19-37ad210afbdf"
      },
      "source": [
        "saludo = \"Hola mundo!\"\n",
        "saludo"
      ],
      "execution_count": null,
      "outputs": [
        {
          "output_type": "execute_result",
          "data": {
            "application/vnd.google.colaboratory.intrinsic+json": {
              "type": "string"
            },
            "text/plain": [
              "'Hola mundo!'"
            ]
          },
          "metadata": {
            "tags": []
          },
          "execution_count": 144
        }
      ]
    },
    {
      "cell_type": "code",
      "metadata": {
        "id": "bA6kViAs-s0c",
        "colab": {
          "base_uri": "https://localhost:8080/",
          "height": 34
        },
        "outputId": "3ad74ee7-0b74-4cc2-ffb1-e595921f6f8d"
      },
      "source": [
        "type(saludo)"
      ],
      "execution_count": null,
      "outputs": [
        {
          "output_type": "execute_result",
          "data": {
            "text/plain": [
              "str"
            ]
          },
          "metadata": {
            "tags": []
          },
          "execution_count": 145
        }
      ]
    },
    {
      "cell_type": "code",
      "metadata": {
        "id": "JAgpZ_AK-sfh",
        "colab": {
          "base_uri": "https://localhost:8080/",
          "height": 35
        },
        "outputId": "c08e38b2-bf7a-44f4-f876-c5bfa257d573"
      },
      "source": [
        "nombre = \"Thor\"\n",
        "edad = 35\n",
        "\n",
        "saludo = f\"Hola {nombre}, tu edad es {edad}\"\n",
        "saludo"
      ],
      "execution_count": null,
      "outputs": [
        {
          "output_type": "execute_result",
          "data": {
            "text/plain": [
              "'Hola Thor, tu edad es 35'"
            ],
            "application/vnd.google.colaboratory.intrinsic+json": {
              "type": "string"
            }
          },
          "metadata": {},
          "execution_count": 27
        }
      ]
    },
    {
      "cell_type": "code",
      "source": [
        "nombre=\"Luis\" # con f se unen texto y una variable\n",
        "edad=35\n",
        "\n",
        "saludo= f\"Hola! {nombre}, tu edad es {edad}\"\n",
        "saludo"
      ],
      "metadata": {
        "colab": {
          "base_uri": "https://localhost:8080/",
          "height": 35
        },
        "id": "JaEccGk00ZV6",
        "outputId": "e5bfa799-2730-47b6-839c-e58d6a38c99b"
      },
      "execution_count": null,
      "outputs": [
        {
          "output_type": "execute_result",
          "data": {
            "text/plain": [
              "'Hola! Luis, tu edad es 35'"
            ],
            "application/vnd.google.colaboratory.intrinsic+json": {
              "type": "string"
            }
          },
          "metadata": {},
          "execution_count": 29
        }
      ]
    },
    {
      "cell_type": "markdown",
      "metadata": {
        "id": "Ug_dSjv2g12j"
      },
      "source": [
        "## Comillas simples, dobles y triples"
      ]
    },
    {
      "cell_type": "code",
      "metadata": {
        "id": "HLziFE71g106"
      },
      "source": [
        "nombre = \"Manuel Montoya\""
      ],
      "execution_count": null,
      "outputs": []
    },
    {
      "cell_type": "code",
      "metadata": {
        "id": "XKUJ8VFag1r0",
        "colab": {
          "base_uri": "https://localhost:8080/",
          "height": 37
        },
        "outputId": "fac3eeb9-e80a-4c28-8c0e-1ea91fa78756"
      },
      "source": [
        "nombre"
      ],
      "execution_count": null,
      "outputs": [
        {
          "output_type": "execute_result",
          "data": {
            "application/vnd.google.colaboratory.intrinsic+json": {
              "type": "string"
            },
            "text/plain": [
              "'Manuel Montoya'"
            ]
          },
          "metadata": {
            "tags": []
          },
          "execution_count": 15
        }
      ]
    },
    {
      "cell_type": "code",
      "metadata": {
        "id": "8CzqrZqLg1WO"
      },
      "source": [
        "nombre = 'Manuel Montoya'"
      ],
      "execution_count": null,
      "outputs": []
    },
    {
      "cell_type": "code",
      "metadata": {
        "id": "-msHs5hTg1Ug",
        "colab": {
          "base_uri": "https://localhost:8080/",
          "height": 37
        },
        "outputId": "0ab64776-7346-402c-f620-d006b336b3a9"
      },
      "source": [
        "nombre"
      ],
      "execution_count": null,
      "outputs": [
        {
          "output_type": "execute_result",
          "data": {
            "application/vnd.google.colaboratory.intrinsic+json": {
              "type": "string"
            },
            "text/plain": [
              "'Manuel Montoya'"
            ]
          },
          "metadata": {
            "tags": []
          },
          "execution_count": 17
        }
      ]
    },
    {
      "cell_type": "code",
      "metadata": {
        "id": "h-hklH2ag1RB",
        "colab": {
          "base_uri": "https://localhost:8080/",
          "height": 37
        },
        "outputId": "d5f107f4-c580-4bfd-f178-9663ea6f94ab"
      },
      "source": [
        "mensaje = \"Mi nombre es 'Manuel'\"\n",
        "mensaje"
      ],
      "execution_count": null,
      "outputs": [
        {
          "output_type": "execute_result",
          "data": {
            "application/vnd.google.colaboratory.intrinsic+json": {
              "type": "string"
            },
            "text/plain": [
              "\"Mi nombre es 'Manuel'\""
            ]
          },
          "metadata": {
            "tags": []
          },
          "execution_count": 19
        }
      ]
    },
    {
      "cell_type": "code",
      "metadata": {
        "id": "msr_Ckbvg1EI",
        "colab": {
          "base_uri": "https://localhost:8080/",
          "height": 37
        },
        "outputId": "20b381e5-b28e-405c-e190-c6d58c8c871e"
      },
      "source": [
        "mensaje = \"\"\"este es un mensaje de varias lineas en python\"\"\"\n",
        "mensaje"
      ],
      "execution_count": null,
      "outputs": [
        {
          "output_type": "execute_result",
          "data": {
            "application/vnd.google.colaboratory.intrinsic+json": {
              "type": "string"
            },
            "text/plain": [
              "'este es un mensaje de varias lineas en python'"
            ]
          },
          "metadata": {
            "tags": []
          },
          "execution_count": 22
        }
      ]
    },
    {
      "cell_type": "markdown",
      "metadata": {
        "id": "bePXWjeQ-pbo"
      },
      "source": [
        "## Operadores de strings"
      ]
    },
    {
      "cell_type": "code",
      "metadata": {
        "id": "uRKAY-4tZ5dB"
      },
      "source": [
        "cadena = \"Thor\""
      ],
      "execution_count": null,
      "outputs": []
    },
    {
      "cell_type": "code",
      "metadata": {
        "id": "qrWJxxwJZ5dC",
        "colab": {
          "base_uri": "https://localhost:8080/",
          "height": 37
        },
        "outputId": "70d77fd7-3698-4d65-c07f-d6d5ea84524a"
      },
      "source": [
        "cadena + \", hijo de Odin\""
      ],
      "execution_count": null,
      "outputs": [
        {
          "output_type": "execute_result",
          "data": {
            "application/vnd.google.colaboratory.intrinsic+json": {
              "type": "string"
            },
            "text/plain": [
              "'Thor, hijo de Odin'"
            ]
          },
          "metadata": {
            "tags": []
          },
          "execution_count": 151
        }
      ]
    },
    {
      "cell_type": "code",
      "metadata": {
        "id": "uvXpKPaxZ5dD",
        "colab": {
          "base_uri": "https://localhost:8080/",
          "height": 37
        },
        "outputId": "9c530fcf-c556-4430-824d-ba202331ccb0"
      },
      "source": [
        "cadena * 5"
      ],
      "execution_count": null,
      "outputs": [
        {
          "output_type": "execute_result",
          "data": {
            "application/vnd.google.colaboratory.intrinsic+json": {
              "type": "string"
            },
            "text/plain": [
              "'ThorThorThorThorThor'"
            ]
          },
          "metadata": {
            "tags": []
          },
          "execution_count": 152
        }
      ]
    },
    {
      "cell_type": "code",
      "metadata": {
        "id": "EeW1j8jCZ5dE",
        "colab": {
          "base_uri": "https://localhost:8080/",
          "height": 164
        },
        "outputId": "1ccd3285-8f06-47fa-f64c-6bd5f42051e5"
      },
      "source": [
        "cadena / 5"
      ],
      "execution_count": null,
      "outputs": [
        {
          "output_type": "error",
          "ename": "TypeError",
          "evalue": "ignored",
          "traceback": [
            "\u001b[0;31m---------------------------------------------------------------------------\u001b[0m",
            "\u001b[0;31mTypeError\u001b[0m                                 Traceback (most recent call last)",
            "\u001b[0;32m<ipython-input-153-31de4f582462>\u001b[0m in \u001b[0;36m<module>\u001b[0;34m()\u001b[0m\n\u001b[0;32m----> 1\u001b[0;31m \u001b[0mcadena\u001b[0m \u001b[0;34m/\u001b[0m \u001b[0;36m5\u001b[0m\u001b[0;34m\u001b[0m\u001b[0;34m\u001b[0m\u001b[0m\n\u001b[0m",
            "\u001b[0;31mTypeError\u001b[0m: unsupported operand type(s) for /: 'str' and 'int'"
          ]
        }
      ]
    },
    {
      "cell_type": "markdown",
      "metadata": {
        "id": "1C2hKwD0Jk0g"
      },
      "source": [
        "## Otros operadores de strings"
      ]
    },
    {
      "cell_type": "code",
      "metadata": {
        "id": "O2e3wLJ1JpCK"
      },
      "source": [
        "x = \"Real Madrid\"\n",
        "y = \"Barcelona\""
      ],
      "execution_count": null,
      "outputs": []
    },
    {
      "cell_type": "code",
      "metadata": {
        "id": "OoqHccoBJrIH",
        "colab": {
          "base_uri": "https://localhost:8080/"
        },
        "outputId": "80f19518-eab9-4a07-d1c2-2f883ee846fc"
      },
      "source": [
        "x < y #compara los caracteres de cada cadena \"R\" menor que \"B\""
      ],
      "execution_count": null,
      "outputs": [
        {
          "output_type": "execute_result",
          "data": {
            "text/plain": [
              "False"
            ]
          },
          "metadata": {},
          "execution_count": 34
        }
      ]
    },
    {
      "cell_type": "code",
      "metadata": {
        "id": "1ivD94-EJq-W",
        "colab": {
          "base_uri": "https://localhost:8080/"
        },
        "outputId": "b0b8c04e-14c0-4433-e7ed-6ce4c072481a"
      },
      "source": [
        "\"a\" < \"b\""
      ],
      "execution_count": null,
      "outputs": [
        {
          "output_type": "execute_result",
          "data": {
            "text/plain": [
              "True"
            ]
          },
          "metadata": {},
          "execution_count": 35
        }
      ]
    },
    {
      "cell_type": "code",
      "metadata": {
        "id": "7AuYKDisJqt3",
        "colab": {
          "base_uri": "https://localhost:8080/"
        },
        "outputId": "3f400a0b-2fbd-4cd0-cdab-1d0667aa5eb1"
      },
      "source": [
        "\"a\" > \"A\" # primero van mayusculas"
      ],
      "execution_count": null,
      "outputs": [
        {
          "output_type": "execute_result",
          "data": {
            "text/plain": [
              "True"
            ]
          },
          "metadata": {},
          "execution_count": 38
        }
      ]
    },
    {
      "cell_type": "code",
      "metadata": {
        "id": "BS1Gqd69JqWv",
        "colab": {
          "base_uri": "https://localhost:8080/"
        },
        "outputId": "05a8725b-428c-4bd7-dc34-a6f685e393cc"
      },
      "source": [
        "\"Brasil\" == \"Brasil\""
      ],
      "execution_count": null,
      "outputs": [
        {
          "output_type": "execute_result",
          "data": {
            "text/plain": [
              "True"
            ]
          },
          "metadata": {},
          "execution_count": 39
        }
      ]
    },
    {
      "cell_type": "code",
      "metadata": {
        "id": "wXHG9ZztJqMN",
        "colab": {
          "base_uri": "https://localhost:8080/"
        },
        "outputId": "729ccd44-b707-43ef-ab1f-e370f14e7708"
      },
      "source": [
        "\"Brasil\" == \"brasil\""
      ],
      "execution_count": null,
      "outputs": [
        {
          "output_type": "execute_result",
          "data": {
            "text/plain": [
              "False"
            ]
          },
          "metadata": {},
          "execution_count": 42
        }
      ]
    },
    {
      "cell_type": "code",
      "metadata": {
        "id": "9nDb7xbdJo-l"
      },
      "source": [
        "cadena = \"Manuel Montoya\""
      ],
      "execution_count": null,
      "outputs": []
    },
    {
      "cell_type": "code",
      "metadata": {
        "id": "9dc-zY1-Jo0S",
        "colab": {
          "base_uri": "https://localhost:8080/",
          "height": 35
        },
        "outputId": "1aa76d3d-4e52-4e58-a33d-dddc59406d24"
      },
      "source": [
        "cadena.upper() # a mayusculas"
      ],
      "execution_count": null,
      "outputs": [
        {
          "output_type": "execute_result",
          "data": {
            "text/plain": [
              "'MANUEL MONTOYA'"
            ],
            "application/vnd.google.colaboratory.intrinsic+json": {
              "type": "string"
            }
          },
          "metadata": {},
          "execution_count": 44
        }
      ]
    },
    {
      "cell_type": "code",
      "metadata": {
        "id": "Z_qickFjJong",
        "colab": {
          "base_uri": "https://localhost:8080/",
          "height": 35
        },
        "outputId": "f8c35554-b16b-4f65-880c-11f9d38c4e94"
      },
      "source": [
        "cadena.lower() # a minisculas"
      ],
      "execution_count": null,
      "outputs": [
        {
          "output_type": "execute_result",
          "data": {
            "text/plain": [
              "'manuel montoya'"
            ],
            "application/vnd.google.colaboratory.intrinsic+json": {
              "type": "string"
            }
          },
          "metadata": {},
          "execution_count": 46
        }
      ]
    },
    {
      "cell_type": "code",
      "metadata": {
        "id": "PDha9EDdJoUZ"
      },
      "source": [
        ""
      ],
      "execution_count": null,
      "outputs": []
    },
    {
      "cell_type": "markdown",
      "metadata": {
        "id": "49q42vMDZ5dF"
      },
      "source": [
        "## Ingreso de valores por el usuario"
      ]
    },
    {
      "cell_type": "code",
      "metadata": {
        "id": "YJcDSFVT-4EP",
        "colab": {
          "base_uri": "https://localhost:8080/",
          "height": 52
        },
        "outputId": "069ae6c4-6958-482f-cc72-2c4c413c4085"
      },
      "source": [
        "input() # para guardar una cadena escirta por el usuario"
      ],
      "execution_count": null,
      "outputs": [
        {
          "name": "stdout",
          "output_type": "stream",
          "text": [
            "Me llamo Luis\n"
          ]
        },
        {
          "output_type": "execute_result",
          "data": {
            "text/plain": [
              "'Me llamo Luis'"
            ],
            "application/vnd.google.colaboratory.intrinsic+json": {
              "type": "string"
            }
          },
          "metadata": {},
          "execution_count": 48
        }
      ]
    },
    {
      "cell_type": "code",
      "metadata": {
        "id": "_YSQiZZ--31j",
        "colab": {
          "base_uri": "https://localhost:8080/"
        },
        "outputId": "c6f81711-e15d-49e0-95fc-607103b97184"
      },
      "source": [
        "nombre = input(\"Ingrese su nombre:\")"
      ],
      "execution_count": null,
      "outputs": [
        {
          "name": "stdout",
          "output_type": "stream",
          "text": [
            "Ingrese su nombre:Luis\n"
          ]
        }
      ]
    },
    {
      "cell_type": "code",
      "metadata": {
        "id": "MEMydhjcA76h",
        "colab": {
          "base_uri": "https://localhost:8080/",
          "height": 35
        },
        "outputId": "a84e5eeb-9a1e-4852-e863-c9e99c551551"
      },
      "source": [
        "nombre"
      ],
      "execution_count": null,
      "outputs": [
        {
          "output_type": "execute_result",
          "data": {
            "text/plain": [
              "'Luis'"
            ],
            "application/vnd.google.colaboratory.intrinsic+json": {
              "type": "string"
            }
          },
          "metadata": {},
          "execution_count": 50
        }
      ]
    },
    {
      "cell_type": "code",
      "metadata": {
        "id": "863pYN86BP9I",
        "colab": {
          "base_uri": "https://localhost:8080/"
        },
        "outputId": "7fb14f7f-658f-4960-9271-c384e57acfb3"
      },
      "source": [
        "edad = input(\"Ingrese su edad: \")"
      ],
      "execution_count": null,
      "outputs": [
        {
          "name": "stdout",
          "output_type": "stream",
          "text": [
            "Ingrese su edad: 31\n"
          ]
        }
      ]
    },
    {
      "cell_type": "code",
      "metadata": {
        "id": "jy_tjoSTC1nQ",
        "colab": {
          "base_uri": "https://localhost:8080/"
        },
        "outputId": "cdbeba9f-a2af-4854-ace7-1398776f58b7"
      },
      "source": [
        "type(edad) # se guarda la edad como texto"
      ],
      "execution_count": null,
      "outputs": [
        {
          "output_type": "execute_result",
          "data": {
            "text/plain": [
              "str"
            ]
          },
          "metadata": {},
          "execution_count": 53
        }
      ]
    },
    {
      "cell_type": "code",
      "metadata": {
        "id": "gZwa-R-DCSmY",
        "colab": {
          "base_uri": "https://localhost:8080/"
        },
        "outputId": "5fc7ebb3-90cb-4449-a675-442297537895"
      },
      "source": [
        "edad = int(edad)\n",
        "type(edad)"
      ],
      "execution_count": null,
      "outputs": [
        {
          "output_type": "execute_result",
          "data": {
            "text/plain": [
              "int"
            ]
          },
          "metadata": {},
          "execution_count": 54
        }
      ]
    },
    {
      "cell_type": "code",
      "metadata": {
        "id": "_uyGeGyQCRmS",
        "colab": {
          "base_uri": "https://localhost:8080/",
          "height": 34
        },
        "outputId": "ac69c5b5-0e6b-4ea1-f36d-307a6bf621e7"
      },
      "source": [
        "edad"
      ],
      "execution_count": null,
      "outputs": [
        {
          "output_type": "execute_result",
          "data": {
            "text/plain": [
              "45"
            ]
          },
          "metadata": {
            "tags": []
          },
          "execution_count": 163
        }
      ]
    },
    {
      "cell_type": "markdown",
      "metadata": {
        "id": "nx4IcYMxpYyl"
      },
      "source": [
        "# Ejercicios con operadores"
      ]
    },
    {
      "cell_type": "markdown",
      "metadata": {
        "id": "QcfgX0xhDUNT"
      },
      "source": [
        "**¿Cuántos segundos hay en un día?**\n",
        "\n",
        "* 1 minuto tiene 60 segundos\n",
        "* 1 hora tiene 60 minutos\n",
        "* 1 día tiene 24 horas"
      ]
    },
    {
      "cell_type": "code",
      "metadata": {
        "id": "EX7bAAqQDZpP",
        "colab": {
          "base_uri": "https://localhost:8080/"
        },
        "outputId": "4fd4827c-17dd-4605-9d0c-24b063a28537"
      },
      "source": [
        "segundos_por_dia = 24 * 60 * 60\n",
        "segundos_por_dia"
      ],
      "execution_count": null,
      "outputs": [
        {
          "output_type": "execute_result",
          "data": {
            "text/plain": [
              "86400"
            ]
          },
          "metadata": {},
          "execution_count": 58
        }
      ]
    },
    {
      "cell_type": "code",
      "metadata": {
        "id": "jSVOvbZXDZmk",
        "colab": {
          "base_uri": "https://localhost:8080/"
        },
        "outputId": "bb3dee0c-03b9-4e91-ffcc-a942bc450231"
      },
      "source": [
        "segundos_por_semana = segundos_por_dia * 7\n",
        "segundos_por_semana"
      ],
      "execution_count": null,
      "outputs": [
        {
          "output_type": "execute_result",
          "data": {
            "text/plain": [
              "604800"
            ]
          },
          "metadata": {},
          "execution_count": 59
        }
      ]
    },
    {
      "cell_type": "markdown",
      "metadata": {
        "id": "oh4tonHNDZYc"
      },
      "source": [
        "**Calcular el monto a pagar por un préstamo** \n",
        "\n",
        "Las variables de entrada son:\n",
        "\n",
        "```\n",
        "m : monto prestado\n",
        "n : número de meses que dura el préstamo\n",
        "i : tasa de interés mensual\n",
        "```\n",
        "\n",
        "El monto final a pagar por el préstamo se calcula multiplicando el monto prestado por uno más el interés elevado a la candidad de meses que dura el préstamo."
      ]
    },
    {
      "cell_type": "markdown",
      "metadata": {
        "id": "vd_SZa3MDZRX"
      },
      "source": [
        "<img src = \"https://latex.codecogs.com/gif.latex?%5CLARGE%20M%20%3D%20m%20*%20%281%20&plus;%20i%29%5En\">"
      ]
    },
    {
      "cell_type": "code",
      "metadata": {
        "id": "dQT-E8TqDZBw"
      },
      "source": [
        "m = 10000\n",
        "i = 0.05\n",
        "n = 12"
      ],
      "execution_count": null,
      "outputs": []
    },
    {
      "cell_type": "code",
      "metadata": {
        "id": "LIxqXVLoDUJL",
        "colab": {
          "base_uri": "https://localhost:8080/"
        },
        "outputId": "3a7e9489-26dd-480a-f55a-622f7d1da8a6"
      },
      "source": [
        "monto_pago = m * (1 + i) ** n\n",
        "monto_pago"
      ],
      "execution_count": null,
      "outputs": [
        {
          "output_type": "execute_result",
          "data": {
            "text/plain": [
              "17958.5632602213"
            ]
          },
          "metadata": {},
          "execution_count": 57
        }
      ]
    },
    {
      "cell_type": "code",
      "source": [
        ""
      ],
      "metadata": {
        "id": "e275ZVIH6Daq"
      },
      "execution_count": null,
      "outputs": []
    }
  ]
}