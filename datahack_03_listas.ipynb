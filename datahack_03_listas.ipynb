{
  "nbformat": 4,
  "nbformat_minor": 0,
  "metadata": {
    "colab": {
      "name": "datahack-03-listas.ipynb",
      "provenance": [],
      "collapsed_sections": [],
      "include_colab_link": true
    },
    "kernelspec": {
      "display_name": "Python 3",
      "language": "python",
      "name": "python3"
    },
    "language_info": {
      "codemirror_mode": {
        "name": "ipython",
        "version": 3
      },
      "file_extension": ".py",
      "mimetype": "text/x-python",
      "name": "python",
      "nbconvert_exporter": "python",
      "pygments_lexer": "ipython3",
      "version": "3.7.4"
    }
  },
  "cells": [
    {
      "cell_type": "markdown",
      "metadata": {
        "id": "view-in-github",
        "colab_type": "text"
      },
      "source": [
        "<a href=\"https://colab.research.google.com/github/Luis-Amagua/Python_para_todos_curso/blob/main/datahack_03_listas.ipynb\" target=\"_parent\"><img src=\"https://colab.research.google.com/assets/colab-badge.svg\" alt=\"Open In Colab\"/></a>"
      ]
    },
    {
      "cell_type": "markdown",
      "metadata": {
        "id": "Z0D1aWhDIOll"
      },
      "source": [
        "# Datahack - Listas"
      ]
    },
    {
      "cell_type": "markdown",
      "metadata": {
        "id": "VHbJJLkbZ5dn"
      },
      "source": [
        "# Listas"
      ]
    },
    {
      "cell_type": "code",
      "metadata": {
        "id": "YyEH6KyDcaIo"
      },
      "source": [
        "lista = [3, 3.1416, \"Manuel\", True] # diferente tipo de datos"
      ],
      "execution_count": null,
      "outputs": []
    },
    {
      "cell_type": "code",
      "metadata": {
        "id": "taE7P9r3cZ_3",
        "colab": {
          "base_uri": "https://localhost:8080/"
        },
        "outputId": "60a389f7-8794-4b39-efe6-730549ecb801"
      },
      "source": [
        "lista"
      ],
      "execution_count": null,
      "outputs": [
        {
          "output_type": "execute_result",
          "data": {
            "text/plain": [
              "[3, 3.1416, 'Manuel', True]"
            ]
          },
          "metadata": {},
          "execution_count": 2
        }
      ]
    },
    {
      "cell_type": "code",
      "metadata": {
        "id": "gN2UAu8McZ4u",
        "colab": {
          "base_uri": "https://localhost:8080/"
        },
        "outputId": "e59dde83-d135-499e-93d8-e475ab0ef977"
      },
      "source": [
        "lista[0]"
      ],
      "execution_count": null,
      "outputs": [
        {
          "output_type": "execute_result",
          "data": {
            "text/plain": [
              "3"
            ]
          },
          "metadata": {},
          "execution_count": 3
        }
      ]
    },
    {
      "cell_type": "code",
      "metadata": {
        "id": "DkVSAFN5cZ0c",
        "colab": {
          "base_uri": "https://localhost:8080/"
        },
        "outputId": "1037659a-d64d-4557-d0fa-ffac96eb8ca7"
      },
      "source": [
        "lista[1]"
      ],
      "execution_count": null,
      "outputs": [
        {
          "output_type": "execute_result",
          "data": {
            "text/plain": [
              "3.1416"
            ]
          },
          "metadata": {},
          "execution_count": 4
        }
      ]
    },
    {
      "cell_type": "code",
      "metadata": {
        "id": "jrgjnFB_cZzM",
        "colab": {
          "base_uri": "https://localhost:8080/",
          "height": 35
        },
        "outputId": "f26090df-e583-4c60-f2c5-eafc9556725b"
      },
      "source": [
        "lista[2]"
      ],
      "execution_count": null,
      "outputs": [
        {
          "output_type": "execute_result",
          "data": {
            "text/plain": [
              "'Manuel'"
            ],
            "application/vnd.google.colaboratory.intrinsic+json": {
              "type": "string"
            }
          },
          "metadata": {},
          "execution_count": 5
        }
      ]
    },
    {
      "cell_type": "code",
      "metadata": {
        "id": "scCrgc9icZsN",
        "colab": {
          "base_uri": "https://localhost:8080/"
        },
        "outputId": "31f2000f-41fb-4d66-da4c-3546558db8bb"
      },
      "source": [
        "lista[3]"
      ],
      "execution_count": null,
      "outputs": [
        {
          "output_type": "execute_result",
          "data": {
            "text/plain": [
              "True"
            ]
          },
          "metadata": {},
          "execution_count": 6
        }
      ]
    },
    {
      "cell_type": "code",
      "metadata": {
        "id": "GckeuI-LcZlC",
        "colab": {
          "base_uri": "https://localhost:8080/"
        },
        "outputId": "049b5b83-c457-4aeb-fe17-b728e3047718"
      },
      "source": [
        "lista[-1]"
      ],
      "execution_count": null,
      "outputs": [
        {
          "output_type": "execute_result",
          "data": {
            "text/plain": [
              "True"
            ]
          },
          "metadata": {},
          "execution_count": 7
        }
      ]
    },
    {
      "cell_type": "code",
      "metadata": {
        "id": "LAKkXODccZjt",
        "colab": {
          "base_uri": "https://localhost:8080/",
          "height": 35
        },
        "outputId": "9fe35bea-ab99-4aec-b252-4459c4c165ab"
      },
      "source": [
        "lista[-2]"
      ],
      "execution_count": null,
      "outputs": [
        {
          "output_type": "execute_result",
          "data": {
            "text/plain": [
              "'Manuel'"
            ],
            "application/vnd.google.colaboratory.intrinsic+json": {
              "type": "string"
            }
          },
          "metadata": {},
          "execution_count": 8
        }
      ]
    },
    {
      "cell_type": "code",
      "metadata": {
        "id": "Fd4veUgQcZfW",
        "colab": {
          "base_uri": "https://localhost:8080/",
          "height": 166
        },
        "outputId": "6e1f4c2f-174e-493a-d457-7b4a158cf9e3"
      },
      "source": [
        "lista[-5]"
      ],
      "execution_count": null,
      "outputs": [
        {
          "output_type": "error",
          "ename": "IndexError",
          "evalue": "ignored",
          "traceback": [
            "\u001b[0;31m---------------------------------------------------------------------------\u001b[0m",
            "\u001b[0;31mIndexError\u001b[0m                                Traceback (most recent call last)",
            "\u001b[0;32m<ipython-input-9-f77280923dce>\u001b[0m in \u001b[0;36m<module>\u001b[0;34m()\u001b[0m\n\u001b[0;32m----> 1\u001b[0;31m \u001b[0mlista\u001b[0m\u001b[0;34m[\u001b[0m\u001b[0;34m-\u001b[0m\u001b[0;36m5\u001b[0m\u001b[0;34m]\u001b[0m\u001b[0;34m\u001b[0m\u001b[0;34m\u001b[0m\u001b[0m\n\u001b[0m",
            "\u001b[0;31mIndexError\u001b[0m: list index out of range"
          ]
        }
      ]
    },
    {
      "cell_type": "markdown",
      "metadata": {
        "id": "G6w_7A_IcZeD"
      },
      "source": [
        "# Slicing de listas"
      ]
    },
    {
      "cell_type": "code",
      "metadata": {
        "id": "1dYQkKsDcZZu"
      },
      "source": [
        "lista = [10, 20, 30, 40, 50, 60, 70, 80, 90, 100]"
      ],
      "execution_count": null,
      "outputs": []
    },
    {
      "cell_type": "code",
      "metadata": {
        "id": "kpZc5gFMcZW0",
        "colab": {
          "base_uri": "https://localhost:8080/"
        },
        "outputId": "6cee9490-65c4-418a-892e-672c4de4ec94"
      },
      "source": [
        "lista[2:7] # el primer elemento se incluye y el final NO se incluye"
      ],
      "execution_count": null,
      "outputs": [
        {
          "output_type": "execute_result",
          "data": {
            "text/plain": [
              "[30, 40, 50, 60, 70]"
            ]
          },
          "metadata": {},
          "execution_count": 11
        }
      ]
    },
    {
      "cell_type": "code",
      "metadata": {
        "id": "nVxyjBDicZNu",
        "colab": {
          "base_uri": "https://localhost:8080/"
        },
        "outputId": "803f4785-ae43-4af6-c66c-7e7b89d9f99c"
      },
      "source": [
        "lista[2:-2]"
      ],
      "execution_count": null,
      "outputs": [
        {
          "output_type": "execute_result",
          "data": {
            "text/plain": [
              "[30, 40, 50, 60, 70, 80]"
            ]
          },
          "metadata": {},
          "execution_count": 12
        }
      ]
    },
    {
      "cell_type": "code",
      "metadata": {
        "id": "SRFr5h69fcsX"
      },
      "source": [
        "a = lista[2:-2]"
      ],
      "execution_count": null,
      "outputs": []
    },
    {
      "cell_type": "code",
      "metadata": {
        "id": "0GvUDHFqfck1",
        "colab": {
          "base_uri": "https://localhost:8080/"
        },
        "outputId": "355ec876-e9d8-4127-9aa3-c8dc61da428b"
      },
      "source": [
        "type(a) # retorna una lista "
      ],
      "execution_count": null,
      "outputs": [
        {
          "output_type": "execute_result",
          "data": {
            "text/plain": [
              "list"
            ]
          },
          "metadata": {},
          "execution_count": 15
        }
      ]
    },
    {
      "cell_type": "markdown",
      "metadata": {
        "id": "9OEVZ4DYLsJP"
      },
      "source": [
        "# Slicing de listas II"
      ]
    },
    {
      "cell_type": "code",
      "metadata": {
        "id": "r9oaMIrcLsAR"
      },
      "source": [
        "lista = [10, 20, 30, 40, 50, 60, 70, 80, 90, 100]"
      ],
      "execution_count": null,
      "outputs": []
    },
    {
      "cell_type": "code",
      "metadata": {
        "id": "P_Df97M4MiBc",
        "colab": {
          "base_uri": "https://localhost:8080/"
        },
        "outputId": "924b340e-c7e0-404e-b1eb-2ec9fc0695a0"
      },
      "source": [
        "lista[2:8]"
      ],
      "execution_count": null,
      "outputs": [
        {
          "output_type": "execute_result",
          "data": {
            "text/plain": [
              "[30, 40, 50, 60, 70, 80]"
            ]
          },
          "metadata": {},
          "execution_count": 17
        }
      ]
    },
    {
      "cell_type": "code",
      "metadata": {
        "id": "Eh2XRO2eMh6X",
        "colab": {
          "base_uri": "https://localhost:8080/"
        },
        "outputId": "87bb4565-c69c-49fa-eb20-a39ce04a4f5c"
      },
      "source": [
        "lista[2:8:2]"
      ],
      "execution_count": null,
      "outputs": [
        {
          "output_type": "execute_result",
          "data": {
            "text/plain": [
              "[30, 50, 70]"
            ]
          },
          "metadata": {},
          "execution_count": 18
        }
      ]
    },
    {
      "cell_type": "code",
      "metadata": {
        "id": "INMIsbhHMhzL",
        "colab": {
          "base_uri": "https://localhost:8080/"
        },
        "outputId": "fc020fb0-40e0-4673-dff0-4edf57c32e01"
      },
      "source": [
        "lista[2::3]"
      ],
      "execution_count": null,
      "outputs": [
        {
          "output_type": "execute_result",
          "data": {
            "text/plain": [
              "[30, 60, 90]"
            ]
          },
          "metadata": {},
          "execution_count": 19
        }
      ]
    },
    {
      "cell_type": "code",
      "metadata": {
        "id": "Ams00_i6Mhsb",
        "colab": {
          "base_uri": "https://localhost:8080/"
        },
        "outputId": "27c82cb1-6eb7-456b-f71c-0da2238ccfbc"
      },
      "source": [
        "lista[::-1]"
      ],
      "execution_count": null,
      "outputs": [
        {
          "output_type": "execute_result",
          "data": {
            "text/plain": [
              "[100, 90, 80, 70, 60, 50, 40, 30, 20, 10]"
            ]
          },
          "metadata": {},
          "execution_count": 20
        }
      ]
    },
    {
      "cell_type": "code",
      "metadata": {
        "id": "3PnlRI1NMhqT",
        "colab": {
          "base_uri": "https://localhost:8080/"
        },
        "outputId": "51db6eb2-0937-4b0c-a9d4-95914ebf0451"
      },
      "source": [
        "lista[::-2]"
      ],
      "execution_count": null,
      "outputs": [
        {
          "output_type": "execute_result",
          "data": {
            "text/plain": [
              "[100, 80, 60, 40, 20]"
            ]
          },
          "metadata": {},
          "execution_count": 21
        }
      ]
    },
    {
      "cell_type": "markdown",
      "metadata": {
        "id": "e-MQLTJ3fceC"
      },
      "source": [
        "# Operaciones con listas"
      ]
    },
    {
      "cell_type": "code",
      "metadata": {
        "id": "LLoXllhMiUHY"
      },
      "source": [
        "lista = [10, 20, 30, 40, 50, 60, 70, 80, 90, 100]\n",
        "lista2 = [1,2,3,4,5]"
      ],
      "execution_count": null,
      "outputs": []
    },
    {
      "cell_type": "code",
      "metadata": {
        "id": "ZbdovW2diP-a",
        "colab": {
          "base_uri": "https://localhost:8080/"
        },
        "outputId": "f206ec40-0e72-4d7f-a56f-1c0b89729604"
      },
      "source": [
        "lista + lista2"
      ],
      "execution_count": null,
      "outputs": [
        {
          "output_type": "execute_result",
          "data": {
            "text/plain": [
              "[10, 20, 30, 40, 50, 60, 70, 80, 90, 100, 1, 2, 3, 4, 5]"
            ]
          },
          "metadata": {},
          "execution_count": 23
        }
      ]
    },
    {
      "cell_type": "code",
      "metadata": {
        "id": "uJETs79viP3Q",
        "colab": {
          "base_uri": "https://localhost:8080/"
        },
        "outputId": "e16f7984-60ef-4a89-ff1d-6ba43a5b7feb"
      },
      "source": [
        "lista2 + lista"
      ],
      "execution_count": null,
      "outputs": [
        {
          "output_type": "execute_result",
          "data": {
            "text/plain": [
              "[1, 2, 3, 4, 5, 10, 20, 30, 40, 50, 60, 70, 80, 90, 100]"
            ]
          },
          "metadata": {},
          "execution_count": 24
        }
      ]
    },
    {
      "cell_type": "code",
      "metadata": {
        "id": "y0HmgVFJiPq5",
        "colab": {
          "base_uri": "https://localhost:8080/"
        },
        "outputId": "80cebcbe-de30-4b17-9120-7cc9ffaa446f"
      },
      "source": [
        "lista2 * 5"
      ],
      "execution_count": null,
      "outputs": [
        {
          "output_type": "execute_result",
          "data": {
            "text/plain": [
              "[1, 2, 3, 4, 5, 1, 2, 3, 4, 5, 1, 2, 3, 4, 5, 1, 2, 3, 4, 5, 1, 2, 3, 4, 5]"
            ]
          },
          "metadata": {},
          "execution_count": 25
        }
      ]
    },
    {
      "cell_type": "code",
      "metadata": {
        "id": "mofxFwMhi4h0",
        "colab": {
          "base_uri": "https://localhost:8080/",
          "height": 166
        },
        "outputId": "0056b7b1-1d76-41be-bbe5-7704532b8685"
      },
      "source": [
        "lista * lista2"
      ],
      "execution_count": null,
      "outputs": [
        {
          "output_type": "error",
          "ename": "TypeError",
          "evalue": "ignored",
          "traceback": [
            "\u001b[0;31m---------------------------------------------------------------------------\u001b[0m",
            "\u001b[0;31mTypeError\u001b[0m                                 Traceback (most recent call last)",
            "\u001b[0;32m<ipython-input-26-0cae3de1b66b>\u001b[0m in \u001b[0;36m<module>\u001b[0;34m()\u001b[0m\n\u001b[0;32m----> 1\u001b[0;31m \u001b[0mlista\u001b[0m \u001b[0;34m*\u001b[0m \u001b[0mlista2\u001b[0m\u001b[0;34m\u001b[0m\u001b[0;34m\u001b[0m\u001b[0m\n\u001b[0m",
            "\u001b[0;31mTypeError\u001b[0m: can't multiply sequence by non-int of type 'list'"
          ]
        }
      ]
    },
    {
      "cell_type": "code",
      "metadata": {
        "id": "BB4v8moufcY7",
        "colab": {
          "base_uri": "https://localhost:8080/",
          "height": 166
        },
        "outputId": "5960b0f4-ce40-427f-e671-d404fa89d1f7"
      },
      "source": [
        "lista2 / 5"
      ],
      "execution_count": null,
      "outputs": [
        {
          "output_type": "error",
          "ename": "TypeError",
          "evalue": "ignored",
          "traceback": [
            "\u001b[0;31m---------------------------------------------------------------------------\u001b[0m",
            "\u001b[0;31mTypeError\u001b[0m                                 Traceback (most recent call last)",
            "\u001b[0;32m<ipython-input-27-c7da7bd616ee>\u001b[0m in \u001b[0;36m<module>\u001b[0;34m()\u001b[0m\n\u001b[0;32m----> 1\u001b[0;31m \u001b[0mlista2\u001b[0m \u001b[0;34m/\u001b[0m \u001b[0;36m5\u001b[0m\u001b[0;34m\u001b[0m\u001b[0;34m\u001b[0m\u001b[0m\n\u001b[0m",
            "\u001b[0;31mTypeError\u001b[0m: unsupported operand type(s) for /: 'list' and 'int'"
          ]
        }
      ]
    },
    {
      "cell_type": "markdown",
      "metadata": {
        "id": "Xi-CbHg8fcXU"
      },
      "source": [
        "# len, append, insert, pop, remove"
      ]
    },
    {
      "cell_type": "code",
      "metadata": {
        "id": "WNeq-iD5fcO-"
      },
      "source": [
        "lista = [10, 20, 30, 40, 50, 60, 70, 80, 90, 100]"
      ],
      "execution_count": null,
      "outputs": []
    },
    {
      "cell_type": "code",
      "metadata": {
        "id": "4FWqkb28fcH5",
        "colab": {
          "base_uri": "https://localhost:8080/"
        },
        "outputId": "c92228b1-3767-4174-a1ec-e2cc916977b0"
      },
      "source": [
        "len(lista)"
      ],
      "execution_count": null,
      "outputs": [
        {
          "output_type": "execute_result",
          "data": {
            "text/plain": [
              "10"
            ]
          },
          "metadata": {},
          "execution_count": 29
        }
      ]
    },
    {
      "cell_type": "code",
      "metadata": {
        "id": "ErKV_youfb_m"
      },
      "source": [
        "lista.append(110)"
      ],
      "execution_count": null,
      "outputs": []
    },
    {
      "cell_type": "code",
      "metadata": {
        "id": "-WBaWqlnjl2r",
        "colab": {
          "base_uri": "https://localhost:8080/"
        },
        "outputId": "1942c29f-0c26-422f-82d8-a71f24c9a220"
      },
      "source": [
        "lista"
      ],
      "execution_count": null,
      "outputs": [
        {
          "output_type": "execute_result",
          "data": {
            "text/plain": [
              "[10, 20, 30, 40, 50, 60, 70, 80, 90, 100, 110, 120, 120]"
            ]
          },
          "metadata": {},
          "execution_count": 34
        }
      ]
    },
    {
      "cell_type": "code",
      "source": [
        "lista.append(120)"
      ],
      "metadata": {
        "id": "H_cVVvBoX56a"
      },
      "execution_count": null,
      "outputs": []
    },
    {
      "cell_type": "code",
      "metadata": {
        "id": "ZkXyTVJ1jlmA"
      },
      "source": [
        "lista.insert(5, -100) # insertar en posicion determinada"
      ],
      "execution_count": null,
      "outputs": []
    },
    {
      "cell_type": "code",
      "metadata": {
        "id": "HogGRKlAjlkH",
        "colab": {
          "base_uri": "https://localhost:8080/"
        },
        "outputId": "95bf0594-99d4-434d-9db0-cf7af239398a"
      },
      "source": [
        "lista"
      ],
      "execution_count": null,
      "outputs": [
        {
          "output_type": "execute_result",
          "data": {
            "text/plain": [
              "[10, 20, 30, 40, 50, -100, -100, 60, 70, 80, 90, 100, 110, 120, 120]"
            ]
          },
          "metadata": {},
          "execution_count": 37
        }
      ]
    },
    {
      "cell_type": "code",
      "metadata": {
        "id": "vVsoXFFTjlc2"
      },
      "source": [
        "lista = [10, 20, 30, 40, 50, 60, 70, 80, 90, 100]"
      ],
      "execution_count": null,
      "outputs": []
    },
    {
      "cell_type": "code",
      "metadata": {
        "id": "Jzyfg3jtjlWP",
        "colab": {
          "base_uri": "https://localhost:8080/"
        },
        "outputId": "840a3a75-3166-4ec3-b7a2-3d6484bbf8ba"
      },
      "source": [
        "lista.pop(5) # elimina el elemento que esta en esa posicion "
      ],
      "execution_count": null,
      "outputs": [
        {
          "output_type": "execute_result",
          "data": {
            "text/plain": [
              "60"
            ]
          },
          "metadata": {},
          "execution_count": 39
        }
      ]
    },
    {
      "cell_type": "code",
      "source": [
        "lista"
      ],
      "metadata": {
        "colab": {
          "base_uri": "https://localhost:8080/"
        },
        "id": "gXYFvb1rYaqN",
        "outputId": "9977a054-c59a-45a3-afcc-9c1ddeaf7bb1"
      },
      "execution_count": null,
      "outputs": [
        {
          "output_type": "execute_result",
          "data": {
            "text/plain": [
              "[10, 20, 30, 40, 50, 70, 80, 90, 100]"
            ]
          },
          "metadata": {},
          "execution_count": 40
        }
      ]
    },
    {
      "cell_type": "code",
      "metadata": {
        "id": "qhDFo9X9jlMG"
      },
      "source": [
        "a = lista.pop(4) # capturo el elemento y lo almaeno"
      ],
      "execution_count": null,
      "outputs": []
    },
    {
      "cell_type": "code",
      "metadata": {
        "id": "SUz3AOUsZ5dn",
        "colab": {
          "base_uri": "https://localhost:8080/"
        },
        "outputId": "60b7fdaa-81ba-4dc8-df2e-8fadf2989e8c"
      },
      "source": [
        "a\n"
      ],
      "execution_count": null,
      "outputs": [
        {
          "output_type": "execute_result",
          "data": {
            "text/plain": [
              "50"
            ]
          },
          "metadata": {},
          "execution_count": 42
        }
      ]
    },
    {
      "cell_type": "code",
      "metadata": {
        "id": "oRt8ECAFsy3X",
        "colab": {
          "base_uri": "https://localhost:8080/"
        },
        "outputId": "bcf50725-1d40-4e80-cda4-31ca932de5d2"
      },
      "source": [
        "lista"
      ],
      "execution_count": null,
      "outputs": [
        {
          "output_type": "execute_result",
          "data": {
            "text/plain": [
              "[10, 20, 30, 40, 70, 80, 90, 100]"
            ]
          },
          "metadata": {},
          "execution_count": 43
        }
      ]
    },
    {
      "cell_type": "code",
      "metadata": {
        "id": "KjQedWJLZ5do"
      },
      "source": [
        "lista.remove(70) # elimina el valor"
      ],
      "execution_count": null,
      "outputs": []
    },
    {
      "cell_type": "code",
      "metadata": {
        "id": "NRuMhy19Z5do",
        "colab": {
          "base_uri": "https://localhost:8080/"
        },
        "outputId": "0143d98c-3cd6-4408-91fd-a50dcf6f3a26"
      },
      "source": [
        "lista"
      ],
      "execution_count": null,
      "outputs": [
        {
          "output_type": "execute_result",
          "data": {
            "text/plain": [
              "[10, 20, 30, 40, 80, 90, 100]"
            ]
          },
          "metadata": {},
          "execution_count": 45
        }
      ]
    },
    {
      "cell_type": "markdown",
      "metadata": {
        "id": "UY690em-Z5dp"
      },
      "source": [
        "# Ordenar y reemplazar elementos"
      ]
    },
    {
      "cell_type": "code",
      "metadata": {
        "id": "DEFJ5SVSZ5dq"
      },
      "source": [
        "lista = [40, 50, 12, 14, 98, 34, -20]"
      ],
      "execution_count": null,
      "outputs": []
    },
    {
      "cell_type": "code",
      "metadata": {
        "id": "-WV71awJpAG7"
      },
      "source": [
        "lista.reverse() # ordena en orden inverso(no hace falta tener ordenado)"
      ],
      "execution_count": null,
      "outputs": []
    },
    {
      "cell_type": "code",
      "metadata": {
        "id": "4Lrr4nFLo_hz",
        "colab": {
          "base_uri": "https://localhost:8080/"
        },
        "outputId": "9fccbefa-19b7-4c29-bb82-51bb6bc6e539"
      },
      "source": [
        "lista"
      ],
      "execution_count": null,
      "outputs": [
        {
          "output_type": "execute_result",
          "data": {
            "text/plain": [
              "[-20, 34, 98, 14, 12, 50, 40]"
            ]
          },
          "metadata": {},
          "execution_count": 59
        }
      ]
    },
    {
      "cell_type": "code",
      "metadata": {
        "id": "aYFxSlPtZ5dq"
      },
      "source": [
        "lista[2] = -12 # reemplazo la posicion 2 de la lista"
      ],
      "execution_count": null,
      "outputs": []
    },
    {
      "cell_type": "code",
      "metadata": {
        "id": "vropajp2Z5dr",
        "colab": {
          "base_uri": "https://localhost:8080/"
        },
        "outputId": "ae8ebbbb-f8d6-4e9f-f6fa-9cb4ff5eff69"
      },
      "source": [
        "lista"
      ],
      "execution_count": null,
      "outputs": [
        {
          "output_type": "execute_result",
          "data": {
            "text/plain": [
              "[40, 50, -12, 14, 98, 34, -20]"
            ]
          },
          "metadata": {},
          "execution_count": 49
        }
      ]
    },
    {
      "cell_type": "code",
      "metadata": {
        "id": "2jKqq2zwZ5ds"
      },
      "source": [
        "lista.sort() # ordena de manor a mayor"
      ],
      "execution_count": null,
      "outputs": []
    },
    {
      "cell_type": "code",
      "metadata": {
        "id": "lqI3vdGtZ5dt",
        "colab": {
          "base_uri": "https://localhost:8080/"
        },
        "outputId": "95c4631b-b590-4ee8-970a-9e96aadba268"
      },
      "source": [
        "lista"
      ],
      "execution_count": null,
      "outputs": [
        {
          "output_type": "execute_result",
          "data": {
            "text/plain": [
              "[-20, 12, 14, 34, 40, 50, 98]"
            ]
          },
          "metadata": {},
          "execution_count": 62
        }
      ]
    },
    {
      "cell_type": "code",
      "metadata": {
        "id": "GSOie0U6Z5dt"
      },
      "source": [
        "lista.reverse() # cambia el orden"
      ],
      "execution_count": null,
      "outputs": []
    },
    {
      "cell_type": "code",
      "metadata": {
        "id": "qvMsVlgQZ5du",
        "colab": {
          "base_uri": "https://localhost:8080/"
        },
        "outputId": "0ec8f764-aad2-40c8-a0df-b23772824544"
      },
      "source": [
        "lista"
      ],
      "execution_count": null,
      "outputs": [
        {
          "output_type": "execute_result",
          "data": {
            "text/plain": [
              "[98, 50, 40, 34, 14, 12, -20]"
            ]
          },
          "metadata": {},
          "execution_count": 64
        }
      ]
    },
    {
      "cell_type": "markdown",
      "metadata": {
        "id": "3dMOBFBiZ5dv"
      },
      "source": [
        "# sum, min, max"
      ]
    },
    {
      "cell_type": "code",
      "metadata": {
        "id": "3zs3eXnjZ5dw"
      },
      "source": [
        "lista = [40, 50, 12, 14, 98, 34, -20]"
      ],
      "execution_count": null,
      "outputs": []
    },
    {
      "cell_type": "code",
      "metadata": {
        "id": "96YC-ImSZ5dw",
        "colab": {
          "base_uri": "https://localhost:8080/"
        },
        "outputId": "8033a646-42d2-4285-d377-41de13eb26bf"
      },
      "source": [
        "sum(lista)"
      ],
      "execution_count": null,
      "outputs": [
        {
          "output_type": "execute_result",
          "data": {
            "text/plain": [
              "228"
            ]
          },
          "metadata": {},
          "execution_count": 66
        }
      ]
    },
    {
      "cell_type": "code",
      "metadata": {
        "id": "yom5ztHHZ5dy",
        "colab": {
          "base_uri": "https://localhost:8080/"
        },
        "outputId": "c2da8d1f-4a70-4f29-d5e7-45d803c61b8c"
      },
      "source": [
        "min(lista)"
      ],
      "execution_count": null,
      "outputs": [
        {
          "output_type": "execute_result",
          "data": {
            "text/plain": [
              "-20"
            ]
          },
          "metadata": {},
          "execution_count": 67
        }
      ]
    },
    {
      "cell_type": "code",
      "metadata": {
        "id": "fe4Y6aVsprVx",
        "colab": {
          "base_uri": "https://localhost:8080/"
        },
        "outputId": "a9d0b9b9-26b0-45ac-d5be-214e60435bd8"
      },
      "source": [
        "max(lista)"
      ],
      "execution_count": null,
      "outputs": [
        {
          "output_type": "execute_result",
          "data": {
            "text/plain": [
              "98"
            ]
          },
          "metadata": {},
          "execution_count": 68
        }
      ]
    },
    {
      "cell_type": "markdown",
      "metadata": {
        "id": "_yUVK-BxprTY"
      },
      "source": [
        "# Listas y strings"
      ]
    },
    {
      "cell_type": "code",
      "metadata": {
        "id": "nr9y4scGprMM"
      },
      "source": [
        "lista = [40, 50, 12, 14, 98, 34, -20]"
      ],
      "execution_count": null,
      "outputs": []
    },
    {
      "cell_type": "code",
      "metadata": {
        "id": "V0_ZLmInprAe"
      },
      "source": [
        "saludo = \"Hola, Manuel, mucho gusto\" # es una lista de caracter, actua como lista"
      ],
      "execution_count": null,
      "outputs": []
    },
    {
      "cell_type": "code",
      "metadata": {
        "id": "3T5q3slxqM3a",
        "colab": {
          "base_uri": "https://localhost:8080/"
        },
        "outputId": "ee45d494-d4b1-471a-af00-4de9f06048f4"
      },
      "source": [
        "lista[3]"
      ],
      "execution_count": null,
      "outputs": [
        {
          "output_type": "execute_result",
          "data": {
            "text/plain": [
              "14"
            ]
          },
          "metadata": {},
          "execution_count": 73
        }
      ]
    },
    {
      "cell_type": "code",
      "source": [
        "nombre = \"gaseosa\" \n",
        "nombre[1] == nombre[-1]"
      ],
      "metadata": {
        "colab": {
          "base_uri": "https://localhost:8080/"
        },
        "id": "bOmJhnzVayJO",
        "outputId": "31848770-193f-43b1-eefa-2988821f55f3"
      },
      "execution_count": null,
      "outputs": [
        {
          "output_type": "execute_result",
          "data": {
            "text/plain": [
              "True"
            ]
          },
          "metadata": {},
          "execution_count": 93
        }
      ]
    },
    {
      "cell_type": "code",
      "metadata": {
        "id": "jIIywT6Vq-9Q",
        "colab": {
          "base_uri": "https://localhost:8080/",
          "height": 35
        },
        "outputId": "1e3464b8-4b87-44c7-f492-8b484fd3dd5a"
      },
      "source": [
        "saludo[3]"
      ],
      "execution_count": null,
      "outputs": [
        {
          "output_type": "execute_result",
          "data": {
            "text/plain": [
              "'a'"
            ],
            "application/vnd.google.colaboratory.intrinsic+json": {
              "type": "string"
            }
          },
          "metadata": {},
          "execution_count": 74
        }
      ]
    },
    {
      "cell_type": "code",
      "metadata": {
        "id": "J04vqO2Iq-7C",
        "colab": {
          "base_uri": "https://localhost:8080/",
          "height": 35
        },
        "outputId": "50d968ba-c0b7-4f9b-d9e4-b6242f5442d4"
      },
      "source": [
        "saludo[6:12]"
      ],
      "execution_count": null,
      "outputs": [
        {
          "output_type": "execute_result",
          "data": {
            "text/plain": [
              "'Manuel'"
            ],
            "application/vnd.google.colaboratory.intrinsic+json": {
              "type": "string"
            }
          },
          "metadata": {},
          "execution_count": 75
        }
      ]
    },
    {
      "cell_type": "markdown",
      "metadata": {
        "id": "lbLtwDy2q-0u"
      },
      "source": [
        "# Listas y strings: Mutabilidad\n"
      ]
    },
    {
      "cell_type": "code",
      "metadata": {
        "id": "s6jwRPSCq-yn"
      },
      "source": [
        "# una lista es un elemento mutable porque puedo reemplazar elementos,\n",
        "# pero una cadena de strings NO\n",
        "lista = [40, 50, 12, 14, 98, 34, -20]\n",
        "saludo = \"Hola, Manuel, mucho gusto\""
      ],
      "execution_count": null,
      "outputs": []
    },
    {
      "cell_type": "code",
      "metadata": {
        "id": "Sd1t97uWruzr"
      },
      "source": [
        "lista[4] = 12345"
      ],
      "execution_count": null,
      "outputs": []
    },
    {
      "cell_type": "code",
      "metadata": {
        "id": "8-YqcdlVrurp",
        "colab": {
          "base_uri": "https://localhost:8080/"
        },
        "outputId": "568b2b30-3911-4915-d886-31087614e914"
      },
      "source": [
        "lista"
      ],
      "execution_count": null,
      "outputs": [
        {
          "output_type": "execute_result",
          "data": {
            "text/plain": [
              "[40, 50, 12, 14, 12345, 34, -20]"
            ]
          },
          "metadata": {},
          "execution_count": 5
        }
      ]
    },
    {
      "cell_type": "code",
      "metadata": {
        "id": "j7tzmb1GrupC",
        "colab": {
          "base_uri": "https://localhost:8080/",
          "height": 166
        },
        "outputId": "089e3ac6-2ecf-4673-e31e-d2619e5f823b"
      },
      "source": [
        "saludo[4] = \"F\""
      ],
      "execution_count": null,
      "outputs": [
        {
          "output_type": "error",
          "ename": "TypeError",
          "evalue": "ignored",
          "traceback": [
            "\u001b[0;31m---------------------------------------------------------------------------\u001b[0m",
            "\u001b[0;31mTypeError\u001b[0m                                 Traceback (most recent call last)",
            "\u001b[0;32m<ipython-input-6-4cdacf5b8b96>\u001b[0m in \u001b[0;36m<module>\u001b[0;34m()\u001b[0m\n\u001b[0;32m----> 1\u001b[0;31m \u001b[0msaludo\u001b[0m\u001b[0;34m[\u001b[0m\u001b[0;36m4\u001b[0m\u001b[0;34m]\u001b[0m \u001b[0;34m=\u001b[0m \u001b[0;34m\"F\"\u001b[0m\u001b[0;34m\u001b[0m\u001b[0;34m\u001b[0m\u001b[0m\n\u001b[0m",
            "\u001b[0;31mTypeError\u001b[0m: 'str' object does not support item assignment"
          ]
        }
      ]
    },
    {
      "cell_type": "code",
      "source": [
        ""
      ],
      "metadata": {
        "id": "von29AUpWBFA"
      },
      "execution_count": null,
      "outputs": []
    }
  ]
}